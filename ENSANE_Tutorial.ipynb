{
 "cells": [
  {
   "cell_type": "markdown",
   "metadata": {},
   "source": [
    "# Tutorial for ENSANE (Enhanced iNSANE)"
   ]
  },
  {
   "cell_type": "markdown",
   "metadata": {},
   "source": [
    "The main code of ENSANE was created independently from insane, but the lipid, solvent and protein definitions used in insane have been converted to ENSANE data format."
   ]
  },
  {
   "cell_type": "markdown",
   "metadata": {},
   "source": [
    "# General feature overview:"
   ]
  },
  {
   "cell_type": "markdown",
   "metadata": {},
   "source": [
    "General:\n",
    "- Can be either imported and run from a script or run from the terminal\n",
    "- Currently can only be used to create a \"cubic\" (rectangular) box\n",
    "\n",
    "Membrane creation:\n",
    "- All membranes are created in the xy-plane.\n",
    "- Individual leaflets in membranes can be created independent of each other.\n",
    "- Any number of membranes can be created, though overlaps between different membranes is not checked for, so use with caution.\n",
    "- The number of lipids in a leaflet is calculated exactly, based on the APL (area per lipid) of the leaflet, taking into account the leaflet surface area occupied by proteins.\n",
    "- All calculations are done on a leaflet-by-leaflet basis\n",
    "- Multiple methods available for optimizing ratio between lipid types within a given leaflet\n",
    "\n",
    "Protein insertion:\n",
    "- Structure files (pdb/gro) can be inserted as \"proteins\"\n",
    "- Any number of structures files can be given\n",
    "- Structures can be moved and rotated based on the structure's center\n",
    "  - Multiple methods available for designating the structure's center\n",
    "\n",
    "Solvation:\n",
    "- The number of non-ionic solvent molecules is calculated based on the free volume of the box\n",
    "  - The free volume is estimated using the number of other particles present in the box\n",
    "- The number of ionic solvent molecules is calculated based on the solvent volume\n",
    "  - Estimated using the number of non-ionic solvent particles created using the same command\n",
    "- Solvent placement algorithm ensures no solvent is placed within the hydrophobic volume of membranes and ensures a minimum distance between solvent and other particles\n",
    "- Any number of solvations can be given\n",
    "- Solvent molecules can be contain any number of beads but must currently be a single residue\n",
    "- Structures (pdb/gro) can be imported and used as solvent molecules but must currently be a single residue\n",
    "\n",
    "Charge calculations:\n",
    "- Topology files can be given from which charge information will be read\n",
    "- Understands definitions and recursively runs \"#include Path/To/top.itp\" statements\n",
    "  - For definitions and #include statements to work correctly they must be given in the same order as one would use for \"gmx grompp\"\n",
    "- Lipids and solvent will their names directly correlated with names in the topology\n",
    "- Protein files must have their name(s) specified in their command\n",
    "\n",
    "Dev-related features\n",
    "- 2D visualizations of leaflets with intersecting protein beads can be plotted\n",
    "- The system data can be pickled for later examination"
   ]
  },
  {
   "cell_type": "markdown",
   "metadata": {},
   "source": [
    "# ENSANE workflow\n",
    "A point is only run if its prerequisites are fulfilled\n",
    "1. Ensure commands given are understood\n",
    "1. Process imported topology file(s)\n",
    "1. Import structures to structure libraries\n",
    "1. Preprocess lipid definitions\n",
    "1. Preprocess protein, leaflet and solvent commands\n",
    "1. Membrane/leaflet initial creation\n",
    "1. Protein placement\n",
    "1. Leaflet-protein overlap checks if both leaflets and proteins are present\n",
    "1. Adjust leaflets if overlaps are found\n",
    "1. Solvate the system\n",
    "1. Plotting and pickling if requested\n",
    "1. pdb/gro, top and log files are written\n",
    "\n"
   ]
  },
  {
   "cell_type": "markdown",
   "metadata": {},
   "source": [
    "# Command and subcommand syntax"
   ]
  },
  {
   "cell_type": "markdown",
   "metadata": {
    "ExecuteTime": {
     "end_time": "2023-05-28T09:06:56.595187Z",
     "start_time": "2023-05-28T09:06:56.588635Z"
    }
   },
   "source": [
    "ENSANE functions on a system of commands and subcommands as shown here:\\\n",
    "Run from script:\n",
    "- ENSANE(box = [10,10,10], prot = \"Structure.pdb prot_name:PROTEIN1:LIGAND1\")\n",
    "\n",
    "Run from command line:\n",
    "- python ESNANE.py -box 10 10 10 -prot Structure.pdb prot_name:PROTEIN1:LIGAND1\n",
    "\n",
    "Here the main command is \"prot\"/\"-prot\". For \"prot\" specifically the first subcommand given must be the name of the file to be used.\n",
    "\n",
    "Subsequent subcommands are given as SETTING:VAL1:VAL2:VAL3 pairs where the string prior to the first colon designates the setting to be changed, while following values separated by colons are the values to be given to the setting.\n",
    "\n",
    "The number of values a setting can be given depends on the specific setting.\n",
    "\n",
    "Subcommands given to a command call only affects that specific command\n",
    "\n",
    "*Note that when run from a script, if one wants multiple calls to any given command (such as \"prot\") then each call must be an individual string contained in a list. When running from the command line one must instead give each command call as a separate \"-prot\" command. Such as here:*\n",
    "\n",
    "Run from script:\n",
    "- ENSANE(box = [10,10,10], prot = [\"Struc1.pdb prot_name:PROTEIN1:LIGAND1\", \"Struc2.pdb prot_name:PROTEIN2:LIGAND2\"])\n",
    "\n",
    "Run from command line:\n",
    "- python ESNANE.py -box 10 10 10 -prot Struc1.pdb prot_name:PROTEIN1:LIGAND1 -prot Struc2.pdb prot_name:PROTEIN2:LIGAND2\n"
   ]
  },
  {
   "cell_type": "markdown",
   "metadata": {},
   "source": [
    "# Importing and command explanations"
   ]
  },
  {
   "cell_type": "markdown",
   "metadata": {},
   "source": [
    "This section will explain the various commands and showcase some of their more useful subcommands"
   ]
  },
  {
   "cell_type": "markdown",
   "metadata": {},
   "source": [
    "## Packages"
   ]
  },
  {
   "cell_type": "markdown",
   "metadata": {},
   "source": [
    "The following packages are needed for all features of ENSANE to run:\n",
    "- ast\n",
    "- itertools\n",
    "- re\n",
    "- math\n",
    "- re\n",
    "- numpy as np\n",
    "- random\n",
    "- copy\n",
    "- scipy.spatial\n",
    "- alphashape\n",
    "- shapely\n",
    "- shapely.plotting\n",
    "- inspect\n",
    "- sys\n",
    "- os\n",
    "- argparse\n",
    "- matplotlib\n",
    "- pickle"
   ]
  },
  {
   "cell_type": "markdown",
   "metadata": {},
   "source": [
    "## General system commands"
   ]
  },
  {
   "cell_type": "markdown",
   "metadata": {},
   "source": [
    "The \"-box X Y Z\" command is used to set the sidelengths of the box in x/y/z. The commands \"x\"/\"y\"/\"z\" can instead be used to set the coordinates individually\n",
    "- box = [10, 10, 10]\n",
    "- x = 10, y = 10, z = 10\n",
    "\n",
    "The \"-ff string\" command can be used to set the \"standard\" force field used \"leaf\" and \"solv\" commands. This can be used to have multiple versions of the lipid. \"ff\" can also be set individually per \"leaf\"/\"solv\" command or for specific lipids/solvents, but that will be shown further down.\n",
    "- ff = \"M3\" (default)\n",
    "- ff = \"dev18\"\n",
    "- ff = \"PhosV13\"\n",
    "\n",
    "The \"-sn string\" command can be used to set the name of the outputted system.\n",
    "- sn = \"Tutorial System\"\n",
    "\n",
    "The \"-rand number\" command can be used to set the random seed.\n",
    "- rand = 5\n",
    "\n",
    "\"-h\" will cause the program to print the help.\n"
   ]
  },
  {
   "cell_type": "markdown",
   "metadata": {},
   "source": [
    "## Protein insertions (\"prot\" / \"-prot\")"
   ]
  },
  {
   "cell_type": "markdown",
   "metadata": {},
   "source": [
    "The \"prot\" command is used to insert structures into specific positions\n",
    "\n",
    "The first subcommand must always be a path to the file that is to be imported\n",
    "- prot = \"Protein.pdb\"\n",
    "\n",
    "The structure can be moved using tx/ty/tz (in nm) and rotated using rx/ry/rz (in degrees)\n",
    "- prot = \"Protein.pdb tx:5 tz:3 ry:90\"\n",
    "\n",
    "The centering method can be changed using \"cen_method\" and has the following uses:\n",
    "- \"cen_method:mean\" - Centers on the mean coordinate of all beads (default)\n",
    "- \"cen_method:axis\" - Centers on the axial mean coordinate\n",
    "- \"cen_method:bead:**beadnr**\" - Centers on a specific bead number\n",
    "- \"cen_method:res:**resnr**\" - Centers on the mean coordinate of a specific residue number\n",
    "- \"cen_method:point:**x**:**y**:**z**\" - Centers on a specific point. Uses the coordinate system of the imported file.\n",
    "\n",
    "If one wants to use topology files to obtain the charge of a structure then the name(s) to be found can be designated used \"prot_names\". If protein names cannot be found in the topology then the program will revert to looking up amino acid charges.\n",
    "- prot = \"Protein.pdb prot_names:PROTEIN1:LIGAND1:LIGAND1\"\n",
    "- This will ensure that the charge from both PROTEIN1 and two instances of LIGAND1 are considered\n",
    "\n"
   ]
  },
  {
   "cell_type": "markdown",
   "metadata": {},
   "source": [
    "## Membrane (leaflet) creation (\"leaf\" / \"-leaf\")"
   ]
  },
  {
   "cell_type": "markdown",
   "metadata": {},
   "source": [
    "The \"leaf\" command is used to create membranes.\n",
    "\n",
    "Lipids can be added to a \"leaf\" command by simply adding their name to the command along with a number indicating the ratios between lipids in the leaflet. If another string is added after the number, then the lipid will be looked for in that specific force field.\n",
    "- leaf = \"POPC:5 POPE:2.5 CHOL:1:dev18\"\n",
    "\n",
    "The \"ff\" subcommand can be used to set the default force field for the specific \"leaf\" command. Lipid-specific ff designations overwrites the leaflet ff designation if given:\n",
    "- leaf = \"POPC:5 POPE:2.5 CHOL:1:dev18 ff:PhosDev13\" - POPC and POPE would use \"PhosDev13\" and CHOL would use \"dev18\"\n",
    "\n",
    "Whether a \"leaf\" command should create a \"bilayer\", or standalone \"upper\" or \"lower\" leaflets can be designated using the \"type\" subcommand:\n",
    "- \"type:bilayer\" (default)\n",
    "- \"type:upper\"\n",
    "- \"type:lower\"\n",
    "\n",
    "Asymmetry can be created thusly:\n",
    "- leaf = [\"type:upper POPC:5 POPE:2 CHOL:1:dev18\", \"type:lower POPC:3 POPE:3 CHOL:2:dev18\"]\n",
    "\n",
    "Leaflets will by default fill the entire xy-plane but their sizes can be changed using x/y along with their center. This can be used to create patch with different starting lipid compositions. Note that the system is centrosymmetric during calculations so center commands should be given based on that and be in ${nm}$. It should also be noted that each leaflet is treated independently in calculations and thus APL calculations might be slightly off due to multiple roundings.\n",
    "- box = [10,10,10], leaf = [\"POPC:5 CHOL:1 x:5 center:2.5:0:0\", \"POPC:4 CHOL:2 x:5 center:-2.5:0:0\"]\n",
    "\n",
    "Leaflet APL can be set using \"apl\" and should be given in ${nm^2}$\n",
    "\n",
    "The method used for converting lipid ratios to actual lipids can be chosen using \"lipid_optim\"\n",
    "- \"lipid_optim:avg_optimal\" (default) - Lipids are optimized such that the mean lipid deviation from the expected ratios is used.\n",
    "- \"lipid_optim:abs_val\" - Treats lipid ratios as actual number of lipids\n",
    "- \"lipid_optim:fill\" - Attempts to fill the leaflet regardsless of how skewed the ratios would become. Stops if perfect ratio reached\n",
    "- \"lipid_optim:force_fill\" - Same as \"fill\" but forces the leaflet to be filled completely\n",
    "- \"lipid_optim:no\" - Does not attempt to optimize the lipid ratios (Works identically to insane.py)\n",
    "\n",
    "\n",
    "\n"
   ]
  },
  {
   "cell_type": "markdown",
   "metadata": {},
   "source": [
    "## Solvations (\"solv\" / \"-solv\")"
   ]
  },
  {
   "cell_type": "markdown",
   "metadata": {},
   "source": [
    "The \"solv\" command is used to solvate the system.\n",
    "\n",
    "Non-ionic solvent can be added using \"solv\" while positive and negative ionic solvent can be added using \"pos\" and \"neg\" respectively:\n",
    "- solv = \"solv:W pos:NA neg:CL\"\n",
    "\n",
    "The \"ff\" subcommand can be used to set the default force field for the specific \"solv\" command. solvent-specific ff designations are currently not available:\n",
    "\n",
    "Different solvents and ions can be added in different ratios designated by a number after the solvent name:\n",
    "- solv = \"solv:W:5 solv:SW:2 pos:NA:5 pos:CA:1 neg:CL\"\n",
    "\n",
    "The molarity (atomistic molarity) of the solvent and ions can be set using \"solv_molarity\" and \"salt_molarity\" respectively\n",
    "- solv = \"solv:W pos:NA neg:CL solv_molarity:55.56 salt_molarity:0.15\" (default values shown)\n",
    "\n",
    "\n",
    "Multiple solvations can be made to for example insert X number of ligands. Note that the solvation command that fills the box with water and ions should go last. The \"count\" command makes it such that the molarity is consideres as the actual number of solvent molecules.\n",
    "- solv = [\"solv:TRP count:True solv_molarity:20\", \"solv:W pos:NA neg:CL\"]\n"
   ]
  },
  {
   "cell_type": "markdown",
   "metadata": {},
   "source": [
    "## Import structures for solvations (\"imp_struc\" / \"-imp_struc\")"
   ]
  },
  {
   "cell_type": "markdown",
   "metadata": {},
   "source": [
    "The \"imp_struc\" command can be used to import single-residue structures, which are added to the solvent/ion libraries.\n",
    "\n",
    "The first subcommand should be a path to the structure file. By default the structures will be placed in the ff \"imp\" but it can be changed using the \"ff\" subcommand. The structures contained can then be used as shown:\n",
    "- imp_struc = [\"Extra_ions.gro ff:M3\", \"ligands.pdb ff:ligands\", \"lipids_in_solv.pdb ff:lipids\"]\n",
    "- solv = [\"solv:LIG1 count:True solv_molarity:20 ff:ligands\", \"solv:W pos:NA neg:CL\"]\n"
   ]
  },
  {
   "cell_type": "markdown",
   "metadata": {},
   "source": [
    "# Example commands"
   ]
  },
  {
   "cell_type": "code",
   "execution_count": 22,
   "metadata": {
    "ExecuteTime": {
     "end_time": "2023-05-29T07:48:58.087226Z",
     "start_time": "2023-05-29T07:48:58.083259Z"
    }
   },
   "outputs": [],
   "source": [
    "from ENSANE import ENSANE\n",
    "''' Very simple system\n",
    "\n",
    "Contains a symmetric membrane composed of POPC and CHOL in a 5:1 ratio\n",
    "\n",
    "The system is solvated using default molarities for water, potassium ions and chloride ions\n",
    "\n",
    "Charge data is gathered from the \"top_for_ENSANE.top\" file\n",
    "\n",
    "Output file names are automatically generated as \"output.pdb\" and \"topol.top\" and no log file is written\n",
    "'''\n",
    "### From script:\n",
    "ENSANE(\n",
    "    pbc = [10, 10, 10],\n",
    "    leaf = \"POPC:5 CHOL:1\",\n",
    "    solv = \"solv:W pos:NA neg:CL\",\n",
    "    imp_top = \"top_for_ENSANE.top\",\n",
    "    backup = False,\n",
    ")\n",
    "### From terminal:\n",
    "# The \\ indicates a continuation of the command on the next line\n",
    "cmd = \"python ENSANE.py \\\n",
    "-box 10 10 10 \\\n",
    "-leaf POPC:5 CHOL:1 \\\n",
    "-solv solv:W pos:NA neg:CL \\\n",
    "-imp_top top_for_ENSANE.top\""
   ]
  },
  {
   "cell_type": "code",
   "execution_count": 23,
   "metadata": {
    "ExecuteTime": {
     "end_time": "2023-05-29T07:49:06.245155Z",
     "start_time": "2023-05-29T07:49:06.242559Z"
    }
   },
   "outputs": [],
   "source": [
    "from ENSANE import ENSANE\n",
    "''' Simple system\n",
    "\n",
    "Contains a symmetric membrane composed of POPC and CHOL in a 4.7:1.3 ratio with an APL of 0.536\n",
    "causing more lipids to be placed in the membrane than with the default APL of 0.6\n",
    "\n",
    "A protein is inserted at the center of the system with its topology name being \"PROT_1\"\n",
    "\n",
    "The system is solvated using default molarities for water, potassium ions and chloride ions\n",
    "\n",
    "Charge data is gathered from the \"top_for_ENSANE.top\" file\n",
    "\n",
    "Written files are given custom names and a log file is written\n",
    "'''\n",
    "\n",
    "### From script:\n",
    "ENSANE(\n",
    "    pbc = [10, 10, 10],\n",
    "    prot = \"output_martinize.pdb prot_name:PROT_1\",\n",
    "    leaf = \"apl:0.536 POPC:4.7 CHOL:1.3\",\n",
    "    solv = \"solv:W pos:NA neg:CL\",\n",
    "    imp_top = \"top_for_ENSANE.top\",\n",
    "    out = \"simple_system.pdb\",\n",
    "    top = \"simple_topol.top\",\n",
    "    log = \"Log_ENSANE_simple.txt\",\n",
    "    backup = False,\n",
    ")\n",
    "\n",
    "### From terminal:\n",
    "# The \\ indicates a continuation of the command on the next line\n",
    "cmd = \"python ENSANE.py \\\n",
    "-box 10 10 10 \\\n",
    "-prot output_martinize.pdb prot_name:PROT_1 \\\n",
    "-leaf apl:0.53632 POPC:4.7 CHOL:1.3 \\\n",
    "-solv solv:W pos:NA neg:CL \\\n",
    "-imp_top top_for_ENSANE.top \\\n",
    "-out simple_system.pdb \\\n",
    "-top simple_topol.top \\\n",
    "-log Log_ENSANE_simple.txt\""
   ]
  },
  {
   "cell_type": "code",
   "execution_count": 24,
   "metadata": {
    "ExecuteTime": {
     "end_time": "2023-05-29T07:49:12.805140Z",
     "start_time": "2023-05-29T07:49:12.802263Z"
    }
   },
   "outputs": [],
   "source": [
    "from ENSANE import ENSANE\n",
    "''' Asymmetric membrane system\n",
    "\n",
    "Contains an asymmetric membrane\n",
    "- The upper leaflet is composed of POPC and CHOL in a 4.7:1.3 ratio with an APL of 0.573 and\n",
    "- The lower leaflet is composed of POPC and CHOL in a 3.8:2.8 ratio with an APL of 0.487 and\n",
    "- The APLs will cause the lower leaflet to contain more lipids than the upper one\n",
    "\n",
    "A protein is inserted at the center of the system with its topology name being \"PROT_1\"\n",
    "\n",
    "The system is solvated using default molarities for water, potassium ions and chloride ions\n",
    "- The system contains a 5:3 ratio of regular water \"W\" to small water \"SW\"\n",
    "- The system contains a 5:1 ratio of potassium ions to calcium ions\n",
    "- The system's only negative ion is chloride\n",
    "\n",
    "Charge data is gathered from the \"top_for_ENSANE.top\" file\n",
    "\n",
    "Written files are given custom names and a log file is written\n",
    "'''\n",
    "\n",
    "\n",
    "### From script:\n",
    "ENSANE(\n",
    "    pbc = [10, 10, 10],\n",
    "    leaf = [\"type:upper apl:0.573 POPC:4.7 CHOL:1.3\", \"type:lower apl:0.487 POPC:3.8 CHOL:2.8\"],\n",
    "    solv = \"solv:W:5 solv:SW:3 pos:NA:5 pos:CA:1 neg:CL\",\n",
    "    imp_top = \"top_for_ENSANE.top\",\n",
    "    out = \"asym_system.pdb\",\n",
    "    top = \"asym_topol.top\",\n",
    "    log = \"Log_ENSANE_asym.txt\",\n",
    "    backup = False,\n",
    ")\n",
    "### From terminal:\n",
    "# The \\ indicates a continuation of the command on the next line\n",
    "cmd = \"python ENSANE.py \\\n",
    "-box 10 10 10 \\\n",
    "-leaf type:upper apl:0.573 POPC:4.7 CHOL:1.3 \\\n",
    "-leaf type:lower apl:0.487 POPC:3.8 CHOL:2.8 \\\n",
    "-solv solv:W:5 solv:SW:3 pos:NA:5 pos:CA:1 neg:CL \\\n",
    "-imp_top top_for_ENSANE.top \\\n",
    "-out asym_system.pdb \\\n",
    "-top asym_topol.top \\\n",
    "-log Log_ENSANE_simple.txt\""
   ]
  },
  {
   "cell_type": "code",
   "execution_count": null,
   "metadata": {},
   "outputs": [],
   "source": [
    "from ENSANE import ENSANE\n",
    "''' Flooding with imported ligand system\n",
    "\n",
    "Contains a symmetric membrane composed of POPC and CHOL in a 5:1 ratio with the default APL of 0.6\n",
    "\n",
    "A protein is inserted at the center of the system with its topology name being \"PROT_1\"\n",
    "\n",
    "The system is solvated first with 30 molecules if LIG1 after which it is solvated\n",
    "using default molarities for water, potassium ions and chloride ions\n",
    "\n",
    "Charge data is gathered from the \"top_for_ENSANE.top\" file\n",
    "\n",
    "Written files are given custom names and a log file is written\n",
    "'''\n",
    "\n",
    "\n",
    "### From script:\n",
    "ENSANE(\n",
    "    pbc = [10, 10, 10],\n",
    "    prot = \"output_martinize.pdb prot_name:PROT_1\",\n",
    "    leaf = \"POPC:5 CHOL:1\",\n",
    "    solv = [\"solv:LIG1 count:True solv_molarity:30 ff:Ligands\", \"solv:W pos:NA neg:CL\"],\n",
    "    imp_top = \"top_for_ENSANE.top\",\n",
    "    imp_struc = \"Ligand.pdb\",\n",
    "    out = \"flooding_system.pdb\",\n",
    "    top = \"flooding_topol.top\",\n",
    "    log = \"Log_ENSANE_simple.txt\",\n",
    "    backup = False,\n",
    ")\n",
    "\n",
    "### From terminal:\n",
    "# The \\ indicates a continuation of the command on the next line\n",
    "cmd = \"python ENSANE.py \\\n",
    "-box 10 10 10 \\\n",
    "-prot output_martinize.pdb prot_name:PROT_1 \\\n",
    "-leaf POPC:5 CHOL:1 \\\n",
    "-solv solv:LIG1 count:True solv_molarity:30 ff:Ligands \\\n",
    "-solv solv:W pos:NA neg:CL \\\n",
    "-imp_top top_for_ENSANE.top \\\n",
    "-imp_struc Ligand.pdb ff:Ligands \\\n",
    "-out flooding_system.pdb \\\n",
    "-top flooding_topol.top \\\n",
    "-log Log_ENSANE_simple.txt\""
   ]
  }
 ],
 "metadata": {
  "hide_input": false,
  "kernelspec": {
   "display_name": "Python 3 (ipykernel)",
   "language": "python",
   "name": "python3"
  },
  "language_info": {
   "codemirror_mode": {
    "name": "ipython",
    "version": 3
   },
   "file_extension": ".py",
   "mimetype": "text/x-python",
   "name": "python",
   "nbconvert_exporter": "python",
   "pygments_lexer": "ipython3",
   "version": "3.9.16"
  },
  "toc": {
   "base_numbering": 1,
   "nav_menu": {},
   "number_sections": true,
   "sideBar": true,
   "skip_h1_title": false,
   "title_cell": "Table of Contents",
   "title_sidebar": "Contents",
   "toc_cell": false,
   "toc_position": {},
   "toc_section_display": true,
   "toc_window_display": false
  }
 },
 "nbformat": 4,
 "nbformat_minor": 4
}
