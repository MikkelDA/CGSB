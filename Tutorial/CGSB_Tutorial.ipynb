{
 "cells": [
  {
   "cell_type": "markdown",
   "metadata": {},
   "source": [
    "# Preface"
   ]
  },
  {
   "cell_type": "markdown",
   "metadata": {},
   "source": [
    "The main code of CGSB was created independently from insane, but the lipid, solvent and protein definitions used in insane have been converted to the new CGSB data format.\n",
    "\n",
    "The program is still under active development so certain features may not have been fully implemented yet and there may be bugs. Please report any bugs you find."
   ]
  },
  {
   "cell_type": "markdown",
   "metadata": {
    "heading_collapsed": true
   },
   "source": [
    "# Basic System"
   ]
  },
  {
   "cell_type": "code",
   "execution_count": 12,
   "metadata": {
    "ExecuteTime": {
     "end_time": "2023-10-17T08:48:34.580523Z",
     "start_time": "2023-10-17T08:48:33.861033Z"
    },
    "hidden": true,
    "scrolled": true
   },
   "outputs": [
    {
     "name": "stdout",
     "output_type": "stream",
     "text": [
      "\n",
      "Setting random seed to: 1697532514\n",
      "------------------------------ PREPROCESSING\n",
      "Preprocessing lipid definitions\n",
      "    Number of lipids preprocessed: 106 \n",
      "\n",
      "Preprocessing solvent definitions\n",
      "WARNING: moleculetype 'Ex_Sol' for solute name 'solute' not found in topology\n",
      "    Number of solvents preprocessed: 23 \n",
      "\n",
      "Preprocessing ion definitions\n",
      "WARNING: moleculetype 'Ex_Sol' for solute name 'solute' not found in topology\n",
      "WARNING: moleculetype 'Ex_Sol' for solute name 'solute' not found in topology\n",
      "    Number of positive ions preprocessed: 4\n",
      "    Number of negative ions preprocessed: 10\n",
      "\n",
      "Preprocessing membrane requests\n",
      "    Starting membrane command: 1\n",
      "    Number of membranes preprocessed: 1\n",
      "\n",
      "Preprocessing solvent requests\n",
      "    Starting Solvent command: 1\n",
      "    Number of solvent commands preprocessed: 1\n",
      "------------------------------ PREPROCESSING COMPLETE (time spent: 0.0105 [s]) \n",
      "\n",
      "------------------------------ CREATING LEAFLET BOUNDARY BOXES\n",
      "Starting membrane nr 1\n",
      "    Starting upper leaflet\n",
      "        Base parameters: x=10.0nm y=10.0nm APL=0.6nm^2\n",
      "    Starting lower leaflet\n",
      "        Base parameters: x=10.0nm y=10.0nm APL=0.6nm^2\n",
      "------------------------------ LEAFLET BOUNDARY BOXES CREATED (time spent: 0.0016 [s]) \n",
      "\n",
      "------------------------------ CREATING HOLED BOUNDARY BOXES\n",
      "Starting membrane nr 1\n",
      "\n",
      "    Calculating holed boundary box\n",
      "        Starting upper leaflet\n",
      "        Starting lower leaflet\n",
      "------------------------------ HOLED BOUNDARY BOXES CREATED (time spent: 0.0004 [s]) \n",
      "\n",
      "------------------------------ CALCULATING LIPID RATIOS\n",
      "Starting membrane nr 1\n",
      "    Starting upper leaflet\n",
      "        Lipid optimization 'lipid_optim' setting: avg_optimal\n",
      "            Optimizing based on the average deviation from expected ratios\n",
      "        Final deviations from expected ratios: Difference in %-values\n",
      "            Maximum: 0.0\n",
      "            Average: 0.0\n",
      "            Minimum: 0.0\n",
      "        Leaflet specific lipid data (Max lipids: 167, Final lipids: 167)\n",
      "            Lipid name : Final lipids : Final % : Expected % : Starting % : Starting lipids\n",
      "            POPC       : 167          : 100.0   : 100.0      : 100.0      : 167            \n",
      "\n",
      "    Starting lower leaflet\n",
      "        Lipid optimization 'lipid_optim' setting: avg_optimal\n",
      "            Optimizing based on the average deviation from expected ratios\n",
      "        Final deviations from expected ratios: Difference in %-values\n",
      "            Maximum: 0.0\n",
      "            Average: 0.0\n",
      "            Minimum: 0.0\n",
      "        Leaflet specific lipid data (Max lipids: 167, Final lipids: 167)\n",
      "            Lipid name : Final lipids : Final % : Expected % : Starting % : Starting lipids\n",
      "            POPC       : 167          : 100.0   : 100.0      : 100.0      : 167            \n",
      "\n",
      "Lipid data for whole system\n",
      "            Lipid name : Total lipids : Total %\n",
      "            POPC       : 334          : 100.0  \n",
      "------------------------------ LIPID RATIO CALCULATIONS COMPLETE (time spent: 0.0009 [s]) \n",
      "\n",
      "------------------------------ CREATING LIPID GRID\n",
      "Starting membrane nr 1\n",
      "    Starting upper leaflet\n",
      "        Starting optimization\n",
      "            CURRENT STEP: 1 2 3 \n",
      "            Last step:          3\n",
      "            Optimization time:  0.0424 [s]\n",
      "            Mean step time:     0.0 [s]\n",
      "\n",
      "    Starting lower leaflet\n",
      "        Starting optimization\n",
      "            CURRENT STEP: 1 2 3 \n",
      "            Last step:          3\n",
      "            Optimization time:  0.0364 [s]\n",
      "            Mean step time:     0.0 [s]\n",
      "------------------------------ LIPID GRID CREATED (time spent: 0.0929 [s]) \n",
      "\n",
      "------------------------------ CREATING LIPIDS\n",
      "Starting membrane nr 1\n",
      "    Starting upper leaflet\n",
      "    Starting lower leaflet\n",
      "------------------------------ LIPID CREATION COMPLETE (time spent: 0.0684 [s]) \n",
      "\n",
      "------------------------------ SOLVATING SYSTEM\n",
      "Starting solvation nr 1\n",
      "    Calculating box volume: (all values in [nm^3])\n",
      "        Bead radius used for volume calculations 'bead_radius': 2.64 [Å]\n",
      "        Box volume:             1000.0\n",
      "        Lipid volume:           308.907\n",
      "        Protein volume:         0\n",
      "        (Prior) Solvent volume: 0.0\n",
      "        Excluded volume:        308.907\n",
      "        Free volume:            691.093\n",
      "        Solvent volume:         693.933\n",
      "        \n",
      "    Calculating the number of available grid points\n",
      "    Final number of 3D grid points available for solvent placement: 27445\n",
      "    Inserting 5904 solvent molecules into random grid points:\n",
      "        Currently at solvent number: 1\n",
      "        Currently at solvent number: 5904\n",
      "\n",
      "Solvent data for whole system\n",
      "        Name : Totals : Total % : Molarity(box) : Molarity(free) : Molarity(solvent) : Charge\n",
      "        W    : 5780   : 97.9    : 9.598         : 13.888         : 13.831            : 0     \n",
      "        NA   : 62     : 1.05    : 0.103         : 0.149          : 0.148             : 1     \n",
      "        CL   : 62     : 1.05    : 0.103         : 0.149          : 0.148             : -1    \n",
      "------------------------------ SOLVATION COMPLETE (time spent: 0.2276 [s]) \n",
      "\n",
      "--------------------\n",
      "Final system charge: 0\n",
      "-------------------- \n",
      "\n",
      "Writing structure files (PDB/GRO)\n",
      "---- PDB file written: output_test_systems/Basic/output_Basic.pdb\n",
      "---- GRO file written: output_test_systems/Basic/output_Basic.gro\n",
      "\n",
      "Writing topology file: output_test_systems/Basic/topol_Basic.top\n",
      "---- Topology file written \n",
      "\n",
      "Writing log file file: output_test_systems/Basic/log_Basic.log\n",
      "---- Log file written \n",
      "\n",
      "My task is complete. Did i do a good job?\n",
      "Time spent running CGSB: 0.5924\n"
     ]
    }
   ],
   "source": [
    "import CGSB\n",
    "import time\n",
    "\n",
    "''' Basic\n",
    "\n",
    "Contains a symmetric membrane composed entirely of POPC\n",
    "\n",
    "The system is solvated using default molarities for water (55.56 mol/L), with an ion concentration of 0.15 mol/L using potassium ions and chloride ions\n",
    "'''\n",
    "\n",
    "sysname = \"Basic\"\n",
    "test_outdir = \"/\".join([\"output_test_systems\", sysname])\n",
    "!mkdir -p {test_outdir}\n",
    "\n",
    "CGSB_tic = time.time()\n",
    "CGSB.CGSB(\n",
    "    box = [10, 10, 10],\n",
    "    \n",
    "    membrane = \"POPC\",\n",
    "    \n",
    "    solvation = \"\", # if no command is given to solvation, then it defaults to \"solv:W pos:NA neg:CL\"\n",
    "    \n",
    "    out_sys = test_outdir + \"/\" + \"_\".join([\"output\", sysname]),\n",
    "    out_top = test_outdir + \"/\" + \"_\".join([\"topol\", sysname]) + \".top\",\n",
    "    out_log = test_outdir + \"/\" + \"_\".join([\"log\", sysname]) + \".log\",\n",
    "    \n",
    "    backup = False,\n",
    ")\n",
    "CGSB_toc = time.time()\n",
    "CGSB_time = round(CGSB_toc-CGSB_tic, 4)\n",
    "print(\"Time spent running CGSB:\", CGSB_time)\n"
   ]
  },
  {
   "cell_type": "code",
   "execution_count": null,
   "metadata": {
    "hidden": true
   },
   "outputs": [],
   "source": []
  },
  {
   "cell_type": "markdown",
   "metadata": {
    "heading_collapsed": true
   },
   "source": [
    "# Simple System"
   ]
  },
  {
   "cell_type": "code",
   "execution_count": 13,
   "metadata": {
    "ExecuteTime": {
     "end_time": "2023-10-17T08:48:35.497948Z",
     "start_time": "2023-10-17T08:48:34.585065Z"
    },
    "hidden": true
   },
   "outputs": [
    {
     "name": "stdout",
     "output_type": "stream",
     "text": [
      "\n",
      "Setting random seed to: 1697532515\n",
      "\n",
      "Loading topology file(s)\n",
      "    Finished loading topologies. Number of moleculetypes found: 221\n",
      "------------------------------ PREPROCESSING\n",
      "Preprocessing lipid definitions\n",
      "    Number of lipids preprocessed: 106 \n",
      "\n",
      "Preprocessing solvent definitions\n",
      "    Number of solvents preprocessed: 23 \n",
      "\n",
      "Preprocessing ion definitions\n",
      "    Number of positive ions preprocessed: 4\n",
      "    Number of negative ions preprocessed: 10\n",
      "\n",
      "Preprocessing membrane requests\n",
      "    Starting membrane command: 1\n",
      "    Number of membranes preprocessed: 1\n",
      "\n",
      "Preprocessing solvent requests\n",
      "    Starting Solvent command: 1\n",
      "    Number of solvent commands preprocessed: 1\n",
      "------------------------------ PREPROCESSING COMPLETE (time spent: 0.0062 [s]) \n",
      "\n",
      "------------------------------ CREATING LEAFLET BOUNDARY BOXES\n",
      "Starting membrane nr 1\n",
      "    Starting upper leaflet\n",
      "        Base parameters: x=10.0nm y=10.0nm APL=0.6nm^2\n",
      "    Starting lower leaflet\n",
      "        Base parameters: x=10.0nm y=10.0nm APL=0.6nm^2\n",
      "------------------------------ LEAFLET BOUNDARY BOXES CREATED (time spent: 0.0006 [s]) \n",
      "\n",
      "------------------------------ CREATING HOLED BOUNDARY BOXES\n",
      "Starting membrane nr 1\n",
      "\n",
      "    Calculating holed boundary box\n",
      "        Starting upper leaflet\n",
      "        Starting lower leaflet\n",
      "------------------------------ HOLED BOUNDARY BOXES CREATED (time spent: 0.0001 [s]) \n",
      "\n",
      "------------------------------ CALCULATING LIPID RATIOS\n",
      "Starting membrane nr 1\n",
      "    Starting upper leaflet\n",
      "        Lipid optimization 'lipid_optim' setting: avg_optimal\n",
      "            Optimizing based on the average deviation from expected ratios\n",
      "        Final deviations from expected ratios: Difference in %-values\n",
      "            Maximum: 0.099\n",
      "            Average: 0.099\n",
      "            Minimum: 0.099\n",
      "        Leaflet specific lipid data (Max lipids: 167, Final lipids: 167)\n",
      "            Lipid name : Final lipids : Final % : Expected % : Starting % : Starting lipids\n",
      "            POPC       : 139          : 83.234  : 83.333     : 83.735     : 139            \n",
      "            CHOL       : 28           : 16.766  : 16.667     : 16.265     : 27             \n",
      "\n",
      "    Starting lower leaflet\n",
      "        Lipid optimization 'lipid_optim' setting: avg_optimal\n",
      "            Optimizing based on the average deviation from expected ratios\n",
      "        Final deviations from expected ratios: Difference in %-values\n",
      "            Maximum: 0.099\n",
      "            Average: 0.099\n",
      "            Minimum: 0.099\n",
      "        Leaflet specific lipid data (Max lipids: 167, Final lipids: 167)\n",
      "            Lipid name : Final lipids : Final % : Expected % : Starting % : Starting lipids\n",
      "            POPC       : 139          : 83.234  : 83.333     : 83.735     : 139            \n",
      "            CHOL       : 28           : 16.766  : 16.667     : 16.265     : 27             \n",
      "\n",
      "Lipid data for whole system\n",
      "            Lipid name : Total lipids : Total %\n",
      "            POPC       : 278          : 83.234 \n",
      "            CHOL       : 56           : 16.766 \n",
      "------------------------------ LIPID RATIO CALCULATIONS COMPLETE (time spent: 0.0004 [s]) \n",
      "\n",
      "------------------------------ CREATING LIPID GRID\n",
      "Starting membrane nr 1\n",
      "    Starting upper leaflet\n",
      "        Starting optimization\n",
      "            CURRENT STEP: 1 2 3 \n",
      "            Last step:          3\n",
      "            Optimization time:  0.0413 [s]\n",
      "            Mean step time:     0.0 [s]\n",
      "\n",
      "    Starting lower leaflet\n",
      "        Starting optimization\n",
      "            CURRENT STEP: 1 2 3 \n",
      "            Last step:          3\n",
      "            Optimization time:  0.0317 [s]\n",
      "            Mean step time:     0.0 [s]\n",
      "------------------------------ LIPID GRID CREATED (time spent: 0.0806 [s]) \n",
      "\n",
      "------------------------------ CREATING LIPIDS\n",
      "Starting membrane nr 1\n",
      "    Starting upper leaflet\n",
      "    Starting lower leaflet\n",
      "------------------------------ LIPID CREATION COMPLETE (time spent: 0.0565 [s]) \n",
      "\n",
      "------------------------------ SOLVATING SYSTEM\n",
      "Starting solvation nr 1\n",
      "    Calculating box volume: (all values in [nm^3])\n",
      "        Bead radius used for volume calculations 'bead_radius': 2.64 [Å]\n",
      "        Box volume:             1000.0\n",
      "        Lipid volume:           295.959\n",
      "        Protein volume:         0\n",
      "        (Prior) Solvent volume: 0.0\n",
      "        Excluded volume:        295.959\n",
      "        Free volume:            704.041\n",
      "        Solvent volume:         707.02\n",
      "        \n",
      "    Calculating the number of available grid points\n",
      "    Final number of 3D grid points available for solvent placement: 27436\n",
      "    Inserting 6015 solvent molecules into random grid points:\n",
      "        Currently at solvent number: 1\n",
      "        Currently at solvent number: 6015\n",
      "\n",
      "Solvent data for whole system\n",
      "        Name : Totals : Total % : Molarity(box) : Molarity(free) : Molarity(solvent) : Charge\n",
      "        W    : 5889   : 97.905  : 9.779         : 13.89          : 13.831            : 0     \n",
      "        NA   : 63     : 1.047   : 0.105         : 0.149          : 0.148             : 1     \n",
      "        CL   : 63     : 1.047   : 0.105         : 0.149          : 0.148             : -1    \n",
      "------------------------------ SOLVATION COMPLETE (time spent: 0.2068 [s]) \n",
      "\n",
      "--------------------\n",
      "Final system charge: 0.0\n",
      "-------------------- \n",
      "\n",
      "Writing structure files (PDB/GRO)\n",
      "---- PDB file written: output_test_systems/Simple/output_Simple.pdb\n",
      "---- GRO file written: output_test_systems/Simple/output_Simple.gro\n",
      "\n",
      "Writing topology file: output_test_systems/Simple/topol_Simple.top\n",
      "---- Topology file written \n",
      "\n",
      "Writing log file file: output_test_systems/Simple/log_Simple.log\n",
      "---- Log file written \n",
      "\n",
      "My task is complete. Did i do a good job?\n",
      "Time spent running CGSB: 0.7841\n"
     ]
    }
   ],
   "source": [
    "import CGSB\n",
    "import time\n",
    "''' Simple\n",
    "\n",
    "Contains a symmetric membrane composed of POPC and CHOL in a 5:1 ratio\n",
    "\n",
    "The system is solvated using default molarities for water (55.56 mol/L), with an ion concentration of 0.15 mol/L using potassium ions and chloride ions\n",
    "\n",
    "Charge data is gathered from the \"top_for_CGSB.itp\"\n",
    "'''\n",
    "\n",
    "sysname = \"Simple\"\n",
    "test_outdir = \"/\".join([\"output_test_systems\", sysname])\n",
    "!mkdir -p {test_outdir}\n",
    "\n",
    "CGSB_tic = time.time()\n",
    "CGSB.CGSB(\n",
    "    box = [10, 10, 10],\n",
    "    \n",
    "    membrane = \"POPC:5 CHOL:1\",\n",
    "    \n",
    "    solvation = \"\",\n",
    "    \n",
    "    itp_input = \"top_for_CGSB.itp\",\n",
    "    \n",
    "    out_sys = test_outdir + \"/\" + \"_\".join([\"output\", sysname]),\n",
    "    out_top = test_outdir + \"/\" + \"_\".join([\"topol\", sysname]) + \".top\",\n",
    "    out_log = test_outdir + \"/\" + \"_\".join([\"log\", sysname]) + \".log\",\n",
    "    \n",
    "    backup = False,\n",
    ")\n",
    "CGSB_toc = time.time()\n",
    "CGSB_time = round(CGSB_toc-CGSB_tic, 4)\n",
    "print(\"Time spent running CGSB:\", CGSB_time)\n"
   ]
  },
  {
   "cell_type": "code",
   "execution_count": null,
   "metadata": {
    "hidden": true
   },
   "outputs": [],
   "source": []
  },
  {
   "cell_type": "markdown",
   "metadata": {
    "heading_collapsed": true
   },
   "source": [
    "# Membrane With Protein System"
   ]
  },
  {
   "cell_type": "code",
   "execution_count": null,
   "metadata": {
    "ExecuteTime": {
     "start_time": "2023-10-17T08:48:33.867Z"
    },
    "hidden": true,
    "scrolled": true
   },
   "outputs": [
    {
     "name": "stdout",
     "output_type": "stream",
     "text": [
      "\n",
      "Setting random seed to: 1697532516\n",
      "\n",
      "Loading topology file(s)\n"
     ]
    }
   ],
   "source": [
    "import CGSB\n",
    "import time\n",
    "''' Membrane With Protein\n",
    "\n",
    "Contains a symmetric membrane composed of POPC and CHOL in a 4.7:1.3 ratio with an APL of 0.536\n",
    "causing more lipids to be placed in the membrane than with the default APL of 0.6\n",
    "\n",
    "A protein is inserted at the center of the system with its topology name being \"8BB6_CG\"\n",
    "### Change protein.pdb to be your protein\n",
    "### Chain PROT_1 to be the mol_name in you .itp file\n",
    "\n",
    "The system is solvated using default molarities for water (55.56 mol/L), with an ion concentration of 0.15 mol/L using potassium ions and chloride ions\n",
    "\n",
    "Charge data is gathered from the \"top_for_CGSB.itp\" file\n",
    "\n",
    "Written files are given custom names and a log file is written\n",
    "'''\n",
    "\n",
    "sysname = \"MembraneWithProtein\"\n",
    "test_outdir = \"/\".join([\"output_test_systems\", sysname])\n",
    "!mkdir -p {test_outdir}\n",
    "\n",
    "CGSB_tic = time.time()\n",
    "CGSB.CGSB(\n",
    "    box = [10, 10, 10],\n",
    "    \n",
    "    protein = \"example_proteins/PDB_8BB6_martinized.pdb mol_names:8BB6_CG\",\n",
    "    \n",
    "    membrane = \"apl:0.536 POPC:4.7 CHOL:1.3\",\n",
    "    \n",
    "    solvation = \"\",\n",
    "    \n",
    "    itp_input = \"top_for_CGSB.itp\",\n",
    "    \n",
    "    out_sys = test_outdir + \"/\" + \"_\".join([\"output\", sysname]),\n",
    "    out_top = test_outdir + \"/\" + \"_\".join([\"topol\", sysname]) + \".top\",\n",
    "    out_log = test_outdir + \"/\" + \"_\".join([\"log\", sysname]) + \".log\",\n",
    "    \n",
    "    backup = False,\n",
    ")\n",
    "CGSB_toc = time.time()\n",
    "CGSB_time = round(CGSB_toc-CGSB_tic, 4)\n",
    "print(\"Time spent running CGSB:\", CGSB_time)\n"
   ]
  },
  {
   "cell_type": "code",
   "execution_count": null,
   "metadata": {
    "hidden": true
   },
   "outputs": [],
   "source": []
  },
  {
   "cell_type": "markdown",
   "metadata": {
    "heading_collapsed": true
   },
   "source": [
    "# Asymmetric Membrane System"
   ]
  },
  {
   "cell_type": "code",
   "execution_count": null,
   "metadata": {
    "ExecuteTime": {
     "start_time": "2023-10-17T08:48:33.870Z"
    },
    "hidden": true,
    "scrolled": true
   },
   "outputs": [],
   "source": [
    "import CGSB\n",
    "import time\n",
    "''' Asymmetric Membrane\n",
    "\n",
    "Contains an asymmetric membrane\n",
    "- The upper leaflet is composed of POPC and CHOL in a 4.7:1.3 ratio with an APL of 0.51 nm^2\n",
    "- The lower leaflet is composed of POPE and CHOL in a 3.8:2.8 ratio with an APL of 0.48 nm^2\n",
    "- The APLs will cause the lower leaflet to contain more lipids than the upper one\n",
    "\n",
    "The system is solvated using default molarities for water (55.56 mol/L), with an ion concentration of 0.15 mol/L using potassium ions and chloride ions\n",
    "\n",
    "Charge data is gathered from the \"top_for_CGSB.itp\" file\n",
    "'''\n",
    "\n",
    "sysname = \"AsymmetricMembrane\"\n",
    "test_outdir = \"/\".join([\"output_test_systems\", sysname])\n",
    "!mkdir -p {test_outdir}\n",
    "\n",
    "CGSB_tic = time.time()\n",
    "CGSB.CGSB(\n",
    "    box = [10, 10, 10],\n",
    "    \n",
    "    membrane = \"leaflet:upper apl:0.51 POPC:4.7 CHOL:1.3 leaflet:lower apl:0.48 POPE:3.8 CHOL:2.8\",\n",
    "    \n",
    "    solvation = \"\",\n",
    "    \n",
    "    itp_input = \"top_for_CGSB.itp\",\n",
    "    \n",
    "    out_sys = test_outdir + \"/\" + \"_\".join([\"output\", sysname]),\n",
    "    out_top = test_outdir + \"/\" + \"_\".join([\"topol\", sysname]) + \".top\",\n",
    "    out_log = test_outdir + \"/\" + \"_\".join([\"log\", sysname]) + \".log\",\n",
    "    \n",
    "    backup = False,\n",
    ")\n",
    "CGSB_toc = time.time()\n",
    "CGSB_time = round(CGSB_toc-CGSB_tic, 4)\n",
    "print(\"Time spent running CGSB:\", CGSB_time)\n"
   ]
  },
  {
   "cell_type": "code",
   "execution_count": null,
   "metadata": {
    "hidden": true
   },
   "outputs": [],
   "source": []
  },
  {
   "cell_type": "markdown",
   "metadata": {
    "heading_collapsed": true
   },
   "source": [
    "# Protein In Solvent"
   ]
  },
  {
   "cell_type": "code",
   "execution_count": null,
   "metadata": {
    "ExecuteTime": {
     "start_time": "2023-10-17T08:48:33.873Z"
    },
    "hidden": true,
    "scrolled": true
   },
   "outputs": [],
   "source": [
    "import CGSB\n",
    "import time\n",
    "''' Protein In Solvent\n",
    "\n",
    "A protein is inserted at the center of the system with its topology name being \"8BB6_CG\"\n",
    "### Change protein.pdb to be your protein\n",
    "### Chain PROT_1 to be the mol_name in you .itp file\n",
    "\n",
    "The system is solvated using default molarities for water (55.56 mol/L), with an ion concentration of 0.15 mol/L using potassium ions and chloride ions\n",
    "\n",
    "Charge data is gathered from the \"top_for_CGSB.itp\" file\n",
    "'''\n",
    "\n",
    "sysname = \"ProteinInSolvent\"\n",
    "test_outdir = \"/\".join([\"output_test_systems\", sysname])\n",
    "!mkdir -p {test_outdir}\n",
    "\n",
    "CGSB_tic = time.time()\n",
    "CGSB.CGSB(\n",
    "    box = [10, 10, 10],\n",
    "        \n",
    "    protein = \"example_proteins/PDB_8BB6_martinized.pdb mol_names:8BB6_CG\",\n",
    "\n",
    "    solvation = \"\",\n",
    "    \n",
    "    itp_input = \"top_for_CGSB.itp\",\n",
    "    \n",
    "    out_sys = test_outdir + \"/\" + \"_\".join([\"output\", sysname]),\n",
    "    out_top = test_outdir + \"/\" + \"_\".join([\"topol\", sysname]) + \".top\",\n",
    "    out_log = test_outdir + \"/\" + \"_\".join([\"log\", sysname]) + \".log\",\n",
    "    \n",
    "    backup = False,\n",
    ")\n",
    "CGSB_toc = time.time()\n",
    "CGSB_time = round(CGSB_toc-CGSB_tic, 4)\n",
    "print(\"Time spent running CGSB:\", CGSB_time)\n"
   ]
  },
  {
   "cell_type": "code",
   "execution_count": null,
   "metadata": {
    "hidden": true
   },
   "outputs": [],
   "source": []
  },
  {
   "cell_type": "markdown",
   "metadata": {
    "heading_collapsed": true
   },
   "source": [
    "# Phase Separated System"
   ]
  },
  {
   "cell_type": "code",
   "execution_count": null,
   "metadata": {
    "ExecuteTime": {
     "start_time": "2023-10-17T08:48:33.876Z"
    },
    "hidden": true
   },
   "outputs": [],
   "source": [
    "import CGSB\n",
    "import time\n",
    "''' Phase Separated\n",
    "\n",
    "Contains phase separated membrane constructed from 4 separate membrane commands\n",
    "\n",
    "The system is solvated using default molarities for water (55.56 mol/L), with an ion concentration of 0.15 mol/L using potassium ions and chloride ions\n",
    "\n",
    "Charge data is gathered from the \"top_for_CGSB.itp\" file\n",
    "'''\n",
    "\n",
    "sysname = \"PhaseSeparated\"\n",
    "test_outdir = \"/\".join([\"output_test_systems\", sysname])\n",
    "!mkdir -p {test_outdir}\n",
    "\n",
    "CGSB_tic = time.time()\n",
    "CGSB.CGSB(\n",
    "    box = [20, 20, 10],\n",
    "    \n",
    "    membrane = [\n",
    "        ### center:x:y:z\n",
    "        \"DPPC:5 CHOL:1 center:-5:-5:0 x:10 y:10\", # bottom left\n",
    "        \"DOPC:5 CHOL:1 center:5:-5:0 x:10 y:10\",  # bottom right\n",
    "        \"DOPC:5 CHOL:1 center:-5:5:0 x:10 y:10\",  # top left\n",
    "        \"DPPC:5 CHOL:1 center:5:5:0 x:10 y:10\",   # top right\n",
    "        \n",
    "        ### Results in 5:5:2 DPPC:DOPC:CHOL distribution\n",
    "    ],\n",
    "    \n",
    "    solvation = \"\",\n",
    "    \n",
    "    itp_input = \"top_for_CGSB.itp\",\n",
    "    \n",
    "    out_sys = test_outdir + \"/\" + \"_\".join([\"output\", sysname]),\n",
    "    out_top = test_outdir + \"/\" + \"_\".join([\"topol\", sysname]) + \".top\",\n",
    "    out_log = test_outdir + \"/\" + \"_\".join([\"log\", sysname]) + \".log\",\n",
    "    \n",
    "    backup = False,\n",
    ")\n",
    "CGSB_toc = time.time()\n",
    "CGSB_time = round(CGSB_toc-CGSB_tic, 4)\n",
    "print(\"Time spent running CGSB:\", CGSB_time)\n"
   ]
  },
  {
   "cell_type": "code",
   "execution_count": null,
   "metadata": {
    "hidden": true
   },
   "outputs": [],
   "source": []
  },
  {
   "cell_type": "markdown",
   "metadata": {
    "heading_collapsed": true
   },
   "source": [
    "# Phase Separated System Generator"
   ]
  },
  {
   "cell_type": "code",
   "execution_count": null,
   "metadata": {
    "ExecuteTime": {
     "start_time": "2023-10-17T08:48:33.878Z"
    },
    "hidden": true,
    "scrolled": true
   },
   "outputs": [],
   "source": [
    "import CGSB\n",
    "import numpy as np\n",
    "import math\n",
    "import time\n",
    "''' Phase Separated Generator\n",
    "\n",
    "Contains phase separated membrane constructed from a number of coloumns and rows\n",
    "\n",
    "The system is solvated using default molarities for water (55.56 mol/L), with an ion concentration of 0.15 mol/L using potassium ions and chloride ions\n",
    "\n",
    "Charge data is gathered from the \"top_for_CGSB.itp\" file\n",
    "'''\n",
    "\n",
    "sysname = \"PhaseSeparatedGenerator\"\n",
    "test_outdir = \"/\".join([\"output_test_systems\", sysname])\n",
    "!mkdir -p {test_outdir}\n",
    "\n",
    "### ### Initial settings:\n",
    "box = [20, 20, 10]\n",
    "xrows = 5\n",
    "yrows = 3\n",
    "### ###\n",
    "\n",
    "xmin, xmax = -box[0]/2, box[0]/2\n",
    "ymin, ymax = -box[1]/2, box[1]/2\n",
    "\n",
    "xlen = round(box[0]/xrows, 3)\n",
    "ylen = round(box[1]/yrows, 3)\n",
    "\n",
    "xcenters = np.linspace(xmin+(xlen/2), xmax-(xlen/2), num=xrows, endpoint=True)\n",
    "ycenters = np.linspace(ymin+(ylen/2), ymax-(ylen/2), num=yrows, endpoint=True)\n",
    "\n",
    "centers = [(round(x,3), round(y,3)) for x in xcenters for y in ycenters]\n",
    "lipids = []\n",
    "memb_commands = []\n",
    "DPPC_counter = 0\n",
    "DOPC_counter = 0\n",
    "for i, (x, y) in enumerate(centers):\n",
    "    if i % 2 == 0:\n",
    "        lipid = \"DPPC\"\n",
    "        DPPC_counter += 1\n",
    "    else:\n",
    "        lipid = \"DOPC\"\n",
    "        DOPC_counter += 1\n",
    "    memb_commands.append(lipid+\":5 CHOL:1 center:\"+str(x)+\":\"+str(y)+\":0 x:\"+str(xlen) + \" y:\"+str(ylen) )\n",
    "\n",
    "counter_sum = DPPC_counter + DOPC_counter\n",
    "DPPC_tot_ratio = 5*DPPC_counter\n",
    "DOPC_tot_ratio = 5*DOPC_counter\n",
    "CHOL_tot_ratio = counter_sum\n",
    "GCD = math.gcd(DPPC_tot_ratio, DOPC_tot_ratio, CHOL_tot_ratio)\n",
    "print(\"DPPC patches:\", DPPC_counter)\n",
    "print(\"DOPC patches:\", DOPC_counter)\n",
    "print(\n",
    "    \"Final DPPC:DOPC:CHOL system ratio:\",\n",
    "    \":\".join([\n",
    "        str(DPPC_tot_ratio//GCD),\n",
    "        str(DOPC_tot_ratio//GCD),\n",
    "        str(CHOL_tot_ratio//GCD),\n",
    "    ])\n",
    ")\n",
    "print(\"Membrane commands:\")\n",
    "for memb_command in memb_commands:\n",
    "    print(\"    \", memb_command)\n",
    "\n",
    "CGSB_tic = time.time()\n",
    "CGSB.CGSB(\n",
    "    box = box,\n",
    "    \n",
    "    membrane = memb_commands,\n",
    "    \n",
    "    solvation = \"\",\n",
    "    \n",
    "    itp_input = \"top_for_CGSB.itp\",\n",
    "    \n",
    "    out_sys = test_outdir + \"/\" + \"_\".join([\"output\", sysname]),\n",
    "    out_top = test_outdir + \"/\" + \"_\".join([\"topol\", sysname]) + \".top\",\n",
    "    out_log = test_outdir + \"/\" + \"_\".join([\"log\", sysname]) + \".log\",\n",
    "    \n",
    "    backup = False,\n",
    ")\n",
    "CGSB_toc = time.time()\n",
    "CGSB_time = round(CGSB_toc-CGSB_tic, 4)\n",
    "print(\"Time spent running CGSB:\", CGSB_time)\n"
   ]
  },
  {
   "cell_type": "code",
   "execution_count": null,
   "metadata": {
    "hidden": true
   },
   "outputs": [],
   "source": []
  },
  {
   "cell_type": "markdown",
   "metadata": {
    "heading_collapsed": true
   },
   "source": [
    "# Multiple Bilayers System"
   ]
  },
  {
   "cell_type": "code",
   "execution_count": null,
   "metadata": {
    "ExecuteTime": {
     "start_time": "2023-10-17T08:48:33.880Z"
    },
    "hidden": true,
    "scrolled": true
   },
   "outputs": [],
   "source": [
    "import CGSB\n",
    "import time\n",
    "''' Multiple Bilayers\n",
    "\n",
    "Contains two bilayers separated by solvent constructed from 2 seperate membrane commands\n",
    "- The top bilayer contains POPC and CHOl in a 5:1 ratio\n",
    "- The bottom bilayer contains POPE and CHOL in a 5:1 ratio\n",
    "\n",
    "The system is solvated using default molarities for water (55.56 mol/L), with an ion concentration of 0.15 mol/L using potassium ions and chloride ions\n",
    "\n",
    "Charge data is gathered from the \"top_for_CGSB.itp\" file\n",
    "'''\n",
    "\n",
    "sysname = \"MultipleBilayers\"\n",
    "test_outdir = \"/\".join([\"output_test_systems\", sysname])\n",
    "!mkdir -p {test_outdir}\n",
    "\n",
    "CGSB_tic = time.time()\n",
    "CGSB.CGSB(\n",
    "    box = [10, 10, 20],\n",
    "    \n",
    "    membrane = [\n",
    "        \"POPC:5 CHOL:1 center:0:0:5\",\n",
    "        \"POPE:5 CHOL:1 center:0:0:-5\",\n",
    "    ],\n",
    "    \n",
    "    solvation = \"\",\n",
    "    \n",
    "    itp_input = \"top_for_CGSB.itp\",\n",
    "    \n",
    "    out_sys = test_outdir + \"/\" + \"_\".join([\"output\", sysname]),\n",
    "    out_top = test_outdir + \"/\" + \"_\".join([\"topol\", sysname]) + \".top\",\n",
    "    out_log = test_outdir + \"/\" + \"_\".join([\"log\", sysname]) + \".log\",\n",
    "    \n",
    "    backup = False,\n",
    ")\n",
    "CGSB_toc = time.time()\n",
    "CGSB_time = round(CGSB_toc-CGSB_tic, 4)\n",
    "print(\"Time spent running CGSB:\", CGSB_time)\n"
   ]
  },
  {
   "cell_type": "code",
   "execution_count": null,
   "metadata": {
    "hidden": true
   },
   "outputs": [],
   "source": []
  },
  {
   "cell_type": "markdown",
   "metadata": {
    "heading_collapsed": true
   },
   "source": [
    "# Monolayer System"
   ]
  },
  {
   "cell_type": "code",
   "execution_count": null,
   "metadata": {
    "ExecuteTime": {
     "start_time": "2023-10-17T08:48:33.883Z"
    },
    "hidden": true,
    "scrolled": false
   },
   "outputs": [],
   "source": [
    "import CGSB\n",
    "import time\n",
    "''' Monolayer\n",
    "\n",
    "Contains a single downwards facing monolayer\n",
    "- The monolayer contains POPC and CHOl in a 5:1 ratio\n",
    "\n",
    "The system is solvated using default molarities for water (55.56 mol/L), with an ion concentration of 0.15 mol/L using potassium ions and chloride ions\n",
    "\n",
    "Charge data is gathered from the \"top_for_CGSB.itp\" file\n",
    "'''\n",
    "\n",
    "sysname = \"Monolayer\"\n",
    "test_outdir = \"/\".join([\"output_test_systems\", sysname])\n",
    "!mkdir -p {test_outdir}\n",
    "\n",
    "CGSB_tic = time.time()\n",
    "CGSB.CGSB(\n",
    "    box = [10, 10, 10],\n",
    "    \n",
    "    membrane = [\n",
    "        \"type:lower POPC:5 CHOL:1\",\n",
    "    ],\n",
    "    \n",
    "    solvation = \"\",\n",
    "    \n",
    "    itp_input = \"top_for_CGSB.itp\",\n",
    "    \n",
    "    out_sys = test_outdir + \"/\" + \"_\".join([\"output\", sysname]),\n",
    "    out_top = test_outdir + \"/\" + \"_\".join([\"topol\", sysname]) + \".top\",\n",
    "    out_log = test_outdir + \"/\" + \"_\".join([\"log\", sysname]) + \".log\",\n",
    "    \n",
    "    backup = False,\n",
    ")\n",
    "CGSB_toc = time.time()\n",
    "CGSB_time = round(CGSB_toc-CGSB_tic, 4)\n",
    "print(\"Time spent running CGSB:\", CGSB_time)\n"
   ]
  },
  {
   "cell_type": "code",
   "execution_count": null,
   "metadata": {
    "hidden": true
   },
   "outputs": [],
   "source": []
  },
  {
   "cell_type": "markdown",
   "metadata": {
    "heading_collapsed": true
   },
   "source": [
    "# Mixed Solvent System"
   ]
  },
  {
   "cell_type": "code",
   "execution_count": null,
   "metadata": {
    "ExecuteTime": {
     "start_time": "2023-10-17T08:48:33.885Z"
    },
    "hidden": true,
    "scrolled": true
   },
   "outputs": [],
   "source": [
    "import CGSB\n",
    "import time\n",
    "''' Mixed solvent\n",
    "\n",
    "Contains a symmetric membrane composed of POPC and CHOL in a 5:1 ratio\n",
    "\n",
    "The system is solvated using default molarities for water (55.56 mol/L), with an ion concentration of 0.15 mol/L using potassium ions and chloride ions\n",
    "- The system contains a 5:3 ratio of regular water \"W\" to small water \"SW\"\n",
    "- The system contains a 5:1 ratio of potassium ions to calcium ions\n",
    "- The system's only negative ion is chloride\n",
    "- The weighted number of positive ions (potassium and calcium) is equal to the weighted number of negative ions (chloride)\n",
    "    - Weighting is done based on their charges, such that the charge sum equals zero\n",
    "\n",
    "Charge data is gathered from the \"top_for_CGSB.itp\" file\n",
    "'''\n",
    "\n",
    "sysname = \"MixedSolvent\"\n",
    "test_outdir = \"/\".join([\"output_test_systems\", sysname])\n",
    "!mkdir -p {test_outdir}\n",
    "\n",
    "CGSB_tic = time.time()\n",
    "CGSB.CGSB(\n",
    "    box = [10, 10, 10],\n",
    "    \n",
    "    membrane = \"POPC:5 CHOL:1\",\n",
    "    \n",
    "    solvation = \"solv:W:5 solv:SW:3 pos:NA:5 pos:CA:1 neg:CL:1\",\n",
    "    \n",
    "    itp_input = \"top_for_CGSB.itp\",\n",
    "    \n",
    "    out_sys = test_outdir + \"/\" + \"_\".join([\"output\", sysname]),\n",
    "    out_top = test_outdir + \"/\" + \"_\".join([\"topol\", sysname]) + \".top\",\n",
    "    out_log = test_outdir + \"/\" + \"_\".join([\"log\", sysname]) + \".log\",\n",
    "    \n",
    "    backup = False,\n",
    ")\n",
    "CGSB_toc = time.time()\n",
    "CGSB_time = round(CGSB_toc-CGSB_tic, 4)\n",
    "print(\"Time spent running CGSB:\", CGSB_time)\n"
   ]
  },
  {
   "cell_type": "code",
   "execution_count": null,
   "metadata": {
    "hidden": true
   },
   "outputs": [],
   "source": []
  },
  {
   "cell_type": "markdown",
   "metadata": {},
   "source": [
    "# Flooding System"
   ]
  },
  {
   "cell_type": "code",
   "execution_count": null,
   "metadata": {
    "ExecuteTime": {
     "start_time": "2023-10-17T08:48:33.888Z"
    },
    "scrolled": false
   },
   "outputs": [],
   "source": [
    "import CGSB\n",
    "import time\n",
    "''' Flooding with imported ligand\n",
    "\n",
    "Contains a symmetric membrane composed of POPC with the default APL of 0.6\n",
    "\n",
    "A protein is inserted at the center of the system with its topology name being \"PROT_1\"\n",
    "\n",
    "The system is flooded with 30 molecules of the of structure in example_solute_1.pdb\n",
    "### ### Barebones command:\n",
    "### solute_input = \"SOLUTE.pdb mol:SOLUTE_name:SOLUTE_nres:SOLUTE_charge\",\n",
    "### ### Replace:\n",
    "### Replace \"SOLUTE.pdb\" with your molecule file\n",
    "### Replace SOLUTE_name with the name you want to refer to the ligand as in the flooding command (max 4 characters or 'resname')\n",
    "### Replace SOLUTE_nres with the number of residues in the molecule\n",
    "### Replace SOLUTE_charge with the charge of the ligand or the 'moleculetype' used in the topology file\n",
    "\n",
    "\n",
    "The system is solvated using default molarities for water (55.56 mol/L),\n",
    "with an ion concentration of 0.15 mol/L using potassium and chloride ions\n",
    "\n",
    "Charge data is gathered from the \"top_for_CGSB.itp\" file\n",
    "'''\n",
    "\n",
    "sysname = \"Flooding\"\n",
    "test_outdir = \"/\".join([\"output_test_systems\", sysname])\n",
    "!mkdir -p {test_outdir}\n",
    "\n",
    "CGSB_tic = time.time()\n",
    "CGSB.CGSB(\n",
    "    box = [10, 10, 11],\n",
    "    \n",
    "    membrane = \"POPC\",\n",
    "    \n",
    "    solute_input = \"example_solutes/example_solute.pdb mol:solute:2:Ex_Sol\",\n",
    "    \n",
    "    flooding = \"solv:solute:30\",\n",
    "    \n",
    "    solvation = \"solv:W pos:NA neg:CL\",\n",
    "    \n",
    "    itp_input = \"top_for_CGSB.itp\",\n",
    "    \n",
    "    out_sys = test_outdir + \"/\" + \"_\".join([\"output\", sysname]),\n",
    "    out_top = test_outdir + \"/\" + \"_\".join([\"topol\", sysname]) + \".top\",\n",
    "    out_log = test_outdir + \"/\" + \"_\".join([\"log\", sysname]) + \".log\",\n",
    "    \n",
    "    backup = False,\n",
    ")\n",
    "CGSB_toc = time.time()\n",
    "CGSB_time = round(CGSB_toc-CGSB_tic, 4)\n",
    "print(\"Time spent running CGSB:\", CGSB_time)\n"
   ]
  },
  {
   "cell_type": "code",
   "execution_count": null,
   "metadata": {},
   "outputs": [],
   "source": []
  }
 ],
 "metadata": {
  "hide_input": false,
  "kernelspec": {
   "display_name": "Python 3 (ipykernel)",
   "language": "python",
   "name": "python3"
  },
  "language_info": {
   "codemirror_mode": {
    "name": "ipython",
    "version": 3
   },
   "file_extension": ".py",
   "mimetype": "text/x-python",
   "name": "python",
   "nbconvert_exporter": "python",
   "pygments_lexer": "ipython3",
   "version": "3.9.16"
  },
  "toc": {
   "base_numbering": 1,
   "nav_menu": {},
   "number_sections": true,
   "sideBar": true,
   "skip_h1_title": false,
   "title_cell": "Table of Contents",
   "title_sidebar": "Contents",
   "toc_cell": false,
   "toc_position": {},
   "toc_section_display": true,
   "toc_window_display": false
  }
 },
 "nbformat": 4,
 "nbformat_minor": 4
}
