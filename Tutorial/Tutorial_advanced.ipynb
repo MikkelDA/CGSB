{
 "cells": [
  {
   "cell_type": "markdown",
   "metadata": {},
   "source": [
    "# Advanced Tutorial"
   ]
  },
  {
   "cell_type": "markdown",
   "metadata": {},
   "source": [
    "Advanced tutorial covers more complex systems, namely:\n",
    "\n",
    "- Phase-separated membranes\n",
    "\n",
    "- Monolayers\n",
    "\n",
    "- Membrane patches and holes\n",
    "\n",
    "- Stacked membranes\n",
    "\n",
    "- Mixed solvents\n",
    "\n",
    "- Phase-separated solvents\n",
    "\n",
    "- Flooding with solutes\n",
    "\n",
    "- Boxes with custom unit cells\n",
    "\n",
    "On top of that, Advanced tutorial adressess additional fine-tuning options left to the user, e.g.:\n",
    "\n",
    "- Optimization of lipid packing\n",
    "\n",
    "- Changes in solvent composition\n",
    "\n",
    "- Charge neutralisation approaches \n",
    "\n",
    "- Importing solute structures\n",
    "\n",
    "- Importing lipid structures\n",
    "\n",
    "In order to proceed to the Advanced tutorial, we **strongly advise** the users to go through the Basic Tutorial first. \n",
    "\n",
    "The program is under active development. Please report any bugs here: https://github.com/MikkelDA/CGSB/issues."
   ]
  },
  {
   "cell_type": "code",
   "execution_count": 1,
   "metadata": {
    "ExecuteTime": {
     "end_time": "2024-03-22T13:41:53.514597Z",
     "start_time": "2024-03-22T13:41:49.389360Z"
    },
    "scrolled": false
   },
   "outputs": [],
   "source": [
    "import time\n",
    "import sys\n",
    "import os\n",
    "# sys.path.append(\"PATH/TO/YOUR/CGSB\")\n",
    "import CGSB"
   ]
  },
  {
   "cell_type": "markdown",
   "metadata": {
    "heading_collapsed": true
   },
   "source": [
    "# Multiple Arguments"
   ]
  },
  {
   "cell_type": "markdown",
   "metadata": {
    "hidden": true
   },
   "source": [
    "This example shows how to give multiple subarguments to the same argument. While only the ``membrane`` argument is shown here, the same syntax applies to ``protein``, ``solvation``, ``flooding`` and ``molecule_import``.\n",
    "\n",
    "Multiple arguments can be given by making them a separate string within a list. Here, two separate membranes are created. They both span the x/y-plane of the system box.\n",
    "\n",
    "- The first membrane is moved 5 nm up from the center of the system using the ``cz`` subargument.\n",
    "\n",
    "- The second membrane is moved 5 nm down from the center of the system using the ``cz`` subargument.\n"
   ]
  },
  {
   "cell_type": "markdown",
   "metadata": {
    "hidden": true
   },
   "source": [
    "<div>\n",
    "<!-- height argument does not work in jupyter for whatever reason. Can't find any help online. -->\n",
    "<img src=\"figures/MultipleArguments.png\" width=\"250px\"/>\n",
    "</div>"
   ]
  },
  {
   "cell_type": "code",
   "execution_count": 2,
   "metadata": {
    "ExecuteTime": {
     "end_time": "2024-03-22T13:41:54.826000Z",
     "start_time": "2024-03-22T13:41:53.520040Z"
    },
    "hidden": true,
    "scrolled": false
   },
   "outputs": [
    {
     "name": "stdout",
     "output_type": "stream",
     "text": [
      "\n",
      "Setting random seed to: 1711114914\n",
      "-------------------------- PREPROCESSING DEFINITIONS ---------------------------\n",
      "---------------------- DEFINITIONS PREPROCESSING COMPLETE ----------------------\n",
      "                            (Time spent: 0.5661 [s])                             \n",
      "\n",
      "---------------------------- PREPROCESSING COMMANDS ----------------------------\n",
      "------------------------ COMMAND PREPROCESSING COMPLETE ------------------------\n",
      "                            (Time spent: 0.0016 [s])                             \n",
      "\n",
      "----------------------- CREATING LEAFLET BOUNDARY BOXES ------------------------\n",
      "------------------------ LEAFLET BOUNDARY BOXES CREATED ------------------------\n",
      "                            (Time spent: 0.0018 [s])                             \n",
      "\n",
      "------------------------ CREATING HOLED BOUNDARY BOXES -------------------------\n",
      "------------------------- HOLED BOUNDARY BOXES CREATED -------------------------\n",
      "                            (Time spent: 0.001 [s])                              \n",
      "\n",
      "--------------------------- CALCULATING LIPID RATIOS ---------------------------\n",
      "---------------------- LIPID RATIO CALCULATIONS COMPLETE -----------------------\n",
      "                            (Time spent: 0.0019 [s])                             \n",
      "\n",
      "----------------------------- CREATING LIPID GRID ------------------------------\n",
      "------------------------------ LIPID GRID CREATED ------------------------------\n",
      "                            (Time spent: 0.0162 [s])                             \n",
      "\n",
      "------------------------------- CREATING LIPIDS --------------------------------\n",
      "--------------------------- LIPID CREATION COMPLETE ----------------------------\n",
      "                            (Time spent: 0.1414 [s])                             \n",
      "\n",
      "------------------------------- SOLVATING SYSTEM -------------------------------\n",
      "------------------------------ SOLVATION COMPLETE ------------------------------\n",
      "                            (Time spent: 0.182 [s])                              \n",
      "\n",
      "--------------------\n",
      "Final system charge: 0.0\n",
      "-------------------- \n",
      "\n",
      "---------------------- Writing structure files (PDB/GRO) -----------------------\n",
      "PDB file written: output_systems/MultipleArguments/output_MultipleArguments.pdb\n",
      "GRO file written: output_systems/MultipleArguments/output_MultipleArguments.gro\n",
      "\n",
      "---------------------------- Writing topology file -----------------------------\n",
      "Topology file written: output_systems/MultipleArguments/topol_MultipleArguments.top \n",
      "\n",
      "------------------------------- Writing log file -------------------------------\n",
      "Log file written: output_systems/MultipleArguments/log_MultipleArguments.log \n",
      "\n",
      "My task is complete. Did i do a good job?\n",
      "Time spent running CGSB: 1.2927\n"
     ]
    },
    {
     "data": {
      "text/plain": [
       "<CGSB.main_class.CGSB_class.CGSB at 0x7fc09062cd90>"
      ]
     },
     "execution_count": 2,
     "metadata": {},
     "output_type": "execute_result"
    }
   ],
   "source": [
    "sysname = \"MultipleArguments\"\n",
    "outdir = os.path.join(\"output_systems\", sysname)\n",
    "os.makedirs(outdir, exist_ok=True)\n",
    "\n",
    "CGSB.CGSB(\n",
    "    ### Designates box size\n",
    "    box = [10, 10, 20], # [nm]\n",
    "    \n",
    "    ### Creates two membranes consisting of POPC\n",
    "    ### The membranes span the x/y-plane and are offset in the z axis (by 5 and -5 nm)\n",
    "    membrane = [\n",
    "        \"lipid:POPC cz:5\",  # [nm]\n",
    "        \"lipid:POPC cz:-5\", # [nm]\n",
    "    ],\n",
    "    \n",
    "    ### Solvates the system using the default solvation settings of \"solv:W pos:NA neg:CL\"\n",
    "    solvation = \"default\",\n",
    "    \n",
    "    ### Uses topologies found in \"toppar/top_for_CGSB.itp\" for charge determination\n",
    "    itp_input = \"file:toppar/top_for_CGSB.itp\",\n",
    "    \n",
    "    ### File writing\n",
    "    out_sys = os.path.join(outdir, \"_\".join([\"output\", sysname])),\n",
    "    out_top = os.path.join(outdir, \"_\".join([\"topol\",  sysname]) + \".top\"),\n",
    "    out_log = os.path.join(outdir, \"_\".join([\"log\",    sysname]) + \".log\"),\n",
    "    \n",
    "    ### Designates the system name that is written in .pdb, .gro and .top files\n",
    "    sn = sysname,\n",
    ")"
   ]
  },
  {
   "cell_type": "markdown",
   "metadata": {
    "heading_collapsed": true
   },
   "source": [
    "# Membranes 4: Phase Separation"
   ]
  },
  {
   "cell_type": "markdown",
   "metadata": {
    "hidden": true
   },
   "source": [
    "This example shows how to make a simple phase separated membrane system, by giving multiple arguments to the ``membrane`` argument. In this example, four membranes are created, such that combined they make up a single membrane.\n",
    "\n",
    "- Membrane 1: Contains POPC and CHOL in a 5:1 ratio. Placed at the top right of the x/y-plane.\n",
    "\n",
    "- Membrane 2: Contains POPE and CHOL in a 5:1 ratio. Placed at the top left of the x/y-plane.\n",
    "\n",
    "- Membrane 3: Contains POPE and CHOL in a 5:1 ratio. Placed at the bottom right of the x/y-plane.\n",
    "\n",
    "- Membrane 4: Contains POPC and CHOL in a 5:1 ratio. Placed at the bottom left of the x/y-plane.\n",
    "\n",
    "The subargument ``center`` is used to center the individual membranes in relation to the centre of the box. It accepts ``x:y:z`` offset values. Since this box is 20 x 20 nm<sup>2</sup> long, then the centre of each membrane is shifted 5 nm along the x- and y-axes (&plusmn;5 : &plusmn;5 : 0). \n",
    "\n",
    "The subarguments ``xlength`` and ``ylength`` are used to set the length of the small membranes along the x- and y-axis."
   ]
  },
  {
   "cell_type": "markdown",
   "metadata": {
    "hidden": true
   },
   "source": [
    "\n",
    "<div class=\"WhiteBackground\">\n",
    "<!-- height argument does not work in jupyter for whatever reason. Can't find any help online. -->\n",
    "    <table>\n",
    "        <tr>\n",
    "            <td>\n",
    "                <img src='figures/Membranes4_PhaseSeparation.png' width=\"500px\">\n",
    "            </td>\n",
    "            <td>\n",
    "                <img src='figures/drawings/Membranes4_PhaseSeparation_Drawing.png' width=\"400px\">\n",
    "            </td>\n",
    "        </tr>\n",
    "    </table>\n",
    "</div>\n"
   ]
  },
  {
   "cell_type": "code",
   "execution_count": 3,
   "metadata": {
    "ExecuteTime": {
     "end_time": "2024-03-22T13:41:56.770760Z",
     "start_time": "2024-03-22T13:41:54.827700Z"
    },
    "hidden": true
   },
   "outputs": [
    {
     "name": "stdout",
     "output_type": "stream",
     "text": [
      "\n",
      "Setting random seed to: 1711114915\n",
      "-------------------------- PREPROCESSING DEFINITIONS ---------------------------\n",
      "---------------------- DEFINITIONS PREPROCESSING COMPLETE ----------------------\n",
      "                            (Time spent: 0.5226 [s])                             \n",
      "\n",
      "---------------------------- PREPROCESSING COMMANDS ----------------------------\n",
      "------------------------ COMMAND PREPROCESSING COMPLETE ------------------------\n",
      "                            (Time spent: 0.0044 [s])                             \n",
      "\n",
      "----------------------- CREATING LEAFLET BOUNDARY BOXES ------------------------\n",
      "------------------------ LEAFLET BOUNDARY BOXES CREATED ------------------------\n",
      "                            (Time spent: 0.0028 [s])                             \n",
      "\n",
      "------------------------ CREATING HOLED BOUNDARY BOXES -------------------------\n",
      "------------------------- HOLED BOUNDARY BOXES CREATED -------------------------\n",
      "                            (Time spent: 0.0016 [s])                             \n",
      "\n",
      "--------------------------- CALCULATING LIPID RATIOS ---------------------------\n",
      "---------------------- LIPID RATIO CALCULATIONS COMPLETE -----------------------\n",
      "                            (Time spent: 0.0055 [s])                             \n",
      "\n",
      "----------------------------- CREATING LIPID GRID ------------------------------\n",
      "------------------------------ LIPID GRID CREATED ------------------------------\n",
      "                            (Time spent: 0.0261 [s])                             \n",
      "\n",
      "------------------------------- CREATING LIPIDS --------------------------------\n",
      "--------------------------- LIPID CREATION COMPLETE ----------------------------\n",
      "                            (Time spent: 0.234 [s])                              \n",
      "\n",
      "------------------------------- SOLVATING SYSTEM -------------------------------\n",
      "------------------------------ SOLVATION COMPLETE ------------------------------\n",
      "                            (Time spent: 0.418 [s])                              \n",
      "\n",
      "--------------------\n",
      "Final system charge: 0.0\n",
      "-------------------- \n",
      "\n",
      "---------------------- Writing structure files (PDB/GRO) -----------------------\n",
      "PDB file written: output_systems/Membranes4_PhaseSeparation/output_Membranes4_PhaseSeparation.pdb\n",
      "GRO file written: output_systems/Membranes4_PhaseSeparation/output_Membranes4_PhaseSeparation.gro\n",
      "\n",
      "---------------------------- Writing topology file -----------------------------\n",
      "Topology file written: output_systems/Membranes4_PhaseSeparation/topol_Membranes4_PhaseSeparation.top \n",
      "\n",
      "------------------------------- Writing log file -------------------------------\n",
      "Log file written: output_systems/Membranes4_PhaseSeparation/log_Membranes4_PhaseSeparation.log \n",
      "\n",
      "My task is complete. Did i do a good job?\n",
      "Time spent running CGSB: 1.9327\n"
     ]
    },
    {
     "data": {
      "text/plain": [
       "<CGSB.main_class.CGSB_class.CGSB at 0x7fc057998e80>"
      ]
     },
     "execution_count": 3,
     "metadata": {},
     "output_type": "execute_result"
    }
   ],
   "source": [
    "sysname = \"Membranes4_PhaseSeparation\"\n",
    "outdir = os.path.join(\"output_systems\", sysname)\n",
    "os.makedirs(outdir, exist_ok=True)\n",
    "\n",
    "CGSB.CGSB(\n",
    "    ### Designates box size\n",
    "    box = [20, 20, 10], # [nm]\n",
    "    \n",
    "    ### Creates four membranes, which together span the x/y-plane\n",
    "    ### All center and x/y values are in [nm]\n",
    "    ### The plusses (+) in \"center\" are not needed, but they are shown for clarity\n",
    "    membrane = [\n",
    "        \"lipid:POPC:5 lipid:CHOL:1 center:+5:+5:0 xlength:10 ylength:10\", # top right\n",
    "        \"lipid:POPE:5 lipid:CHOL:1 center:-5:+5:0 xlength:10 ylength:10\", # top left\n",
    "        \"lipid:POPE:5 lipid:CHOL:1 center:+5:-5:0 xlength:10 ylength:10\", # bottom right\n",
    "        \"lipid:POPC:5 lipid:CHOL:1 center:-5:-5:0 xlength:10 ylength:10\", # bottom left\n",
    "    ],\n",
    "    \n",
    "    ### Solvates the system using the default solvation settings of \"solv:W pos:NA neg:CL\"\n",
    "    solvation = \"default\",\n",
    "    \n",
    "    ### Uses topologies found in \"toppar/top_for_CGSB.itp\" for charge determination\n",
    "    itp_input = \"file:toppar/top_for_CGSB.itp\",\n",
    "    \n",
    "    ### File writing\n",
    "    out_sys = os.path.join(outdir, \"_\".join([\"output\", sysname])),\n",
    "    out_top = os.path.join(outdir, \"_\".join([\"topol\",  sysname]) + \".top\"),\n",
    "    out_log = os.path.join(outdir, \"_\".join([\"log\",    sysname]) + \".log\"),\n",
    "    \n",
    "    ### Designates the system name that is written in .pdb, .gro and .top files\n",
    "    sn = sysname,\n",
    ")"
   ]
  },
  {
   "cell_type": "markdown",
   "metadata": {
    "heading_collapsed": true
   },
   "source": [
    "# Membranes 5: Monolayers"
   ]
  },
  {
   "cell_type": "markdown",
   "metadata": {
    "hidden": true
   },
   "source": [
    "This example shows how to make two monolayers that are bridged by solvent on the headgroup side, and by vacuum on the tail side. The monolayers are created using the ``type:mono_lower`` and ``type:mono_upper`` subarguments such that the headgroups point towards each other.\n",
    "\n",
    "The membranes are offset by +5 and -5 in the z-axis. Since the box is 20 nm long in the z-axis, this leaves room for 10 nm of vacuum in total (5 nm at each end of the box).\n",
    "\n",
    "Solvent is designated only to be placed between the monolayers using the \"``zlength:10``\" subargument, which changes the size of the solvent box along the z-axis. By default, the solvent is centered in the middle of the simulation box."
   ]
  },
  {
   "cell_type": "markdown",
   "metadata": {
    "hidden": true
   },
   "source": [
    "<div>\n",
    "<!-- height argument does not work in jupyter for whatever reason. Can't find any help online. -->\n",
    "<img src=\"figures/Membranes5_Monolayers.png\" width=\"300px\"/>\n",
    "</div>"
   ]
  },
  {
   "cell_type": "code",
   "execution_count": 4,
   "metadata": {
    "ExecuteTime": {
     "end_time": "2024-03-22T13:41:57.683240Z",
     "start_time": "2024-03-22T13:41:56.772482Z"
    },
    "hidden": true
   },
   "outputs": [
    {
     "name": "stdout",
     "output_type": "stream",
     "text": [
      "\n",
      "Setting random seed to: 1711114917\n",
      "-------------------------- PREPROCESSING DEFINITIONS ---------------------------\n",
      "---------------------- DEFINITIONS PREPROCESSING COMPLETE ----------------------\n",
      "                            (Time spent: 0.4703 [s])                             \n",
      "\n",
      "---------------------------- PREPROCESSING COMMANDS ----------------------------\n",
      "------------------------ COMMAND PREPROCESSING COMPLETE ------------------------\n",
      "                            (Time spent: 0.0009 [s])                             \n",
      "\n",
      "----------------------- CREATING LEAFLET BOUNDARY BOXES ------------------------\n",
      "------------------------ LEAFLET BOUNDARY BOXES CREATED ------------------------\n",
      "                            (Time spent: 0.0011 [s])                             \n",
      "\n",
      "------------------------ CREATING HOLED BOUNDARY BOXES -------------------------\n",
      "------------------------- HOLED BOUNDARY BOXES CREATED -------------------------\n",
      "                            (Time spent: 0.0005 [s])                             \n",
      "\n",
      "--------------------------- CALCULATING LIPID RATIOS ---------------------------\n",
      "---------------------- LIPID RATIO CALCULATIONS COMPLETE -----------------------\n",
      "                            (Time spent: 0.0009 [s])                             \n",
      "\n",
      "----------------------------- CREATING LIPID GRID ------------------------------\n",
      "------------------------------ LIPID GRID CREATED ------------------------------\n",
      "                            (Time spent: 0.0064 [s])                             \n",
      "\n",
      "------------------------------- CREATING LIPIDS --------------------------------\n",
      "--------------------------- LIPID CREATION COMPLETE ----------------------------\n",
      "                            (Time spent: 0.0599 [s])                             \n",
      "\n",
      "------------------------------- SOLVATING SYSTEM -------------------------------\n",
      "------------------------------ SOLVATION COMPLETE ------------------------------\n",
      "                             (Time spent: 0.17 [s])                              \n",
      "\n",
      "--------------------\n",
      "Final system charge: 0.0\n",
      "-------------------- \n",
      "\n",
      "---------------------- Writing structure files (PDB/GRO) -----------------------\n",
      "PDB file written: output_systems/Membranes5_Monolayers/output_Membranes5_Monolayers.pdb\n",
      "GRO file written: output_systems/Membranes5_Monolayers/output_Membranes5_Monolayers.gro\n",
      "\n",
      "---------------------------- Writing topology file -----------------------------\n",
      "Topology file written: output_systems/Membranes5_Monolayers/topol_Membranes5_Monolayers.top \n",
      "\n",
      "------------------------------- Writing log file -------------------------------\n",
      "Log file written: output_systems/Membranes5_Monolayers/log_Membranes5_Monolayers.log \n",
      "\n",
      "My task is complete. Did i do a good job?\n",
      "Time spent running CGSB: 0.8987\n"
     ]
    },
    {
     "data": {
      "text/plain": [
       "<CGSB.main_class.CGSB_class.CGSB at 0x7fc056235910>"
      ]
     },
     "execution_count": 4,
     "metadata": {},
     "output_type": "execute_result"
    }
   ],
   "source": [
    "sysname = \"Membranes5_Monolayers\"\n",
    "outdir = os.path.join(\"output_systems\", sysname)\n",
    "os.makedirs(outdir, exist_ok=True)\n",
    "\n",
    "CGSB.CGSB(\n",
    "    ### Designates box size\n",
    "    box = [10, 10, 20], # [nm]\n",
    "    \n",
    "    ### Creates two separate monolayer membranes, each placed in the center of the x/y-plane.\n",
    "    ### The plus signs (+) in \"center\" are not needed, but they are shown for clarity\n",
    "    membrane = [\n",
    "        \"type:mono_lower lipid:POPC center:0:0:+5\", # [nm]\n",
    "        \"type:mono_upper lipid:POPC center:0:0:-5\", # [nm]\n",
    "    ],\n",
    "    \n",
    "    ### Solvates the system using the default solvation settings of \"solv:W pos:NA neg:CL\"\n",
    "    ### The \"zlength:10\" subargument designates that the solvent box should only be 10 nm long along the z-axis\n",
    "    ### This results in solvent only being placed between the monolayers.\n",
    "    solvation = \"default zlength:10\",\n",
    "    \n",
    "    ### Uses topologies found in \"toppar/top_for_CGSB.itp\" for charge determination\n",
    "    itp_input = \"file:toppar/top_for_CGSB.itp\",\n",
    "    \n",
    "    ### File writing\n",
    "    out_sys = os.path.join(outdir, \"_\".join([\"output\", sysname])),\n",
    "    out_top = os.path.join(outdir, \"_\".join([\"topol\",  sysname]) + \".top\"),\n",
    "    out_log = os.path.join(outdir, \"_\".join([\"log\",    sysname]) + \".log\"),\n",
    "    \n",
    "    ### Designates the system name that is written in .pdb, .gro and .top files\n",
    "    sn = sysname,\n",
    ")"
   ]
  },
  {
   "cell_type": "markdown",
   "metadata": {
    "heading_collapsed": true
   },
   "source": [
    "# Membranes 6: Lipid Optimization"
   ]
  },
  {
   "cell_type": "markdown",
   "metadata": {
    "hidden": true
   },
   "source": [
    "This example shows how to change the way intra-leaflet lipid-ratio optimization is handled.\n",
    "\n",
    "Note that lipid optimization is done on a leaflet-by-leaflet basis. The maximum number of lipids that CGSB will insert in a leaflet is calculated from the following equation.\n",
    "\n",
    "- $\\text{N}_{\\text{max lipids}} = \\text{area}_{\\text{non-occupied}} / \\text{APL}$\n",
    "\n",
    "\n",
    "The minimum number of lipids that CGSB will insert (except for the ``insane``, and ``abs_val`` options) is calculated by dividing the N<sub>max lipids</sub> out to each inserted lipid in their relative ratio and rounding down resulting in N<sub>min lipids</sub>. $\\text{w}$ is the weigth (or ratio) and $\\left \\lfloor \\text{value} \\right \\rfloor$ indicates the the value is rounded down.\n",
    "\n",
    "- $\\text{w}_{\\text{sum}} = \\sum_{i} \\text{w}_{i}$\n",
    "\n",
    "- $\\text{N}_{\\text{min lipids}} = \\sum_{i} \\left \\lfloor \\text{w}_{i} / \\text{w}_{\\text{sum}} \\cdot \\text{N}_{\\text{max lipids}} \\right \\rfloor$\n",
    "\n",
    "\n",
    "Lipid-ratio optimization can be done in multiple ways:\n",
    "- ``force_fill``: Starts at $\\text{N}_{\\text{min lipids}}$ and adds extra lipids to the most underrepresented lipid type until $\\text{N}_{\\text{max lipids}}$ is reached.\n",
    "\n",
    "- ``fill``: The same as ``force_fill`` except that it will stop if a perfect ratio between the lipid types is found.\n",
    "\n",
    "- ``avg_optimal``: Chooses the lipid distribution between $\\text{N}_{\\text{min lipids}}$ and $\\text{N}_{\\text{max lipids}}$ that results in lipid ratios closest to the requested lipid ratios.\n",
    "\n",
    "- ``no``: Does not try to optimise lipid ratio. $\\text{N}_{\\text{min lipids}}$ will be inserted.\n",
    "\n",
    "- ``abs_val``: Lipid ratios are treated as an exact number of lipids to be inserted, instead of ratios between the lipids. Note that this may cause more than $\\text{N}_{\\text{max lipids}}$ to be inserted, though a warning will be printed, if that is the case.\n",
    "\n",
    "- ``insane``: Compatability mode to insert the same number of lipids that ``insane.py`` would normally insert. Does not fully recreate the same number of lipids as insane if there are holes in the membrane (such as ones caused by proteins inserted in the membrane).\n"
   ]
  },
  {
   "cell_type": "markdown",
   "metadata": {
    "hidden": true
   },
   "source": [
    "The following table includes some general information about the system being created."
   ]
  },
  {
   "cell_type": "markdown",
   "metadata": {
    "hidden": true
   },
   "source": [
    "\n",
    "|                     |                                  |                                   |              |\n",
    "|:-------------------:|:--------------------------------:|:---------------------------------:|:------------:|\n",
    "|        Lipids       | POPC : POPE : DLPC : DLPE : CHOL |   $\\text{N}_{\\text{max lipids}}$  |                    375                   |\n",
    "|     Given ratios    |   7.15 : 3.3 : 3.1 : 4.4 : 1.85  |   $\\text{N}_{\\text{min lipids}}$  |                    373                   |"
   ]
  },
  {
   "cell_type": "markdown",
   "metadata": {
    "hidden": true
   },
   "source": [
    "The following table shows the ratios, number of lipids, total lipids and deviation from the ideal for each of the optimization methods."
   ]
  },
  {
   "cell_type": "markdown",
   "metadata": {
    "hidden": true
   },
   "source": [
    "|                     |                                  |                                   |              |                                          |\n",
    "|:-------------------:|:--------------------------------:|:---------------------------------:|:------------:|:----------------------------------------:|\n",
    "| Optimization method |               Resulting ratios             |          Number of lipids         | Total lipids | Deviation in number of lipids from Ideal |\n",
    "|      **Ideal**      |  36.1 : 16.7 : 15.7 : 22.2 : 9.3 | 135.4 : 62.5 : 58.7 : 83.3 : 35.0 |      375     |                 Reference                |\n",
    "|      force_fill     |  36.0 : 16.8 : 15.7 : 22.1 : 9.3 |      135 : 63 : 59 : 83 : 35      |      375     |        -0.4 : 0.5 : 0.3 : -0.3 : 0       |\n",
    "|         fill        |  36.0 : 16.8 : 15.7 : 22.1 : 9.3 |      135 : 63 : 59 : 83 : 35      |      375     |        -0.4 : 0.5 : 0.3 : -0.3 : 0       |\n",
    "|     avg_optimal     |  36.1 : 16.6 : 15.8 : 22.2 : 9.4 |      135 : 62 : 59 : 83 : 35      |      374     |       -0.4 : -0.5 : 0.3 : -0.3 : 0       |\n",
    "|          no         |  36.2 : 16.6 : 15.5 : 22.3 : 9.4 |      135 : 62 : 58 : 83 : 35      |      373     |       -0.4 : -0.5 : -0.7 : -0.3 : 0      |\n",
    "|       abs_val       | 36.8 : 15.8 : 15.8 : 21.1 : 10.5 |         7 : 3 : 3 : 4 : 2         |      19      |               Not relevant               |\n",
    "|        insane       |  36.2 : 16.7 : 15.6 : 22.3 : 9.2 |      130 : 60 : 56 : 80 : 33      |      359     |      -5.4 : -2.5 : -2.7 : -3.3 : -2      |"
   ]
  },
  {
   "cell_type": "markdown",
   "metadata": {
    "hidden": true
   },
   "source": [
    "<div>\n",
    "<!-- height argument does not work in jupyter for whatever reason. Can't find any help online. -->\n",
    "<img src=\"figures/Membranes6_LipidOptimization.png\" width=\"400px\"/>\n",
    "</div>"
   ]
  },
  {
   "cell_type": "code",
   "execution_count": 5,
   "metadata": {
    "ExecuteTime": {
     "end_time": "2024-03-22T13:41:58.980512Z",
     "start_time": "2024-03-22T13:41:57.686126Z"
    },
    "hidden": true,
    "scrolled": true
   },
   "outputs": [
    {
     "name": "stdout",
     "output_type": "stream",
     "text": [
      "\n",
      "Setting random seed to: 1711114918\n",
      "-------------------------- PREPROCESSING DEFINITIONS ---------------------------\n",
      "Loading topology file(s)\n",
      "    Finished loading topologies. Number of moleculetypes found: 195 \n",
      "\n",
      "Preprocessing lipid scaffolds\n",
      "    Number of lipids preprocessed: 108 \n",
      "\n",
      "Preprocessing lipid definitions\n",
      "    Number of lipids preprocessed: 108 \n",
      "\n",
      "Preprocessing ion definitions\n",
      "    Number of positive ions preprocessed: 4\n",
      "    Number of negative ions preprocessed: 9\n",
      "Preprocessing solvent definitions\n",
      "    Number of solvents preprocessed: 62 \n",
      "\n",
      "---------------------- DEFINITIONS PREPROCESSING COMPLETE ----------------------\n",
      "                            (Time spent: 0.4428 [s])                             \n",
      "\n",
      "---------------------------- PREPROCESSING COMMANDS ----------------------------\n",
      "Preprocessing membrane requests\n",
      "    Starting membrane command: 1\n",
      "    Number of membranes preprocessed: 1\n",
      "Preprocessing solvent requests\n",
      "    Starting Solvent command: 1\n",
      "    Number of solvent commands preprocessed: 1\n",
      "------------------------ COMMAND PREPROCESSING COMPLETE ------------------------\n",
      "                            (Time spent: 0.0025 [s])                             \n",
      "\n",
      "----------------------- CREATING LEAFLET BOUNDARY BOXES ------------------------\n",
      "Starting membrane nr 1\n",
      "    Starting upper leaflet\n",
      "        Base parameters: x=15.0nm y=15.0nm APL=0.6nm^2\n",
      "    Starting lower leaflet\n",
      "        Base parameters: x=15.0nm y=15.0nm APL=0.6nm^2\n",
      "------------------------ LEAFLET BOUNDARY BOXES CREATED ------------------------\n",
      "                            (Time spent: 0.0009 [s])                             \n",
      "\n",
      "------------------------ CREATING HOLED BOUNDARY BOXES -------------------------\n",
      "Starting membrane nr 1\n",
      "    Calculating holed boundary box\n",
      "        Starting upper leaflet\n",
      "        Starting lower leaflet\n",
      "------------------------- HOLED BOUNDARY BOXES CREATED -------------------------\n",
      "                            (Time spent: 0.0005 [s])                             \n",
      "\n",
      "--------------------------- CALCULATING LIPID RATIOS ---------------------------\n",
      "Starting membrane nr 1\n",
      "    Starting upper leaflet\n",
      "        Lipid optimization 'lipid_optim' setting: force_fill\n",
      "            Forcefully filling leaflet until all grid points have a lipid\n",
      "        Maximum number of lipids allowed in leaflet: 375\n",
      "        Final deviations from expected ratios: Difference in %-values\n",
      "            Maximum: 0.133\n",
      "            Average: 0.0838\n",
      "            Minimum: 0.01\n",
      "        Leaflet specific lipid data (Combined subleafs)\n",
      "            Name : Final lipids : Final % : Expected % : Starting % : Starting lipids\n",
      "            POPC : 135          : 36.0    : 36.111     : 36.193     : 135            \n",
      "            DLPE : 83           : 22.133  : 22.222     : 22.252     : 83             \n",
      "            POPE : 63           : 16.8    : 16.667     : 16.622     : 62             \n",
      "            DLPC : 59           : 15.733  : 15.657     : 15.55      : 58             \n",
      "            CHOL : 35           : 9.333   : 9.343      : 9.383      : 35             \n",
      "\n",
      "    Starting lower leaflet\n",
      "        Lipid optimization 'lipid_optim' setting: force_fill\n",
      "            Forcefully filling leaflet until all grid points have a lipid\n",
      "        Maximum number of lipids allowed in leaflet: 375\n",
      "        Final deviations from expected ratios: Difference in %-values\n",
      "            Maximum: 0.133\n",
      "            Average: 0.0838\n",
      "            Minimum: 0.01\n",
      "        Leaflet specific lipid data (Combined subleafs)\n",
      "            Name : Final lipids : Final % : Expected % : Starting % : Starting lipids\n",
      "            POPC : 135          : 36.0    : 36.111     : 36.193     : 135            \n",
      "            DLPE : 83           : 22.133  : 22.222     : 22.252     : 83             \n",
      "            POPE : 63           : 16.8    : 16.667     : 16.622     : 62             \n",
      "            DLPC : 59           : 15.733  : 15.657     : 15.55      : 58             \n",
      "            CHOL : 35           : 9.333   : 9.343      : 9.383      : 35             \n",
      "\n",
      "    Membrane-wide lipid data\n",
      "            Name : Total lipids : Total %\n",
      "            POPC : 270          : 36.0   \n",
      "            DLPE : 166          : 22.133 \n",
      "            POPE : 126          : 16.8   \n",
      "            DLPC : 118          : 15.733 \n",
      "            CHOL : 70           : 9.333  \n",
      "---------------------- LIPID RATIO CALCULATIONS COMPLETE -----------------------\n",
      "                            (Time spent: 0.003 [s])                              \n",
      "\n",
      "----------------------------- CREATING LIPID GRID ------------------------------\n",
      "Starting membrane nr 1\n",
      "    Starting upper leaflet\n",
      "            Initial grid creation time: 0.0045 [s]\n",
      "\n",
      "    Starting lower leaflet\n",
      "            Initial grid creation time: 0.0044 [s]\n",
      "------------------------------ LIPID GRID CREATED ------------------------------\n",
      "                            (Time spent: 0.0098 [s])                             \n",
      "\n",
      "------------------------------- CREATING LIPIDS --------------------------------\n",
      "Starting membrane nr 1\n",
      "    Starting upper leaflet\n",
      "    Starting lower leaflet\n",
      "--------------------------- LIPID CREATION COMPLETE ----------------------------\n",
      "                            (Time spent: 0.129 [s])                              \n",
      "\n",
      "------------------------------- SOLVATING SYSTEM -------------------------------\n",
      "Starting solvation nr 1\n",
      "    Calculating box volume: (all values in [nm^3])\n",
      "        Bead radius used for volume calculations 'bead_radius': 0.264 [nm]\n",
      "        Solvent box volume: 2250.0\n",
      "        Excluded volume:    633.691\n",
      "            Solute volume:  0.0\n",
      "            Lipid volume:   633.691\n",
      "            Protein volume: 0.0\n",
      "        Free volume:        1616.309\n",
      "        Solvent volume:     1623.18\n",
      "\n",
      "    Solvent box charge information:\n",
      "        Solvent box charge before solvent insertion: 0.0\n",
      "            Prior solvent beads:  0\n",
      "            Lipid beads:          0.0\n",
      "            Protein beads:        0\n",
      "        Solvent box charge after solvent insertion:  0.0\n",
      "            New solvent beads: 0.0\n",
      "                Solvent       (solv): 0\n",
      "                Positive ions (pos):  147.0\n",
      "                Negative ions (neg):  -147.0\n",
      "\n",
      "    Calculating the number of available grid points\n",
      "        Final number of 3D grid points available for solvent placement: 68363\n",
      "        Inserting 13814 solvent molecules into random grid points:\n",
      "            Currently at solvent number: 1\n",
      "            Currently at solvent number: 13814\n",
      "\n",
      "Solvent data for whole system\n",
      "        Name : Totals : Total % : Molarity(box) : Molarity(free) : Molarity(solvent) : Charge\n",
      "        W    : 13520  : 97.872  : 9.978         : 13.89          : 13.831            : 0     \n",
      "        NA   : 147    : 1.064   : 0.108         : 0.151          : 0.15              : 1.0   \n",
      "        CL   : 147    : 1.064   : 0.108         : 0.151          : 0.15              : -1.0  \n",
      "------------------------------ SOLVATION COMPLETE ------------------------------\n",
      "                            (Time spent: 0.291 [s])                              \n",
      "\n",
      "--------------------\n",
      "Final system charge: 0.0\n",
      "-------------------- \n",
      "\n",
      "---------------------- Writing structure files (PDB/GRO) -----------------------\n",
      "PDB file written: output_systems/Membranes6_LipidOptimization/output_Membranes6_LipidOptimization.pdb\n",
      "GRO file written: output_systems/Membranes6_LipidOptimization/output_Membranes6_LipidOptimization.gro\n",
      "\n",
      "---------------------------- Writing topology file -----------------------------\n",
      "Topology file written: output_systems/Membranes6_LipidOptimization/topol_Membranes6_LipidOptimization.top \n",
      "\n",
      "------------------------------- Writing log file -------------------------------\n",
      "Log file written: output_systems/Membranes6_LipidOptimization/log_Membranes6_LipidOptimization.log \n",
      "\n",
      "My task is complete. Did i do a good job?\n",
      "Time spent running CGSB: 1.2782\n"
     ]
    },
    {
     "data": {
      "text/plain": [
       "<CGSB.main_class.CGSB_class.CGSB at 0x7fc0548f1610>"
      ]
     },
     "execution_count": 5,
     "metadata": {},
     "output_type": "execute_result"
    }
   ],
   "source": [
    "import math\n",
    "\n",
    "sysname = \"Membranes6_LipidOptimization\"\n",
    "outdir = os.path.join(\"output_systems\", sysname)\n",
    "os.makedirs(outdir, exist_ok=True)\n",
    "\n",
    "CGSB.CGSB(\n",
    "    ### Designates box size\n",
    "    box = [15, 15, 10], # [nm]\n",
    "\n",
    "    ### Inserts a complex membrane\n",
    "    membrane = \" \".join([\n",
    "        ### Five lipid types are inserted with indicated ratios.\n",
    "        \"lipid:POPC:7.15 lipid:POPE:3.3 lipid:DLPC:3.1 lipid:DLPE:4.4 lipid:CHOL:1.85\",\n",
    "        \n",
    "        ### Area-per-lipid\n",
    "        ### APL is by default 0.6 [nm^2 * lipid^-1]\n",
    "        ### Shown in this example for clarity\n",
    "        \"apl:0.6\",\n",
    "        \n",
    "        ### The available lipid optimization arguments. Comment/uncomment to see the effect of different ones.\n",
    "        ### Verbose has also been set to 2 further down. This allows some composition specific information to be printed to the terminal.\n",
    "        ### See the printout under \"CALCULATING LIPID RATIOS\".\n",
    "        \"lipid_optim:force_fill\", # default\n",
    "#         \"lipid_optim:fill\",\n",
    "#         \"lipid_optim:avg_optimal\",\n",
    "#         \"lipid_optim:no\",\n",
    "#         \"lipid_optim:abs_val\",\n",
    "#         \"lipid_optim:insane\",\n",
    "    ]),\n",
    "\n",
    "    ### Solvates the system using the default solvation settings of \"solv:W pos:NA neg:CL\"\n",
    "    solvation = \"default\",\n",
    "\n",
    "    ### Uses topologies found in \"toppar/top_for_CGSB.itp\" for charge determination\n",
    "    itp_input = \"file:toppar/top_for_CGSB.itp\",\n",
    "\n",
    "    ### File writing\n",
    "    out_sys = os.path.join(outdir, \"_\".join([\"output\", sysname])),\n",
    "    out_top = os.path.join(outdir, \"_\".join([\"topol\",  sysname]) + \".top\"),\n",
    "    out_log = os.path.join(outdir, \"_\".join([\"log\",    sysname]) + \".log\"),\n",
    "\n",
    "    ### Designates the system name that is written in .pdb, .gro and .top files\n",
    "    sn = sysname,\n",
    "    \n",
    "    ### Verbose of 2 or higher results in printing of membrane and leaflet specific information.\n",
    "    ### Lipid distribution is broken down in the printout under \"CALCULATING LIPID RATIOS\".\n",
    "    verbose = 2,\n",
    ")"
   ]
  },
  {
   "cell_type": "markdown",
   "metadata": {
    "heading_collapsed": true
   },
   "source": [
    "# Nanodisc"
   ]
  },
  {
   "cell_type": "markdown",
   "metadata": {
    "hidden": true
   },
   "source": [
    "This example shows how to insert a nanodisc with a membrane contained within. \n",
    "\n",
    "The nanodisc is inserted as a protein with the ``protein`` subargument ``membrane_border:True`` being used to tell CGSB that membranes should be allowed to be placed within the protein.\n",
    "\n",
    "A membrane consisting of DMPC is placed inside the nanodisc by specifying under ``membrane`` subargument ``inside_protein:True``, which tells CGSB that this particular membrane should be placed inside proteins that have ``membrane_border:True`` set.\n"
   ]
  },
  {
   "cell_type": "markdown",
   "metadata": {
    "hidden": true
   },
   "source": [
    "<div>\n",
    "<!-- height argument does not work in jupyter for whatever reason. Can't find any help online. -->\n",
    "<img src=\"figures/Nanodisc.png\" width=\"300px\"/>\n",
    "</div>"
   ]
  },
  {
   "cell_type": "code",
   "execution_count": 6,
   "metadata": {
    "ExecuteTime": {
     "end_time": "2024-03-22T13:42:03.658928Z",
     "start_time": "2024-03-22T13:41:58.983901Z"
    },
    "hidden": true
   },
   "outputs": [
    {
     "name": "stdout",
     "output_type": "stream",
     "text": [
      "\n",
      "Setting random seed to: 1711114919\n",
      "-------------------------- PREPROCESSING DEFINITIONS ---------------------------\n",
      "---------------------- DEFINITIONS PREPROCESSING COMPLETE ----------------------\n",
      "                            (Time spent: 0.5196 [s])                             \n",
      "\n",
      "---------------------------- PREPROCESSING COMMANDS ----------------------------\n",
      "------------------------ COMMAND PREPROCESSING COMPLETE ------------------------\n",
      "                            (Time spent: 0.0098 [s])                             \n",
      "\n",
      "------------------------------ PROTEIN PLACEMENT -------------------------------\n",
      "-------------------------- PROTEIN PLACEMENT COMPLETE --------------------------\n",
      "                            (Time spent: 0.0054 [s])                             \n",
      "\n",
      "----------------------- CREATING LEAFLET BOUNDARY BOXES ------------------------\n",
      "------------------------ LEAFLET BOUNDARY BOXES CREATED ------------------------\n",
      "                            (Time spent: 0.0008 [s])                             \n",
      "\n",
      "------------------------ CREATING HOLED BOUNDARY BOXES -------------------------\n",
      "------------------------- HOLED BOUNDARY BOXES CREATED -------------------------\n",
      "                            (Time spent: 1.6486 [s])                             \n",
      "\n",
      "--------------------------- CALCULATING LIPID RATIOS ---------------------------\n",
      "---------------------- LIPID RATIO CALCULATIONS COMPLETE -----------------------\n",
      "                            (Time spent: 0.0014 [s])                             \n",
      "\n",
      "----------------------------- CREATING LIPID GRID ------------------------------\n",
      "------------------------------ LIPID GRID CREATED ------------------------------\n",
      "                            (Time spent: 0.0928 [s])                             \n",
      "\n",
      "------------------------------- CREATING LIPIDS --------------------------------\n",
      "--------------------------- LIPID CREATION COMPLETE ----------------------------\n",
      "                            (Time spent: 0.0357 [s])                             \n",
      "\n",
      "------------------------------- SOLVATING SYSTEM -------------------------------\n",
      "------------------------------ SOLVATION COMPLETE ------------------------------\n",
      "                            (Time spent: 1.602 [s])                              \n",
      "\n",
      "--------------------\n",
      "Final system charge: 0.0\n",
      "-------------------- \n",
      "\n",
      "---------------------- Writing structure files (PDB/GRO) -----------------------\n",
      "PDB file written: output_systems/Nanodisc/output_Nanodisc.pdb\n",
      "GRO file written: output_systems/Nanodisc/output_Nanodisc.gro\n",
      "\n",
      "---------------------------- Writing topology file -----------------------------\n",
      "Topology file written: output_systems/Nanodisc/topol_Nanodisc.top \n",
      "\n",
      "------------------------------- Writing log file -------------------------------\n",
      "Log file written: output_systems/Nanodisc/log_Nanodisc.log \n",
      "\n",
      "My task is complete. Did i do a good job?\n",
      "Time spent running CGSB: 4.665\n"
     ]
    }
   ],
   "source": [
    "sysname = \"Nanodisc\"\n",
    "outdir = os.path.join(\"output_systems\", sysname)\n",
    "os.makedirs(outdir, exist_ok=True)\n",
    "\n",
    "test = CGSB.CGSB(\n",
    "    ### Designates box size\n",
    "    box = [20, 20, 12], # [nm]\n",
    "    \n",
    "    ### Makes a simple DMPC membrane\n",
    "    membrane = \" \".join([\n",
    "        \"lipid:DMPC.o:charge:lib\", # params:Generated_Lipids\n",
    "        \"inside_protein:True\",\n",
    "        ### Sets that the membrane plane should be solvated (the part of the plane that is outside the nanodisc)\n",
    "        \"solvate_hole:True\",\n",
    "    ]),\n",
    "    \n",
    "    ### Inserts proteins\n",
    "    protein = [\n",
    "        \" \".join([\n",
    "            ### Both rings of the nanodisc are contained in the same .pdb file\n",
    "            \"file:example_proteins/6clz_nanodisc_martinized.pdb\",\n",
    "            ### References the moleculetypes for the two rings\n",
    "            \"moleculetypes:nanodisc_ring1:nanodisc_ring2\",\n",
    "            ### Sets that this protein should be treated as a membrane border for membranes with \"inside_protein:True\"\n",
    "            \"membrane_border:True\",\n",
    "        ]),\n",
    "    ],\n",
    "    \n",
    "    ### Solvates the system using the default solvation settings of \"solv:W pos:NA neg:CL\"\n",
    "    solvation = \"default\",\n",
    "    \n",
    "    ### Uses topologies found in \"toppar/top_for_CGSB.itp\" for charge determination\n",
    "    ### Adds the .itp files for the two rings of the nanodisc using two \"inlcude:\" subarguments\n",
    "    itp_input =  [\n",
    "        \"file:toppar/top_for_CGSB.itp\",\n",
    "        \"include:toppar/Nanodisc/6clz_nanodisc_martinized_ring1.itp\",\n",
    "        \"include:toppar/Nanodisc/6clz_nanodisc_martinized_ring2.itp\",\n",
    "    ],\n",
    "    \n",
    "    ### File writing\n",
    "    out_sys = os.path.join(outdir, \"_\".join([\"output\", sysname])),\n",
    "    out_top = os.path.join(outdir, \"_\".join([\"topol\",  sysname]) + \".top\"),\n",
    "    out_log = os.path.join(outdir, \"_\".join([\"log\",    sysname]) + \".log\"),\n",
    "    \n",
    "    ### Designates the system name\n",
    "    sn = sysname,\n",
    ")"
   ]
  },
  {
   "cell_type": "markdown",
   "metadata": {},
   "source": [
    "# Holes"
   ]
  },
  {
   "cell_type": "markdown",
   "metadata": {},
   "source": [
    "Holes in the membrane can be made using the ``hole`` subargument within the ``membrane`` argument. \n",
    "\n",
    "The ``hole`` subargument is followed by hole shape and dimensions (the number of required dimensions is dependent on the hole shape).\n",
    "\n",
    "Available hole shapes (and required dimensions) are:\n",
    "\n",
    "- ``circle:radius:[float]:cx:[float]:cy:[float]`` - The hole is circular in shape, with a designated radius and x and y positions in the x/y plane.\n",
    "\n",
    "- ``ellipse:xradius:[float]:yradius:[float]:cx:[float]:cy:[float]`` - Makes an ellipsoidal hole with an x-radius, a y-radius, and centered at coordinates in the x/y plane.\n",
    "\n",
    "- ``square:length:[float]:cx:[float]:cy:[float]`` - Makes a square hole, specified using a sidelength value and positioned using the x and y positions.\n",
    "\n",
    "- ``rectangle:xlength:[float]:ylength:[float]:cx:[float]:cy:[float]`` - Makes a rectangle hole that is specified using the two sidelengths and center coordinates in the x/y plane.\n",
    "\n",
    "- ``polygon:point:[float]:[float]:point:[float]:[float]:point:[float]:[float]``(...) - Creates a polygonal hole, where the polygon shape is specified by point coordinates in the x/y plane. The two float values after ``point`` are x- and y-coordinate values. Any number of ``point`` subarguments can be added, but a minimum of three are required.\n"
   ]
  },
  {
   "cell_type": "markdown",
   "metadata": {
    "heading_collapsed": true
   },
   "source": [
    "## Holes 1: Holed Membrane with Solvent in Hole"
   ]
  },
  {
   "cell_type": "markdown",
   "metadata": {
    "hidden": true
   },
   "source": [
    "This example creates a single membrane with a circular hole which is offset in the x-axis using the argument: ``hole:circle:radius:cx:cy``. Solvent is by default placed within the hole in the membrane.\n"
   ]
  },
  {
   "cell_type": "markdown",
   "metadata": {
    "hidden": true
   },
   "source": [
    "<div>\n",
    "<!-- height argument does not work in jupyter for whatever reason. Can't find any help online. -->\n",
    "<img src=\"figures/Holes1_HoledMembrane_HoleFilled.png\" width=\"400px\"/>\n",
    "</div>"
   ]
  },
  {
   "cell_type": "code",
   "execution_count": 7,
   "metadata": {
    "ExecuteTime": {
     "end_time": "2024-03-22T13:42:05.751779Z",
     "start_time": "2024-03-22T13:42:03.660831Z"
    },
    "hidden": true,
    "scrolled": false
   },
   "outputs": [
    {
     "name": "stdout",
     "output_type": "stream",
     "text": [
      "\n",
      "Setting random seed to: 1711114924\n",
      "-------------------------- PREPROCESSING DEFINITIONS ---------------------------\n",
      "---------------------- DEFINITIONS PREPROCESSING COMPLETE ----------------------\n",
      "                            (Time spent: 0.4753 [s])                             \n",
      "\n",
      "---------------------------- PREPROCESSING COMMANDS ----------------------------\n",
      "------------------------ COMMAND PREPROCESSING COMPLETE ------------------------\n",
      "                            (Time spent: 0.0011 [s])                             \n",
      "\n",
      "----------------------- CREATING LEAFLET BOUNDARY BOXES ------------------------\n",
      "------------------------ LEAFLET BOUNDARY BOXES CREATED ------------------------\n",
      "                            (Time spent: 0.0011 [s])                             \n",
      "\n",
      "------------------------ CREATING HOLED BOUNDARY BOXES -------------------------\n",
      "------------------------- HOLED BOUNDARY BOXES CREATED -------------------------\n",
      "                            (Time spent: 0.0013 [s])                             \n",
      "\n",
      "--------------------------- CALCULATING LIPID RATIOS ---------------------------\n",
      "---------------------- LIPID RATIO CALCULATIONS COMPLETE -----------------------\n",
      "                            (Time spent: 0.0009 [s])                             \n",
      "\n",
      "----------------------------- CREATING LIPID GRID ------------------------------\n",
      "------------------------------ LIPID GRID CREATED ------------------------------\n",
      "                            (Time spent: 0.0297 [s])                             \n",
      "\n",
      "------------------------------- CREATING LIPIDS --------------------------------\n",
      "--------------------------- LIPID CREATION COMPLETE ----------------------------\n",
      "                            (Time spent: 0.4154 [s])                             \n",
      "\n",
      "------------------------------- SOLVATING SYSTEM -------------------------------\n",
      "------------------------------ SOLVATION COMPLETE ------------------------------\n",
      "                            (Time spent: 0.475 [s])                              \n",
      "\n",
      "--------------------\n",
      "Final system charge: 0.0\n",
      "-------------------- \n",
      "\n",
      "---------------------- Writing structure files (PDB/GRO) -----------------------\n",
      "PDB file written: output_systems/Holes1_HoledMembrane_HoleFilled/output_Holes1_HoledMembrane_HoleFilled.pdb\n",
      "GRO file written: output_systems/Holes1_HoledMembrane_HoleFilled/output_Holes1_HoledMembrane_HoleFilled.gro\n",
      "\n",
      "---------------------------- Writing topology file -----------------------------\n",
      "Topology file written: output_systems/Holes1_HoledMembrane_HoleFilled/topol_Holes1_HoledMembrane_HoleFilled.top \n",
      "\n",
      "------------------------------- Writing log file -------------------------------\n",
      "Log file written: output_systems/Holes1_HoledMembrane_HoleFilled/log_Holes1_HoledMembrane_HoleFilled.log \n",
      "\n",
      "My task is complete. Did i do a good job?\n",
      "Time spent running CGSB: 2.073\n"
     ]
    },
    {
     "data": {
      "text/plain": [
       "<CGSB.main_class.CGSB_class.CGSB at 0x7fc057998e20>"
      ]
     },
     "execution_count": 7,
     "metadata": {},
     "output_type": "execute_result"
    }
   ],
   "source": [
    "sysname = \"Holes1_HoledMembrane_HoleFilled\"\n",
    "outdir = os.path.join(\"output_systems\", sysname)\n",
    "os.makedirs(outdir, exist_ok=True)\n",
    "\n",
    "CGSB.CGSB(\n",
    "    box = [20, 20, 10], # [nm]\n",
    "    \n",
    "    membrane = \" \".join([\n",
    "        ### Creates a membrane consisting of POPC \n",
    "        \"lipid:POPC\",\n",
    "        \n",
    "        ### Makes a circular hole with a radius of 3 nm centered at (-5 nm, 0 nm)\n",
    "        \"hole:circle:radius:3:cx:-5:cy:0\",\n",
    "    ]),\n",
    "    \n",
    "    ### Solvates the system using the default solvation settings of \"solv:W pos:NA neg:CL\"\n",
    "    solvation = \"default\",\n",
    "    \n",
    "    ### Uses topologies found in \"toppar/top_for_CGSB.itp\" for charge determination\n",
    "    itp_input = \"file:toppar/top_for_CGSB.itp\",\n",
    "    \n",
    "    ### File writing\n",
    "    out_sys = os.path.join(outdir, \"_\".join([\"output\", sysname])),\n",
    "    out_top = os.path.join(outdir, \"_\".join([\"topol\",  sysname]) + \".top\"),\n",
    "    out_log = os.path.join(outdir, \"_\".join([\"log\",    sysname]) + \".log\"),\n",
    "    \n",
    "    ### Designates the system name\n",
    "    sn = sysname,\n",
    ")\n"
   ]
  },
  {
   "cell_type": "markdown",
   "metadata": {
    "heading_collapsed": true
   },
   "source": [
    "## Holes 2: Holed Membrane without Solvent in Hole"
   ]
  },
  {
   "cell_type": "markdown",
   "metadata": {
    "hidden": true
   },
   "source": [
    "This example is identical to the previous one, except that the hole is not filled with solvent by using the ``solvate_hole:False`` subargument within the membrane argument."
   ]
  },
  {
   "cell_type": "markdown",
   "metadata": {
    "hidden": true
   },
   "source": [
    "<div>\n",
    "<!-- height argument does not work in jupyter for whatever reason. Can't find any help online. -->\n",
    "<img src=\"figures/Holes2_HoledMembrane_HoleEmpty.png\" width=\"400px\"/>\n",
    "</div>"
   ]
  },
  {
   "cell_type": "code",
   "execution_count": 8,
   "metadata": {
    "ExecuteTime": {
     "end_time": "2024-03-22T13:42:07.696974Z",
     "start_time": "2024-03-22T13:42:05.753667Z"
    },
    "hidden": true
   },
   "outputs": [
    {
     "name": "stdout",
     "output_type": "stream",
     "text": [
      "\n",
      "Setting random seed to: 1711114926\n",
      "-------------------------- PREPROCESSING DEFINITIONS ---------------------------\n",
      "---------------------- DEFINITIONS PREPROCESSING COMPLETE ----------------------\n",
      "                            (Time spent: 0.4822 [s])                             \n",
      "\n",
      "---------------------------- PREPROCESSING COMMANDS ----------------------------\n",
      "------------------------ COMMAND PREPROCESSING COMPLETE ------------------------\n",
      "                            (Time spent: 0.0009 [s])                             \n",
      "\n",
      "----------------------- CREATING LEAFLET BOUNDARY BOXES ------------------------\n",
      "------------------------ LEAFLET BOUNDARY BOXES CREATED ------------------------\n",
      "                            (Time spent: 0.0011 [s])                             \n",
      "\n",
      "------------------------ CREATING HOLED BOUNDARY BOXES -------------------------\n",
      "------------------------- HOLED BOUNDARY BOXES CREATED -------------------------\n",
      "                            (Time spent: 0.0013 [s])                             \n",
      "\n",
      "--------------------------- CALCULATING LIPID RATIOS ---------------------------\n",
      "---------------------- LIPID RATIO CALCULATIONS COMPLETE -----------------------\n",
      "                            (Time spent: 0.0009 [s])                             \n",
      "\n",
      "----------------------------- CREATING LIPID GRID ------------------------------\n",
      "------------------------------ LIPID GRID CREATED ------------------------------\n",
      "                            (Time spent: 0.0299 [s])                             \n",
      "\n",
      "------------------------------- CREATING LIPIDS --------------------------------\n",
      "--------------------------- LIPID CREATION COMPLETE ----------------------------\n",
      "                            (Time spent: 0.2244 [s])                             \n",
      "\n",
      "------------------------------- SOLVATING SYSTEM -------------------------------\n",
      "------------------------------ SOLVATION COMPLETE ------------------------------\n",
      "                            (Time spent: 0.508 [s])                              \n",
      "\n",
      "--------------------\n",
      "Final system charge: 0.0\n",
      "-------------------- \n",
      "\n",
      "---------------------- Writing structure files (PDB/GRO) -----------------------\n",
      "PDB file written: output_systems/Holes2_HoledMembrane_HoleEmpty/output_Holes2_HoledMembrane_HoleEmpty.pdb\n",
      "GRO file written: output_systems/Holes2_HoledMembrane_HoleEmpty/output_Holes2_HoledMembrane_HoleEmpty.gro\n",
      "\n",
      "---------------------------- Writing topology file -----------------------------\n",
      "Topology file written: output_systems/Holes2_HoledMembrane_HoleEmpty/topol_Holes2_HoledMembrane_HoleEmpty.top \n",
      "\n",
      "------------------------------- Writing log file -------------------------------\n",
      "Log file written: output_systems/Holes2_HoledMembrane_HoleEmpty/log_Holes2_HoledMembrane_HoleEmpty.log \n",
      "\n",
      "My task is complete. Did i do a good job?\n",
      "Time spent running CGSB: 1.9251\n"
     ]
    },
    {
     "data": {
      "text/plain": [
       "<CGSB.main_class.CGSB_class.CGSB at 0x7fc04ff2cc70>"
      ]
     },
     "execution_count": 8,
     "metadata": {},
     "output_type": "execute_result"
    }
   ],
   "source": [
    "sysname = \"Holes2_HoledMembrane_HoleEmpty\"\n",
    "outdir = os.path.join(\"output_systems\", sysname)\n",
    "os.makedirs(outdir, exist_ok=True)\n",
    "\n",
    "CGSB.CGSB(\n",
    "    box = [20, 20, 10], # [nm]\n",
    "    \n",
    "    membrane = \" \".join([\n",
    "        ### Creates a membrane consisting of POPC \n",
    "        \"lipid:POPC\",\n",
    "        \n",
    "        ### Makes a circular hole with a radius of 3 nm centered at (-5 nm, 0 nm)\n",
    "        \"hole:circle:radius:3:cx:-5:cy:0\",\n",
    "        \n",
    "        ### This subargument prevents solvent from being placed within any holes that may be present in this membrane\n",
    "        \"solvate_hole:False\",\n",
    "    ]),\n",
    "\n",
    "    solvation = \"default\",\n",
    "    \n",
    "    ### Uses topologies found in \"toppar/top_for_CGSB.itp\" for charge determination\n",
    "    itp_input = \"file:toppar/top_for_CGSB.itp\",\n",
    "    \n",
    "    ### File writing\n",
    "    out_sys = os.path.join(outdir, \"_\".join([\"output\", sysname])),\n",
    "    out_top = os.path.join(outdir, \"_\".join([\"topol\",  sysname]) + \".top\"),\n",
    "    out_log = os.path.join(outdir, \"_\".join([\"log\",    sysname]) + \".log\"),\n",
    "    \n",
    "    ### Designates the system name\n",
    "    sn = sysname,\n",
    ")\n"
   ]
  },
  {
   "cell_type": "markdown",
   "metadata": {
    "heading_collapsed": true
   },
   "source": [
    "## Holes 3: Multiple Holes"
   ]
  },
  {
   "cell_type": "markdown",
   "metadata": {
    "hidden": true
   },
   "source": [
    "This example creates a single membrane with multiple holes.\n",
    "\n",
    "-  A circular hole is made in the bottom left corner of the membrane with a center of (-5 nm, -5 nm).\n",
    "\n",
    "-  An ellipsoidal hole is made in the top left corner of the membrane with a center of (-5 nm, 5 nm).\n",
    "\n",
    "-  A square hole is made in the top right corner of the membrane with a center of (5 nm, 5 nm).\n",
    "\n",
    "-  A rectangular hole is made in the bottom right corner of the membrane with a center of (5 nm, -5 nm).\n",
    "\n",
    "The system is solvated using default solvation settings.\n"
   ]
  },
  {
   "cell_type": "markdown",
   "metadata": {
    "hidden": true
   },
   "source": [
    "<div>\n",
    "<!-- height argument does not work in jupyter for whatever reason. Can't find any help online. -->\n",
    "<img src=\"figures/Holes3_MultipleHoles.png\" width=\"400px\"/>\n",
    "</div>"
   ]
  },
  {
   "cell_type": "code",
   "execution_count": 9,
   "metadata": {
    "ExecuteTime": {
     "end_time": "2024-03-22T13:42:09.636632Z",
     "start_time": "2024-03-22T13:42:07.701194Z"
    },
    "hidden": true,
    "scrolled": true
   },
   "outputs": [
    {
     "name": "stdout",
     "output_type": "stream",
     "text": [
      "\n",
      "Setting random seed to: 1711114928\n",
      "-------------------------- PREPROCESSING DEFINITIONS ---------------------------\n",
      "---------------------- DEFINITIONS PREPROCESSING COMPLETE ----------------------\n",
      "                            (Time spent: 0.4368 [s])                             \n",
      "\n",
      "---------------------------- PREPROCESSING COMMANDS ----------------------------\n",
      "------------------------ COMMAND PREPROCESSING COMPLETE ------------------------\n",
      "                            (Time spent: 0.001 [s])                              \n",
      "\n",
      "----------------------- CREATING LEAFLET BOUNDARY BOXES ------------------------\n",
      "------------------------ LEAFLET BOUNDARY BOXES CREATED ------------------------\n",
      "                            (Time spent: 0.0011 [s])                             \n",
      "\n",
      "------------------------ CREATING HOLED BOUNDARY BOXES -------------------------\n",
      "------------------------- HOLED BOUNDARY BOXES CREATED -------------------------\n",
      "                            (Time spent: 0.0028 [s])                             \n",
      "\n",
      "--------------------------- CALCULATING LIPID RATIOS ---------------------------\n",
      "---------------------- LIPID RATIO CALCULATIONS COMPLETE -----------------------\n",
      "                            (Time spent: 0.0009 [s])                             \n",
      "\n",
      "----------------------------- CREATING LIPID GRID ------------------------------\n",
      "------------------------------ LIPID GRID CREATED ------------------------------\n",
      "                            (Time spent: 0.0718 [s])                             \n",
      "\n",
      "------------------------------- CREATING LIPIDS --------------------------------\n",
      "--------------------------- LIPID CREATION COMPLETE ----------------------------\n",
      "                            (Time spent: 0.1932 [s])                             \n",
      "\n",
      "------------------------------- SOLVATING SYSTEM -------------------------------\n",
      "------------------------------ SOLVATION COMPLETE ------------------------------\n",
      "                            (Time spent: 0.568 [s])                              \n",
      "\n",
      "--------------------\n",
      "Final system charge: 0.0\n",
      "-------------------- \n",
      "\n",
      "---------------------- Writing structure files (PDB/GRO) -----------------------\n",
      "PDB file written: output_systems/Holes3_MultipleHoles/output_Holes3_MultipleHoles.pdb\n",
      "GRO file written: output_systems/Holes3_MultipleHoles/output_Holes3_MultipleHoles.gro\n",
      "\n",
      "---------------------------- Writing topology file -----------------------------\n",
      "Topology file written: output_systems/Holes3_MultipleHoles/topol_Holes3_MultipleHoles.top \n",
      "\n",
      "------------------------------- Writing log file -------------------------------\n",
      "Log file written: output_systems/Holes3_MultipleHoles/log_Holes3_MultipleHoles.log \n",
      "\n",
      "My task is complete. Did i do a good job?\n",
      "Time spent running CGSB: 1.9247\n"
     ]
    },
    {
     "data": {
      "text/plain": [
       "<CGSB.main_class.CGSB_class.CGSB at 0x7fc04e788af0>"
      ]
     },
     "execution_count": 9,
     "metadata": {},
     "output_type": "execute_result"
    }
   ],
   "source": [
    "sysname = \"Holes3_MultipleHoles\"\n",
    "outdir = os.path.join(\"output_systems\", sysname)\n",
    "os.makedirs(outdir, exist_ok=True)\n",
    "\n",
    "CGSB.CGSB(\n",
    "    box = [20, 20, 10], # [nm]\n",
    "    \n",
    "    membrane = \" \".join([\n",
    "        ### Creates a membrane consisting of POPC \n",
    "        \"lipid:POPC\",\n",
    "        \n",
    "        ### Makes a circular hole with a radius of 3 nm; centered at 5 nm, -5 nm)\n",
    "        \"hole:circle:radius:3:cx:-5:cy:-5\",\n",
    "        \n",
    "        ### Makes a ellipsoidal hole with an x-radius of 1.5 nm; a y-radius of 3 nm; centered at (-5 nm, 5 nm)\n",
    "        \"hole:ellipse:xradius:1.5:yradius:3:cx:-5:cy:5\",\n",
    "        \n",
    "        ### Makes a square hole with a sidelength of 5 nm; centered at (5 nm, 5 nm)\n",
    "        \"hole:square:length:5:cx:5:cy:5\",\n",
    "        \n",
    "        ### Makes a rectangular hole with an x-sidelength of 2 nm; a y-sidelength of 6 nm; centered at (5 nm, -5 nm)\n",
    "        \"hole:rectangle:xlength:2:ylength:6:cx:5:cy:-5\",\n",
    "    ]),\n",
    "    \n",
    "    ### Solvates the system using the default solvation settings of \"solv:W pos:NA neg:CL\"\n",
    "    solvation = \"default\",\n",
    "    \n",
    "    ### Uses topologies found in \"toppar/top_for_CGSB.itp\" for charge determination\n",
    "    itp_input = \"file:toppar/top_for_CGSB.itp\",\n",
    "    \n",
    "    ### File writing\n",
    "    out_sys = os.path.join(outdir, \"_\".join([\"output\", sysname])),\n",
    "    out_top = os.path.join(outdir, \"_\".join([\"topol\",  sysname]) + \".top\"),\n",
    "    out_log = os.path.join(outdir, \"_\".join([\"log\",    sysname]) + \".log\"),\n",
    "    \n",
    "    ### Designates the system name\n",
    "    sn = sysname,\n",
    ")\n"
   ]
  },
  {
   "cell_type": "markdown",
   "metadata": {
    "heading_collapsed": true
   },
   "source": [
    "## Holes 4: Polygons"
   ]
  },
  {
   "cell_type": "markdown",
   "metadata": {
    "hidden": true
   },
   "source": [
    "This example creates a single membrane with two holes formed in the shape of arbitrary polygons.\n",
    "\n",
    "The points of the polygons are defined by using a number of ``point:x:y`` within the ``hole:polygon`` subargument. Because the points are defined in the x/y plane, we do not need to specify the centre of each polygon. \n",
    "\n",
    "The system is solvated using default solvation settings. Note that the holes are filled with solvent."
   ]
  },
  {
   "cell_type": "markdown",
   "metadata": {
    "hidden": true
   },
   "source": [
    "<div>\n",
    "<!-- height argument does not work in jupyter for whatever reason. Can't find any help online. -->\n",
    "<img src=\"figures/Holes4_Polygons.png\" width=\"400px\"/>\n",
    "</div>"
   ]
  },
  {
   "cell_type": "code",
   "execution_count": 10,
   "metadata": {
    "ExecuteTime": {
     "end_time": "2024-03-22T13:42:11.825177Z",
     "start_time": "2024-03-22T13:42:09.639592Z"
    },
    "hidden": true
   },
   "outputs": [
    {
     "name": "stdout",
     "output_type": "stream",
     "text": [
      "\n",
      "Setting random seed to: 1711114930\n",
      "-------------------------- PREPROCESSING DEFINITIONS ---------------------------\n",
      "---------------------- DEFINITIONS PREPROCESSING COMPLETE ----------------------\n",
      "                            (Time spent: 0.7706 [s])                             \n",
      "\n",
      "---------------------------- PREPROCESSING COMMANDS ----------------------------\n",
      "------------------------ COMMAND PREPROCESSING COMPLETE ------------------------\n",
      "                            (Time spent: 0.0009 [s])                             \n",
      "\n",
      "----------------------- CREATING LEAFLET BOUNDARY BOXES ------------------------\n",
      "------------------------ LEAFLET BOUNDARY BOXES CREATED ------------------------\n",
      "                            (Time spent: 0.0012 [s])                             \n",
      "\n",
      "------------------------ CREATING HOLED BOUNDARY BOXES -------------------------\n",
      "------------------------- HOLED BOUNDARY BOXES CREATED -------------------------\n",
      "                            (Time spent: 0.0012 [s])                             \n",
      "\n",
      "--------------------------- CALCULATING LIPID RATIOS ---------------------------\n",
      "---------------------- LIPID RATIO CALCULATIONS COMPLETE -----------------------\n",
      "                            (Time spent: 0.0009 [s])                             \n",
      "\n",
      "----------------------------- CREATING LIPID GRID ------------------------------\n",
      "------------------------------ LIPID GRID CREATED ------------------------------\n",
      "                            (Time spent: 0.0701 [s])                             \n",
      "\n",
      "------------------------------- CREATING LIPIDS --------------------------------\n",
      "--------------------------- LIPID CREATION COMPLETE ----------------------------\n",
      "                            (Time spent: 0.1853 [s])                             \n",
      "\n",
      "------------------------------- SOLVATING SYSTEM -------------------------------\n",
      "------------------------------ SOLVATION COMPLETE ------------------------------\n",
      "                            (Time spent: 0.495 [s])                              \n",
      "\n",
      "--------------------\n",
      "Final system charge: 0.0\n",
      "-------------------- \n",
      "\n",
      "---------------------- Writing structure files (PDB/GRO) -----------------------\n",
      "PDB file written: output_systems/Holes4_Polygons/output_Holes4_Polygons.pdb\n",
      "GRO file written: output_systems/Holes4_Polygons/output_Holes4_Polygons.gro\n",
      "\n",
      "---------------------------- Writing topology file -----------------------------\n",
      "Topology file written: output_systems/Holes4_Polygons/topol_Holes4_Polygons.top \n",
      "\n",
      "------------------------------- Writing log file -------------------------------\n",
      "Log file written: output_systems/Holes4_Polygons/log_Holes4_Polygons.log \n",
      "\n",
      "My task is complete. Did i do a good job?\n",
      "Time spent running CGSB: 2.1708\n"
     ]
    },
    {
     "data": {
      "text/plain": [
       "<CGSB.main_class.CGSB_class.CGSB at 0x7fc04e3f8fa0>"
      ]
     },
     "execution_count": 10,
     "metadata": {},
     "output_type": "execute_result"
    }
   ],
   "source": [
    "sysname = \"Holes4_Polygons\"\n",
    "outdir = os.path.join(\"output_systems\", sysname)\n",
    "os.makedirs(outdir, exist_ok=True)\n",
    "\n",
    "CGSB.CGSB(\n",
    "    box = [20, 20, 10], # [nm]\n",
    "    \n",
    "    membrane = \" \".join([\n",
    "        ### Creates a membrane consisting of POPC \n",
    "        \"lipid:POPC\",\n",
    "        \n",
    "        ### Creates a polygonal hole\n",
    "        ### \"hole:polygon\" followed by multiple \"point:x:y\"\n",
    "        \"hole:polygon:point:-3:3:point:3:3:point:5:7:point:7:-5:point:3:-2:point:-2:-5:point:0:-2\",\n",
    "        \n",
    "        ### Creates a second polygonal hole\n",
    "        ### \"hole:polygon\" followed by multiple \"point:x:y\"\n",
    "        \"hole:polygon:point:-4:-3:point:-8:-5:point:-8:7:point:-2:6:point:-5:5:point:-5:0\",\n",
    "    ]),\n",
    "    \n",
    "    ### Solvates the system using the default solvation settings of \"solv:W pos:NA neg:CL\"\n",
    "    solvation = \"default\",\n",
    "    \n",
    "    ### Uses topologies found in \"toppar/top_for_CGSB.itp\" for charge determination\n",
    "    itp_input = \"file:toppar/top_for_CGSB.itp\",\n",
    "    \n",
    "    ### File writing\n",
    "    out_sys = os.path.join(outdir, \"_\".join([\"output\", sysname])),\n",
    "    out_top = os.path.join(outdir, \"_\".join([\"topol\",  sysname]) + \".top\"),\n",
    "    out_log = os.path.join(outdir, \"_\".join([\"log\",    sysname]) + \".log\"),\n",
    "    \n",
    "    ### Designates the system name\n",
    "    sn = sysname,\n",
    ")\n"
   ]
  },
  {
   "cell_type": "markdown",
   "metadata": {},
   "source": [
    "# Patches"
   ]
  },
  {
   "cell_type": "markdown",
   "metadata": {},
   "source": [
    "Similarly to the ``holes`` subargument, the ``patch`` subargument can be used to create patches of membrane within the x/y plane. Allowed shapes are the same as with the ``hole`` subargument. \n",
    "\n",
    "Available patch shapes (and required dimensions) are:\n",
    "\n",
    "- ``circle:radius:[float]:cx:[float]:xy:[float]`` - The patch is circular in shape, with a designated radius and x and y positions in the x/y plane.\n",
    "\n",
    "- ``ellipse:xradius:[float]:yradius:[float]:cx:[float]:cy:[float]`` - Makes a ellipsoidal patch with an x-radius, a y-radius, and centered at coordinates in the x/y plane.\n",
    "\n",
    "- ``square:length:[float]:cx:[float]:cy:[float]`` - Makes a square patch, specified using a sidelength value and positioned using the x and y positions.\n",
    "\n",
    "- ``rectangle:xlength:[float]:ylength:[float]:cx:[float]:cy:[float]`` - Makes a rectangle patch that is specified using the two sidelengths and center coordinates in the x/y plane.\n",
    "\n",
    "- ``polygon:point:[float]:[float]:point:[float]:[float]:point:[float]:[float]``(...) - Creates a polygonal patch, where the polygon shape is specified by point coordinates in the x/y plane. The two float values after ``point`` are x- and y-coordinate values. Any number of ``point`` subarguments can be added but a minimum of three are required.\n",
    "\n",
    "Note that the patch lipid composition is passed to the ``lipid`` subargument. As such, each ``patch`` within the same ``membrane`` argument have the same lipid composition. To create patches with individual lipid compositions, they can be specified in separate ``membrane`` arguments. "
   ]
  },
  {
   "cell_type": "markdown",
   "metadata": {
    "heading_collapsed": true
   },
   "source": [
    "## Patches 1: Circular Membrane with Solvent in Membrane Plane"
   ]
  },
  {
   "cell_type": "markdown",
   "metadata": {
    "ExecuteTime": {
     "end_time": "2024-01-12T13:13:13.191037Z",
     "start_time": "2024-01-12T13:13:13.186782Z"
    },
    "hidden": true
   },
   "source": [
    "This example creates a circular membrane patch consisting of POPC and CHOL in 5:1 ratio.\n",
    "\n",
    "The system is solvated using default solvation settings. Note that the membrane plane that does not contain a patch is instead filled with solvent."
   ]
  },
  {
   "cell_type": "markdown",
   "metadata": {
    "hidden": true
   },
   "source": [
    "<div>\n",
    "<!-- height argument does not work in jupyter for whatever reason. Can't find any help online. -->\n",
    "<img src=\"figures/Patches1_CircularMembrane_SolventInMembrane.png\" width=\"400px\"/>\n",
    "</div>"
   ]
  },
  {
   "cell_type": "code",
   "execution_count": 11,
   "metadata": {
    "ExecuteTime": {
     "end_time": "2024-03-22T13:42:13.671913Z",
     "start_time": "2024-03-22T13:42:11.827510Z"
    },
    "hidden": true,
    "scrolled": true
   },
   "outputs": [
    {
     "name": "stdout",
     "output_type": "stream",
     "text": [
      "\n",
      "Setting random seed to: 1711114932\n",
      "-------------------------- PREPROCESSING DEFINITIONS ---------------------------\n",
      "---------------------- DEFINITIONS PREPROCESSING COMPLETE ----------------------\n",
      "                            (Time spent: 0.459 [s])                              \n",
      "\n",
      "---------------------------- PREPROCESSING COMMANDS ----------------------------\n",
      "------------------------ COMMAND PREPROCESSING COMPLETE ------------------------\n",
      "                            (Time spent: 0.0014 [s])                             \n",
      "\n",
      "----------------------- CREATING LEAFLET BOUNDARY BOXES ------------------------\n",
      "------------------------ LEAFLET BOUNDARY BOXES CREATED ------------------------\n",
      "                            (Time spent: 0.0011 [s])                             \n",
      "\n",
      "------------------------ CREATING HOLED BOUNDARY BOXES -------------------------\n",
      "------------------------- HOLED BOUNDARY BOXES CREATED -------------------------\n",
      "                            (Time spent: 0.0011 [s])                             \n",
      "\n",
      "--------------------------- CALCULATING LIPID RATIOS ---------------------------\n",
      "---------------------- LIPID RATIO CALCULATIONS COMPLETE -----------------------\n",
      "                            (Time spent: 0.0014 [s])                             \n",
      "\n",
      "----------------------------- CREATING LIPID GRID ------------------------------\n",
      "------------------------------ LIPID GRID CREATED ------------------------------\n",
      "                            (Time spent: 0.0149 [s])                             \n",
      "\n",
      "------------------------------- CREATING LIPIDS --------------------------------\n",
      "--------------------------- LIPID CREATION COMPLETE ----------------------------\n",
      "                            (Time spent: 0.0451 [s])                             \n",
      "\n",
      "------------------------------- SOLVATING SYSTEM -------------------------------\n",
      "------------------------------ SOLVATION COMPLETE ------------------------------\n",
      "                            (Time spent: 0.702 [s])                              \n",
      "\n",
      "--------------------\n",
      "Final system charge: 0.0\n",
      "-------------------- \n",
      "\n",
      "---------------------- Writing structure files (PDB/GRO) -----------------------\n",
      "PDB file written: output_systems/Patches1_CircularMembrane_SolventInMembrane/output_Patches1_CircularMembrane_SolventInMembrane.pdb\n",
      "GRO file written: output_systems/Patches1_CircularMembrane_SolventInMembrane/output_Patches1_CircularMembrane_SolventInMembrane.gro\n",
      "\n",
      "---------------------------- Writing topology file -----------------------------\n",
      "Topology file written: output_systems/Patches1_CircularMembrane_SolventInMembrane/topol_Patches1_CircularMembrane_SolventInMembrane.top \n",
      "\n",
      "------------------------------- Writing log file -------------------------------\n",
      "Log file written: output_systems/Patches1_CircularMembrane_SolventInMembrane/log_Patches1_CircularMembrane_SolventInMembrane.log \n",
      "\n",
      "My task is complete. Did i do a good job?\n",
      "Time spent running CGSB: 1.83\n"
     ]
    },
    {
     "data": {
      "text/plain": [
       "<CGSB.main_class.CGSB_class.CGSB at 0x7fc046fddc70>"
      ]
     },
     "execution_count": 11,
     "metadata": {},
     "output_type": "execute_result"
    }
   ],
   "source": [
    "sysname = \"Patches1_CircularMembrane_SolventInMembrane\"\n",
    "outdir = os.path.join(\"output_systems\", sysname)\n",
    "os.makedirs(outdir, exist_ok=True)\n",
    "\n",
    "CGSB.CGSB(\n",
    "    box = [20, 20, 10], # [nm]\n",
    "    \n",
    "    membrane = \" \".join([\n",
    "        ### Creates a membrane consisting of POPC and CHOL in a 5:1 ratio \n",
    "        \"lipid:POPC:5 lipid:CHOL:1\",\n",
    "        \n",
    "        ### Turns the membrane into a circular membrane patch\n",
    "        \"patch:circle:radius:5:cx:0:cy:0\",\n",
    "    ]),\n",
    "    \n",
    "    ### Solvates the system using the default solvation settings of \"solv:W pos:NA neg:CL\"\n",
    "    solvation = \"default\",\n",
    "    \n",
    "    ### Uses topologies found in \"toppar/top_for_CGSB.itp\" for charge determination\n",
    "    itp_input = \"file:toppar/top_for_CGSB.itp\",\n",
    "    \n",
    "    ### File writing\n",
    "    out_sys = os.path.join(outdir, \"_\".join([\"output\", sysname])),\n",
    "    out_top = os.path.join(outdir, \"_\".join([\"topol\",  sysname]) + \".top\"),\n",
    "    out_log = os.path.join(outdir, \"_\".join([\"log\",    sysname]) + \".log\"),\n",
    "    \n",
    "    ### Designates the system name\n",
    "    sn = sysname,\n",
    ")\n"
   ]
  },
  {
   "cell_type": "markdown",
   "metadata": {
    "heading_collapsed": true
   },
   "source": [
    "## Patches 2: Circular Membrane without Solvent in Membrane Plane"
   ]
  },
  {
   "cell_type": "markdown",
   "metadata": {
    "hidden": true
   },
   "source": [
    "This example is identical to the previous one, except here the membrane plane is not solvated. This is achieved by using the ``solvate_hole:False`` subargument within the ``membrane`` argument."
   ]
  },
  {
   "cell_type": "markdown",
   "metadata": {
    "hidden": true
   },
   "source": [
    "<div>\n",
    "<!-- height argument does not work in jupyter for whatever reason. Can't find any help online. -->\n",
    "<img src=\"figures/Patches2_CircularMembrane_SolventNotInMembrane.png\" width=\"400px\"/>\n",
    "</div>"
   ]
  },
  {
   "cell_type": "code",
   "execution_count": 12,
   "metadata": {
    "ExecuteTime": {
     "end_time": "2024-03-22T13:42:15.070023Z",
     "start_time": "2024-03-22T13:42:13.673687Z"
    },
    "code_folding": [],
    "hidden": true,
    "scrolled": true
   },
   "outputs": [
    {
     "name": "stdout",
     "output_type": "stream",
     "text": [
      "\n",
      "Setting random seed to: 1711114934\n",
      "-------------------------- PREPROCESSING DEFINITIONS ---------------------------\n",
      "---------------------- DEFINITIONS PREPROCESSING COMPLETE ----------------------\n",
      "                            (Time spent: 0.4462 [s])                             \n",
      "\n",
      "---------------------------- PREPROCESSING COMMANDS ----------------------------\n",
      "------------------------ COMMAND PREPROCESSING COMPLETE ------------------------\n",
      "                            (Time spent: 0.0014 [s])                             \n",
      "\n",
      "----------------------- CREATING LEAFLET BOUNDARY BOXES ------------------------\n",
      "------------------------ LEAFLET BOUNDARY BOXES CREATED ------------------------\n",
      "                            (Time spent: 0.0012 [s])                             \n",
      "\n",
      "------------------------ CREATING HOLED BOUNDARY BOXES -------------------------\n",
      "------------------------- HOLED BOUNDARY BOXES CREATED -------------------------\n",
      "                            (Time spent: 0.0011 [s])                             \n",
      "\n",
      "--------------------------- CALCULATING LIPID RATIOS ---------------------------\n",
      "---------------------- LIPID RATIO CALCULATIONS COMPLETE -----------------------\n",
      "                            (Time spent: 0.0014 [s])                             \n",
      "\n",
      "----------------------------- CREATING LIPID GRID ------------------------------\n",
      "------------------------------ LIPID GRID CREATED ------------------------------\n",
      "                            (Time spent: 0.015 [s])                              \n",
      "\n",
      "------------------------------- CREATING LIPIDS --------------------------------\n",
      "--------------------------- LIPID CREATION COMPLETE ----------------------------\n",
      "                            (Time spent: 0.0453 [s])                             \n",
      "\n",
      "------------------------------- SOLVATING SYSTEM -------------------------------\n",
      "------------------------------ SOLVATION COMPLETE ------------------------------\n",
      "                            (Time spent: 0.264 [s])                              \n",
      "\n",
      "--------------------\n",
      "Final system charge: 0.0\n",
      "-------------------- \n",
      "\n",
      "---------------------- Writing structure files (PDB/GRO) -----------------------\n",
      "PDB file written: output_systems/Patches2_CircularMembrane_SolventNotInMembrane/output_Patches2_CircularMembrane_SolventNotInMembrane.pdb\n",
      "GRO file written: output_systems/Patches2_CircularMembrane_SolventNotInMembrane/output_Patches2_CircularMembrane_SolventNotInMembrane.gro\n",
      "\n",
      "---------------------------- Writing topology file -----------------------------\n",
      "Topology file written: output_systems/Patches2_CircularMembrane_SolventNotInMembrane/topol_Patches2_CircularMembrane_SolventNotInMembrane.top \n",
      "\n",
      "------------------------------- Writing log file -------------------------------\n",
      "Log file written: output_systems/Patches2_CircularMembrane_SolventNotInMembrane/log_Patches2_CircularMembrane_SolventNotInMembrane.log \n",
      "\n",
      "My task is complete. Did i do a good job?\n",
      "Time spent running CGSB: 1.384\n"
     ]
    },
    {
     "data": {
      "text/plain": [
       "<CGSB.main_class.CGSB_class.CGSB at 0x7fc046fe9130>"
      ]
     },
     "execution_count": 12,
     "metadata": {},
     "output_type": "execute_result"
    }
   ],
   "source": [
    "sysname = \"Patches2_CircularMembrane_SolventNotInMembrane\"\n",
    "outdir = os.path.join(\"output_systems\", sysname)\n",
    "os.makedirs(outdir, exist_ok=True)\n",
    "\n",
    "CGSB.CGSB(\n",
    "    box = [20, 20, 10], # [nm]\n",
    "    \n",
    "    membrane = \" \".join([\n",
    "        ### Creates a membrane consisting of POPC and CHOL in a 5:1 ratio \n",
    "        \"lipid:POPC:5 lipid:CHOL:1\",\n",
    "        \n",
    "        ### Prevents solvent from being placed in the parts of the membrane have been removed\n",
    "        \"solvate_hole:False\",\n",
    "        \n",
    "        ### Turns the membrane into a circular membrane patch\n",
    "        \"patch:circle:radius:5:cx:0:cy:0\",\n",
    "    ]),\n",
    "    \n",
    "    ### Solvates the system using the default solvation settings of \"solv:W pos:NA neg:CL\"\n",
    "    solvation = \"default\",\n",
    "    \n",
    "    ### Uses topologies found in \"toppar/top_for_CGSB.itp\" for charge determination\n",
    "    itp_input = \"file:toppar/top_for_CGSB.itp\",\n",
    "    \n",
    "    ### File writing\n",
    "    out_sys = os.path.join(outdir, \"_\".join([\"output\", sysname])),\n",
    "    out_top = os.path.join(outdir, \"_\".join([\"topol\",  sysname]) + \".top\"),\n",
    "    out_log = os.path.join(outdir, \"_\".join([\"log\",    sysname]) + \".log\"),\n",
    "    \n",
    "    ### Designates the system name\n",
    "    sn = sysname,\n",
    ")\n"
   ]
  },
  {
   "cell_type": "markdown",
   "metadata": {
    "heading_collapsed": true
   },
   "source": [
    "## Patches 3: Multiple Patches"
   ]
  },
  {
   "cell_type": "markdown",
   "metadata": {
    "hidden": true
   },
   "source": [
    "This example creates an oddly shaped membrane patch by using multiple calls to the ``patch`` subargument.\n",
    "\n",
    "When ``patch`` is used multiple times within one argument, then the defined patches are joined together in case they touch each other. Otherwise they are processed independently as separate membranes."
   ]
  },
  {
   "cell_type": "markdown",
   "metadata": {
    "hidden": true
   },
   "source": [
    "<div>\n",
    "<!-- height argument does not work in jupyter for whatever reason. Can't find any help online. -->\n",
    "<img src=\"figures/Patches3_MultiplePatches.png\" width=\"400px\"/>\n",
    "</div>"
   ]
  },
  {
   "cell_type": "code",
   "execution_count": 13,
   "metadata": {
    "ExecuteTime": {
     "end_time": "2024-03-22T13:42:16.705164Z",
     "start_time": "2024-03-22T13:42:15.073236Z"
    },
    "hidden": true,
    "scrolled": true
   },
   "outputs": [
    {
     "name": "stdout",
     "output_type": "stream",
     "text": [
      "\n",
      "Setting random seed to: 1711114935\n",
      "-------------------------- PREPROCESSING DEFINITIONS ---------------------------\n",
      "---------------------- DEFINITIONS PREPROCESSING COMPLETE ----------------------\n",
      "                            (Time spent: 0.4583 [s])                             \n",
      "\n",
      "---------------------------- PREPROCESSING COMMANDS ----------------------------\n",
      "------------------------ COMMAND PREPROCESSING COMPLETE ------------------------\n",
      "                            (Time spent: 0.001 [s])                              \n",
      "\n",
      "----------------------- CREATING LEAFLET BOUNDARY BOXES ------------------------\n",
      "------------------------ LEAFLET BOUNDARY BOXES CREATED ------------------------\n",
      "                            (Time spent: 0.0011 [s])                             \n",
      "\n",
      "------------------------ CREATING HOLED BOUNDARY BOXES -------------------------\n",
      "------------------------- HOLED BOUNDARY BOXES CREATED -------------------------\n",
      "                            (Time spent: 0.0028 [s])                             \n",
      "\n",
      "--------------------------- CALCULATING LIPID RATIOS ---------------------------\n",
      "---------------------- LIPID RATIO CALCULATIONS COMPLETE -----------------------\n",
      "                            (Time spent: 0.0016 [s])                             \n",
      "\n",
      "----------------------------- CREATING LIPID GRID ------------------------------\n",
      "------------------------------ LIPID GRID CREATED ------------------------------\n",
      "                            (Time spent: 0.0423 [s])                             \n",
      "\n",
      "------------------------------- CREATING LIPIDS --------------------------------\n",
      "--------------------------- LIPID CREATION COMPLETE ----------------------------\n",
      "                            (Time spent: 0.0876 [s])                             \n",
      "\n",
      "------------------------------- SOLVATING SYSTEM -------------------------------\n",
      "------------------------------ SOLVATION COMPLETE ------------------------------\n",
      "                            (Time spent: 0.407 [s])                              \n",
      "\n",
      "--------------------\n",
      "Final system charge: 0.0\n",
      "-------------------- \n",
      "\n",
      "---------------------- Writing structure files (PDB/GRO) -----------------------\n",
      "PDB file written: output_systems/Patches3_MultiplePatches/output_Patches3_MultiplePatches.pdb\n",
      "GRO file written: output_systems/Patches3_MultiplePatches/output_Patches3_MultiplePatches.gro\n",
      "\n",
      "---------------------------- Writing topology file -----------------------------\n",
      "Topology file written: output_systems/Patches3_MultiplePatches/topol_Patches3_MultiplePatches.top \n",
      "\n",
      "------------------------------- Writing log file -------------------------------\n",
      "Log file written: output_systems/Patches3_MultiplePatches/log_Patches3_MultiplePatches.log \n",
      "\n",
      "My task is complete. Did i do a good job?\n",
      "Time spent running CGSB: 1.618\n"
     ]
    },
    {
     "data": {
      "text/plain": [
       "<CGSB.main_class.CGSB_class.CGSB at 0x7fc046e0a790>"
      ]
     },
     "execution_count": 13,
     "metadata": {},
     "output_type": "execute_result"
    }
   ],
   "source": [
    "sysname = \"Patches3_MultiplePatches\"\n",
    "outdir = os.path.join(\"output_systems\", sysname)\n",
    "os.makedirs(outdir, exist_ok=True)\n",
    "\n",
    "CGSB.CGSB(\n",
    "    box = [20, 20, 10], # [nm]\n",
    "    \n",
    "    membrane = \" \".join([\n",
    "        ### Creates a membrane consisting of POPC \n",
    "        \"lipid:POPC\",\n",
    "        \n",
    "        ### ### The following patches are joined together into a single membrane patch due to overlapping with each other\n",
    "        ### Creates a circular membrane patch\n",
    "        ### \"patch:ellipse:xradius:yradius:cx:cy\"\n",
    "        \"patch:ellipse:xradius:3:yradius:4:cx:0:cy:1\",\n",
    "        \n",
    "        ### Creates a rectangular membrane patch\n",
    "        \"patch:rectangle:xlength:10:ylength:4:cx:0:cy:6\",\n",
    "        \n",
    "        ### Creates a polygonal membrane patch\n",
    "        ### The polygon has been made to resemble a triangle\n",
    "        \"patch:polygon:point:0:0:point:7:-7:point:-7:-7\",\n",
    "        \n",
    "        ### ### The following patches are not joined with each other or the above ones due to not overlapping\n",
    "        ### Creates a square membrane patch\n",
    "        \"patch:square:length:4:cx:-7:cy:0\",\n",
    "        \n",
    "        ### Creates a square membrane patch\n",
    "        ### \"patch:circle:radius:cx:cy\"\n",
    "        \"patch:circle:radius:2:cx:7:cy:0\",\n",
    "    ]),\n",
    "    \n",
    "    ### Solvates the system using the default solvation settings of \"solv:W pos:NA neg:CL\"\n",
    "    solvation = \"default\",\n",
    "    \n",
    "    ### Uses topologies found in \"toppar/top_for_CGSB.itp\" for charge determination\n",
    "    itp_input = \"file:toppar/top_for_CGSB.itp\",\n",
    "    \n",
    "    ### File writing\n",
    "    out_sys = os.path.join(outdir, \"_\".join([\"output\", sysname])),\n",
    "    out_top = os.path.join(outdir, \"_\".join([\"topol\",  sysname]) + \".top\"),\n",
    "    out_log = os.path.join(outdir, \"_\".join([\"log\",    sysname]) + \".log\"),\n",
    "    \n",
    "    ### Designates the system name\n",
    "    sn = sysname,\n",
    ")\n"
   ]
  },
  {
   "cell_type": "markdown",
   "metadata": {
    "heading_collapsed": true
   },
   "source": [
    "# Holes and Patches"
   ]
  },
  {
   "cell_type": "markdown",
   "metadata": {
    "hidden": true
   },
   "source": [
    "We can also elegantly combine ``hole`` and ``patch`` subarguments to create phase separated membranes beyond the rectangle shapes (shown in the previous example _Membranes 4: Phase Separation_). "
   ]
  },
  {
   "cell_type": "markdown",
   "metadata": {
    "heading_collapsed": true,
    "hidden": true
   },
   "source": [
    "## Holes and Patches 1: Phase Separation"
   ]
  },
  {
   "cell_type": "markdown",
   "metadata": {
    "hidden": true
   },
   "source": [
    "This example creates two membranes:\n",
    "\n",
    "- The first membrane consists of POPC lipids with a hole at position (0 nm, 5 nm) with a radius of 3 nm.\n",
    "\n",
    "- The second membrane is a CHOL patch at position (0 nm, 5 nm) with a radius of 3 nm.\n",
    "\n",
    "This setup results in two differently-shaped membranes occupying the same x/y plane, thereby creating a phase-separated bilayer system.\n"
   ]
  },
  {
   "cell_type": "markdown",
   "metadata": {
    "hidden": true
   },
   "source": [
    "<div>\n",
    "<!-- height argument does not work in jupyter for whatever reason. Can't find any help online. -->\n",
    "<img src=\"figures/HolesAndPatches1_PhaseSeparation.png\" width=\"400px\"/>\n",
    "</div>"
   ]
  },
  {
   "cell_type": "code",
   "execution_count": 14,
   "metadata": {
    "ExecuteTime": {
     "end_time": "2024-03-22T13:42:19.072833Z",
     "start_time": "2024-03-22T13:42:16.708248Z"
    },
    "hidden": true
   },
   "outputs": [
    {
     "name": "stdout",
     "output_type": "stream",
     "text": [
      "\n",
      "Setting random seed to: 1711114937\n",
      "-------------------------- PREPROCESSING DEFINITIONS ---------------------------\n",
      "---------------------- DEFINITIONS PREPROCESSING COMPLETE ----------------------\n",
      "                            (Time spent: 0.8771 [s])                             \n",
      "\n",
      "---------------------------- PREPROCESSING COMMANDS ----------------------------\n",
      "------------------------ COMMAND PREPROCESSING COMPLETE ------------------------\n",
      "                            (Time spent: 0.0014 [s])                             \n",
      "\n",
      "----------------------- CREATING LEAFLET BOUNDARY BOXES ------------------------\n",
      "------------------------ LEAFLET BOUNDARY BOXES CREATED ------------------------\n",
      "                            (Time spent: 0.0017 [s])                             \n",
      "\n",
      "------------------------ CREATING HOLED BOUNDARY BOXES -------------------------\n",
      "------------------------- HOLED BOUNDARY BOXES CREATED -------------------------\n",
      "                            (Time spent: 0.0022 [s])                             \n",
      "\n",
      "--------------------------- CALCULATING LIPID RATIOS ---------------------------\n",
      "---------------------- LIPID RATIO CALCULATIONS COMPLETE -----------------------\n",
      "                            (Time spent: 0.0017 [s])                             \n",
      "\n",
      "----------------------------- CREATING LIPID GRID ------------------------------\n",
      "------------------------------ LIPID GRID CREATED ------------------------------\n",
      "                            (Time spent: 0.0379 [s])                             \n",
      "\n",
      "------------------------------- CREATING LIPIDS --------------------------------\n",
      "--------------------------- LIPID CREATION COMPLETE ----------------------------\n",
      "                            (Time spent: 0.2383 [s])                             \n",
      "\n",
      "------------------------------- SOLVATING SYSTEM -------------------------------\n",
      "------------------------------ SOLVATION COMPLETE ------------------------------\n",
      "                            (Time spent: 0.527 [s])                              \n",
      "\n",
      "--------------------\n",
      "Final system charge: 0.0\n",
      "-------------------- \n",
      "\n",
      "---------------------- Writing structure files (PDB/GRO) -----------------------\n",
      "PDB file written: output_systems/HolesAndPatches1_PhaseSeparation/output_HolesAndPatches1_PhaseSeparation.pdb\n",
      "GRO file written: output_systems/HolesAndPatches1_PhaseSeparation/output_HolesAndPatches1_PhaseSeparation.gro\n",
      "\n",
      "---------------------------- Writing topology file -----------------------------\n",
      "Topology file written: output_systems/HolesAndPatches1_PhaseSeparation/topol_HolesAndPatches1_PhaseSeparation.top \n",
      "\n",
      "------------------------------- Writing log file -------------------------------\n",
      "Log file written: output_systems/HolesAndPatches1_PhaseSeparation/log_HolesAndPatches1_PhaseSeparation.log \n",
      "\n",
      "My task is complete. Did i do a good job?\n",
      "Time spent running CGSB: 2.3501\n"
     ]
    },
    {
     "data": {
      "text/plain": [
       "<CGSB.main_class.CGSB_class.CGSB at 0x7fc043e29ee0>"
      ]
     },
     "execution_count": 14,
     "metadata": {},
     "output_type": "execute_result"
    }
   ],
   "source": [
    "sysname = \"HolesAndPatches1_PhaseSeparation\"\n",
    "outdir = os.path.join(\"output_systems\", sysname)\n",
    "os.makedirs(outdir, exist_ok=True)\n",
    "\n",
    "CGSB.CGSB(\n",
    "    box = [20, 20, 10], # [nm]\n",
    "    \n",
    "    membrane = [\n",
    "        ### Membrane 1\n",
    "        \" \".join([\n",
    "            ### Creates a membrane consisting of POPC \n",
    "            \"lipid:POPC\",\n",
    "\n",
    "            ### Creates a circular hole in the membrane\n",
    "            \"hole:circle:radius:3:cx:0:cy:5\",\n",
    "        ]),\n",
    "        \n",
    "        ### Membrane 2\n",
    "        \" \".join([\n",
    "            ### Creates a membrane consisting of POPC \n",
    "            \"lipid:CHOL\",\n",
    "\n",
    "            ### Creates a circular hole in the membrane\n",
    "            \"patch:circle:radius:3:cx:0:cy:5\",\n",
    "        ]),\n",
    "    ],\n",
    "    \n",
    "    ### Solvates the system using the default solvation settings of \"solv:W pos:NA neg:CL\"\n",
    "    solvation = \"default\",\n",
    "    \n",
    "    ### Uses topologies found in \"toppar/top_for_CGSB.itp\" for charge determination\n",
    "    itp_input = \"file:toppar/top_for_CGSB.itp\",\n",
    "    \n",
    "    ### File writing\n",
    "    out_sys = os.path.join(outdir, \"_\".join([\"output\", sysname])),\n",
    "    out_top = os.path.join(outdir, \"_\".join([\"topol\",  sysname]) + \".top\"),\n",
    "    out_log = os.path.join(outdir, \"_\".join([\"log\",    sysname]) + \".log\"),\n",
    "    \n",
    "    ### Designates the system name\n",
    "    sn = sysname,\n",
    ")\n"
   ]
  },
  {
   "cell_type": "markdown",
   "metadata": {
    "heading_collapsed": true,
    "hidden": true
   },
   "source": [
    "## Holes and Patches 2: Modifying Shapes"
   ]
  },
  {
   "cell_type": "markdown",
   "metadata": {
    "hidden": true
   },
   "source": [
    "The holes and patches can be modified by introducing rotations (using ``rotate``) or rescaling (using ``xcaling`` and ``yscaling``) by specifying it within the subarguments.  \n",
    "\n",
    "This example shows a system with rotated and rescaled membrane patches.\n",
    "\n",
    "- Patch 1 is created as a rectangle (6 nm x 14 nm) with a center at position (3 nm, 3 nm). The patch is rotated 45 degrees clockwise using ``rotate:45`` subargument.\n",
    "\n",
    "- Patch 2 is created as a polygon. The size of the patch is scaled by 3 along the x-axis and by 2 along the y-axis using ``xscaling:3:yscaling:2``."
   ]
  },
  {
   "cell_type": "markdown",
   "metadata": {
    "hidden": true
   },
   "source": [
    "<div>\n",
    "<!-- height argument does not work in jupyter for whatever reason. Can't find any help online. -->\n",
    "<img src=\"figures/HolesAndPatches2_ModifyingShapes.png\" width=\"400px\"/>\n",
    "</div>"
   ]
  },
  {
   "cell_type": "code",
   "execution_count": 15,
   "metadata": {
    "ExecuteTime": {
     "end_time": "2024-03-22T13:42:21.748238Z",
     "start_time": "2024-03-22T13:42:19.077725Z"
    },
    "hidden": true,
    "scrolled": true
   },
   "outputs": [
    {
     "name": "stdout",
     "output_type": "stream",
     "text": [
      "\n",
      "Setting random seed to: 1711114939\n",
      "-------------------------- PREPROCESSING DEFINITIONS ---------------------------\n",
      "---------------------- DEFINITIONS PREPROCESSING COMPLETE ----------------------\n",
      "                            (Time spent: 0.5055 [s])                             \n",
      "\n",
      "---------------------------- PREPROCESSING COMMANDS ----------------------------\n",
      "------------------------ COMMAND PREPROCESSING COMPLETE ------------------------\n",
      "                            (Time spent: 0.0016 [s])                             \n",
      "\n",
      "----------------------- CREATING LEAFLET BOUNDARY BOXES ------------------------\n",
      "------------------------ LEAFLET BOUNDARY BOXES CREATED ------------------------\n",
      "                            (Time spent: 0.0017 [s])                             \n",
      "\n",
      "------------------------ CREATING HOLED BOUNDARY BOXES -------------------------\n",
      "------------------------- HOLED BOUNDARY BOXES CREATED -------------------------\n",
      "                            (Time spent: 0.002 [s])                              \n",
      "\n",
      "--------------------------- CALCULATING LIPID RATIOS ---------------------------\n",
      "---------------------- LIPID RATIO CALCULATIONS COMPLETE -----------------------\n",
      "                            (Time spent: 0.0018 [s])                             \n",
      "\n",
      "----------------------------- CREATING LIPID GRID ------------------------------\n",
      "------------------------------ LIPID GRID CREATED ------------------------------\n",
      "                            (Time spent: 1.0648 [s])                             \n",
      "\n",
      "------------------------------- CREATING LIPIDS --------------------------------\n",
      "--------------------------- LIPID CREATION COMPLETE ----------------------------\n",
      "                            (Time spent: 0.0684 [s])                             \n",
      "\n",
      "------------------------------- SOLVATING SYSTEM -------------------------------\n",
      "------------------------------ SOLVATION COMPLETE ------------------------------\n",
      "                            (Time spent: 0.397 [s])                              \n",
      "\n",
      "--------------------\n",
      "Final system charge: 0.0\n",
      "-------------------- \n",
      "\n",
      "---------------------- Writing structure files (PDB/GRO) -----------------------\n",
      "PDB file written: output_systems/HolesAndPatches2_ModifyingShapes/output_HolesAndPatches2_ModifyingShapes.pdb\n",
      "GRO file written: output_systems/HolesAndPatches2_ModifyingShapes/output_HolesAndPatches2_ModifyingShapes.gro\n",
      "\n",
      "---------------------------- Writing topology file -----------------------------\n",
      "Topology file written: output_systems/HolesAndPatches2_ModifyingShapes/topol_HolesAndPatches2_ModifyingShapes.top \n",
      "\n",
      "------------------------------- Writing log file -------------------------------\n",
      "Log file written: output_systems/HolesAndPatches2_ModifyingShapes/log_HolesAndPatches2_ModifyingShapes.log \n",
      "\n",
      "My task is complete. Did i do a good job?\n",
      "Time spent running CGSB: 2.6572\n"
     ]
    },
    {
     "data": {
      "text/plain": [
       "<CGSB.main_class.CGSB_class.CGSB at 0x7fc03d552af0>"
      ]
     },
     "execution_count": 15,
     "metadata": {},
     "output_type": "execute_result"
    }
   ],
   "source": [
    "sysname = \"HolesAndPatches2_ModifyingShapes\"\n",
    "outdir = os.path.join(\"output_systems\", sysname)\n",
    "os.makedirs(outdir, exist_ok=True)\n",
    "\n",
    "CGSB.CGSB(\n",
    "    box = [20, 20, 10], # [nm]\n",
    "    \n",
    "    membrane = [\n",
    "        ### Membrane 1\n",
    "        \" \".join([\n",
    "            ### Creates a membrane consisting of POPC \n",
    "            \"lipid:POPC\",\n",
    "\n",
    "            ### Creates a rectangular (6 nm by 14 nm) membrane patch centered at (3 nm, 3 nm)\n",
    "            ### The membrane patch is rotated 45 degrees clockwise\n",
    "            \"patch:rectangle:xlength:6:ylength:14:cx:3:cy:3:rotate:45\",\n",
    "        ]),\n",
    "        \n",
    "        ### Membrane 2\n",
    "        \" \".join([\n",
    "            ### Creates a membrane consisting of POPC\n",
    "            \"lipid:POPC\",\n",
    "\n",
    "            ### Creates a small polygonal membrane patch\n",
    "            ### The size of the polygon is scaled using \"xscaling\" and \"yscaling\"\n",
    "            \"patch:polygon:point:-2:-2:point:-4:-4:point:-2:-6:point:-5:-5:point:-5:-3:xscaling:3:yscaling:2\",\n",
    "        ]),\n",
    "    ],\n",
    "    \n",
    "    ### Solvates the system using the default solvation settings of \"solv:W pos:NA neg:CL\"\n",
    "    solvation = \"default\",\n",
    "    \n",
    "    ### Uses topologies found in \"toppar/top_for_CGSB.itp\" for charge determination\n",
    "    itp_input = \"file:toppar/top_for_CGSB.itp\",\n",
    "    \n",
    "    ### File writing\n",
    "    out_sys = os.path.join(outdir, \"_\".join([\"output\", sysname])),\n",
    "    out_top = os.path.join(outdir, \"_\".join([\"topol\",  sysname]) + \".top\"),\n",
    "    out_log = os.path.join(outdir, \"_\".join([\"log\",    sysname]) + \".log\"),\n",
    "    \n",
    "    ### Designates the system name\n",
    "    sn = sysname,\n",
    ")\n"
   ]
  },
  {
   "cell_type": "markdown",
   "metadata": {
    "heading_collapsed": true,
    "hidden": true
   },
   "source": [
    "## Holes and Patches 3: Matryoshka Membrane"
   ]
  },
  {
   "cell_type": "markdown",
   "metadata": {
    "hidden": true
   },
   "source": [
    "This example demostrates a way to create a membrane with concentric circles of different lipid compositions. In practice, this membrane consists of a bordering membrane (Membrane 1), followed by a series of nested circular patches, all defined as individual membranes:\n",
    "\n",
    "- **Membrane 1**: A POPC membrane. It spans the entire x/y-plane, but it has a hole with a radius of 13.5 nm.\n",
    "\n",
    "- **Membrane 2**: A circular CHOL membrane patch with a radius of 13.5 nm. It also has a hole with a radius of 10.5 nm.\n",
    "\n",
    "- **Membrane 3**: A circular POPE membrane patch with a radius of 10.5 nm. It contains a hole with a radius of 7.5 nm.\n",
    "\n",
    "- **Membrane 4**: A circular CHOL membrane patch with a radius of 7.5 nm. It has a hole with a radius of 4.5 nm.\n",
    "\n",
    "- **Membrane 5**: A circular POPC membrane patch with a radius of 4.5 nm.\n",
    "\n",
    "Additionally, a protein has been placed at the center of the system."
   ]
  },
  {
   "cell_type": "markdown",
   "metadata": {
    "hidden": true
   },
   "source": [
    "<div>\n",
    "<!-- height argument does not work in jupyter for whatever reason. Can't find any help online. -->\n",
    "<img src=\"figures/HolesAndPatches3_MatryoshkaMembrane.png\" width=\"400px\"/>\n",
    "</div>"
   ]
  },
  {
   "cell_type": "code",
   "execution_count": 16,
   "metadata": {
    "ExecuteTime": {
     "end_time": "2024-03-22T13:42:29.048093Z",
     "start_time": "2024-03-22T13:42:21.751336Z"
    },
    "hidden": true,
    "scrolled": false
   },
   "outputs": [
    {
     "name": "stdout",
     "output_type": "stream",
     "text": [
      "\n",
      "Setting random seed to: 1711114942\n",
      "-------------------------- PREPROCESSING DEFINITIONS ---------------------------\n",
      "---------------------- DEFINITIONS PREPROCESSING COMPLETE ----------------------\n",
      "                            (Time spent: 0.452 [s])                              \n",
      "\n",
      "---------------------------- PREPROCESSING COMMANDS ----------------------------\n",
      "------------------------ COMMAND PREPROCESSING COMPLETE ------------------------\n",
      "                            (Time spent: 0.013 [s])                              \n",
      "\n",
      "------------------------------ PROTEIN PLACEMENT -------------------------------\n",
      "-------------------------- PROTEIN PLACEMENT COMPLETE --------------------------\n",
      "                            (Time spent: 0.0058 [s])                             \n",
      "\n",
      "----------------------- CREATING LEAFLET BOUNDARY BOXES ------------------------\n",
      "------------------------ LEAFLET BOUNDARY BOXES CREATED ------------------------\n",
      "                            (Time spent: 0.0031 [s])                             \n",
      "\n",
      "------------------------ CREATING HOLED BOUNDARY BOXES -------------------------\n",
      "------------------------- HOLED BOUNDARY BOXES CREATED -------------------------\n",
      "                            (Time spent: 1.9205 [s])                             \n",
      "\n",
      "--------------------------- CALCULATING LIPID RATIOS ---------------------------\n",
      "---------------------- LIPID RATIO CALCULATIONS COMPLETE -----------------------\n",
      "                            (Time spent: 0.0041 [s])                             \n",
      "\n",
      "----------------------------- CREATING LIPID GRID ------------------------------\n",
      "------------------------------ LIPID GRID CREATED ------------------------------\n",
      "                            (Time spent: 0.4286 [s])                             \n",
      "\n",
      "------------------------------- CREATING LIPIDS --------------------------------\n",
      "--------------------------- LIPID CREATION COMPLETE ----------------------------\n",
      "                            (Time spent: 0.489 [s])                              \n",
      "\n",
      "------------------------------- SOLVATING SYSTEM -------------------------------\n",
      "------------------------------ SOLVATION COMPLETE ------------------------------\n",
      "                             (Time spent: 2.56 [s])                              \n",
      "\n",
      "--------------------\n",
      "Final system charge: 0.0\n",
      "-------------------- \n",
      "\n",
      "---------------------- Writing structure files (PDB/GRO) -----------------------\n",
      "PDB file written: output_systems/HolesAndPatches3_MatryoshkaMembrane/output_HolesAndPatches3_MatryoshkaMembrane.pdb\n",
      "GRO file written: output_systems/HolesAndPatches3_MatryoshkaMembrane/output_HolesAndPatches3_MatryoshkaMembrane.gro\n",
      "\n",
      "---------------------------- Writing topology file -----------------------------\n",
      "Topology file written: output_systems/HolesAndPatches3_MatryoshkaMembrane/topol_HolesAndPatches3_MatryoshkaMembrane.top \n",
      "\n",
      "------------------------------- Writing log file -------------------------------\n",
      "Log file written: output_systems/HolesAndPatches3_MatryoshkaMembrane/log_HolesAndPatches3_MatryoshkaMembrane.log \n",
      "\n",
      "My task is complete. Did i do a good job?\n",
      "Time spent running CGSB: 7.2849\n"
     ]
    },
    {
     "data": {
      "text/plain": [
       "<CGSB.main_class.CGSB_class.CGSB at 0x7fc03f4324c0>"
      ]
     },
     "execution_count": 16,
     "metadata": {},
     "output_type": "execute_result"
    }
   ],
   "source": [
    "sysname = \"HolesAndPatches3_MatryoshkaMembrane\"\n",
    "outdir = os.path.join(\"output_systems\", sysname)\n",
    "os.makedirs(outdir, exist_ok=True)\n",
    "\n",
    "CGSB.CGSB(\n",
    "    box = [30, 30, 10], # [nm]\n",
    "    \n",
    "    protein = \"file:example_proteins/PDB_8BB6_martinized.pdb moleculetypes:8BB6_CG\",\n",
    "    \n",
    "    membrane = [\n",
    "        ### Membrane 1\n",
    "        \" \".join([\n",
    "            ### Creates a membrane consisting of POPC \n",
    "            \"lipid:POPC\",\n",
    "            ### Creates a hole (r = 13.5) within the membrane, as wide as the outermost concentric circle\n",
    "            \"hole:circle:radius:13.5:cx:0:cy:0\",\n",
    "        ]),\n",
    "        \n",
    "        ### Membrane 2\n",
    "        \" \".join([\n",
    "            ### Creates a membrane consisting of CHOL \n",
    "            \"lipid:CHOL\",\n",
    "            ### Creates a circular membrane patch (r = 13.5)\n",
    "            \"patch:circle:radius:13.5:cx:0:cy:0\",\n",
    "            ### Creates a hole (r = 10.5) within the patch, resulting in a concentric circle \n",
    "            \"hole:circle:radius:10.5:cx:0:cy:0\",\n",
    "        ]),\n",
    "        \n",
    "        ### Membrane 3\n",
    "        \" \".join([\n",
    "            ### Creates a membrane consisting of POPE \n",
    "            \"lipid:POPE\",\n",
    "            ### Creates a circular membrane patch (r = 10.5)\n",
    "            \"patch:circle:radius:10.5:cx:0:cy:0\",\n",
    "            ### Creates a hole (r = 7.5) within the patch, resulting in a concentric circle\n",
    "            \"hole:circle:radius:7.5:cx:0:cy:0\",\n",
    "        ]),\n",
    "        \n",
    "        ### Membrane 4\n",
    "        \" \".join([\n",
    "            ### Creates a membrane consisting of CHOL \n",
    "            \"lipid:CHOL\",\n",
    "            ### Creates a circular membrane patch (r = 7.5)\n",
    "            \"patch:circle:radius:7.5:cx:0:cy:0\",\n",
    "            ### Creates a hole (r = 4.5) within the patch, resulting in a concentric circle\n",
    "            \"hole:circle:radius:4.5:cx:0:cy:0\",\n",
    "        ]),\n",
    "        \n",
    "        ### Membrane 5\n",
    "        \" \".join([\n",
    "            ### Creates a membrane consisting of POPC \n",
    "            \"lipid:POPC\",\n",
    "            ### Creates a circular membrane patch (r = 4.5)\n",
    "            \"patch:circle:radius:4.5:cx:0:cy:0\",\n",
    "        ]),\n",
    "    ],\n",
    "    \n",
    "    ### Solvates the system using the default solvation settings of \"solv:W pos:NA neg:CL\"\n",
    "    solvation = \"default\",\n",
    "    \n",
    "    ### Uses topologies found in \"toppar/top_for_CGSB.itp\" for charge determination\n",
    "    itp_input = \"file:toppar/top_for_CGSB.itp\",\n",
    "    \n",
    "    ### File writing\n",
    "    out_sys = os.path.join(outdir, \"_\".join([\"output\", sysname])),\n",
    "    out_top = os.path.join(outdir, \"_\".join([\"topol\",  sysname]) + \".top\"),\n",
    "    out_log = os.path.join(outdir, \"_\".join([\"log\",    sysname]) + \".log\"),\n",
    "    \n",
    "    ### Designates the system name\n",
    "    sn = sysname,\n",
    ")\n"
   ]
  },
  {
   "cell_type": "markdown",
   "metadata": {
    "heading_collapsed": true
   },
   "source": [
    "# Stacked Membranes"
   ]
  },
  {
   "cell_type": "markdown",
   "metadata": {
    "hidden": true
   },
   "source": [
    "The ``stacked_membranes`` argument is used to create a desired number stacked bilayers with solvent between them. \n",
    "\n",
    "The advantage of this argument, as opposed to using multiple ``membrane`` calls offset in the z-axis, is that it:\n",
    "\n",
    "- allows for an easier definition of membrane properties (in case they repeat across multiple membranes); \n",
    "\n",
    "- advanced options for specifying bilayer distances in the z-axis, including consideration of the number of required water beads per lipid; \n",
    "\n",
    "- easier specification of different solvent compositions in separate solvent spaces.\n",
    "\n",
    "The ``stacked_membranes`` Argument contains the following subarguments:\n",
    "\n",
    "- ``number``: A number of requested membranes in stack\n",
    "\n",
    "- ``distance``: Designating distances between membranes (in nm)\n",
    "\n",
    "- ``distance_type``: How the ``distance`` is calculated between the bilayers, namely:\n",
    "\n",
    "    - ``distance_type:surface`` (default) Distance is calculated from the membrane bead that is furthest away from the membrane centre\n",
    "\n",
    "    - ``distance_type:center`` Distance is calculated from the centre of the membrane\n",
    "\n",
    "    - ``distance_type:mean_surface`` Distance is calculated from an averaged membrane surface z-coordinate \n",
    "\n",
    "Note that ``distance`` can be set for each individual inter-membrane space (by specifying multiple values) or for all inter-membrane spaces (by specifying a single value). A different ``distance_type`` method can be chosen in a similar way. If multiple values are given, then the number of values must equal the number of membranes.\n",
    "\n",
    "- ``membrane_argument``: Membrane composition and properties, with the syntax that follows the ``membrane`` argument\n",
    "\n",
    "- ``solvation_argument``: Solvent composition; ``solvent_per_lipid`` is used to define a requested number of water beads (W) per lipid. If ``solvent_per_lipid`` is not supplied, then the standard solvation based on concentration will be carried out."
   ]
  },
  {
   "cell_type": "markdown",
   "metadata": {
    "heading_collapsed": true,
    "hidden": true
   },
   "source": [
    "## Stacked Membranes 1: Three Bilayers"
   ]
  },
  {
   "cell_type": "markdown",
   "metadata": {
    "hidden": true
   },
   "source": [
    "This example shows how to create three stacked membranes using the ``stacked_membranes`` argument. \n",
    "\n",
    "The membranes are numbered (1-3), starting from the bottom-most membrane. \n",
    "\n",
    "The solvent spaces are also numbered (1-3), where Solvent 1 spans across PBC, and subsequent solvent spaces are ordered from the bottom up. \n",
    "\n",
    "The ``distance`` subargument is used to set the inter-membrane spacing using three values. If only a single ``distance`` value is provided, it will apply to all inter-membrane spaces. \n",
    "\n",
    "Starting from the bottom, the system contains:\n",
    "\n",
    "- **Solvent 1**: It occupies 3 nm in the z-direction. Because it spans across the PBC, 1.5 nm is at the bottom of the simulation box, while 1.5 nm is at the top of the simulation box. Contains 20 W per lipid (and 0.15 M NaCl). \n",
    "\n",
    "- **Membrane 1**: POPC:CHOL in 5:1 ratio.\n",
    "\n",
    "- **Solvent 2**: It occupies 5 nm in the z-direction and contains 10 W per lipid (and 0.15 M NaCl).  \n",
    "\n",
    "- **Membrane 2**: POPE:CHOL in 3:2 ratio.\n",
    "\n",
    "- **Solvent 3**: Same as Solvent 2.\n",
    "\n",
    "- **Membrane 3**: Same as Membrane 1.\n"
   ]
  },
  {
   "cell_type": "markdown",
   "metadata": {
    "hidden": true
   },
   "source": [
    "<div>\n",
    "<!-- height argument does not work in jupyter for whatever reason. Can't find any help online. -->\n",
    "<!-- <img src=\"figures/StackedMembranes1_ThreeBilayers.png\" width=\"400px\"/> -->\n",
    "    <table><tr>\n",
    "        <td><img src='figures/StackedMembranes1_ThreeBilayers.png' width=\"400px\"></td>\n",
    "        <td><img src='figures/drawings/StackedMembranes1_ThreeBilayers_Drawing.png' width=\"400px\"></td>\n",
    "    </tr></table>\n",
    "</div>"
   ]
  },
  {
   "cell_type": "code",
   "execution_count": 17,
   "metadata": {
    "ExecuteTime": {
     "end_time": "2024-03-22T13:42:31.261738Z",
     "start_time": "2024-03-22T13:42:29.050409Z"
    },
    "hidden": true,
    "scrolled": false
   },
   "outputs": [
    {
     "name": "stdout",
     "output_type": "stream",
     "text": [
      "\n",
      "Setting random seed to: 1711114949\n",
      "-------------------------- PREPROCESSING DEFINITIONS ---------------------------\n",
      "---------------------- DEFINITIONS PREPROCESSING COMPLETE ----------------------\n",
      "                            (Time spent: 0.4395 [s])                             \n",
      "\n",
      "----------------- PRE-PREPROCESSING STACKED MEMBRANE COMMANDS ------------------\n",
      "----------------- STACKED MEMBRANE PRE-PREPROCESSING COMPLETE ------------------\n",
      "                            (Time spent: 0.0023 [s])                             \n",
      "\n",
      "---------------------------- PREPROCESSING COMMANDS ----------------------------\n",
      "------------------------ COMMAND PREPROCESSING COMPLETE ------------------------\n",
      "                            (Time spent: 0.0042 [s])                             \n",
      "\n",
      "----------------------- CREATING LEAFLET BOUNDARY BOXES ------------------------\n",
      "------------------------ LEAFLET BOUNDARY BOXES CREATED ------------------------\n",
      "                            (Time spent: 0.0019 [s])                             \n",
      "\n",
      "------------------------ CREATING HOLED BOUNDARY BOXES -------------------------\n",
      "------------------------- HOLED BOUNDARY BOXES CREATED -------------------------\n",
      "                            (Time spent: 0.0012 [s])                             \n",
      "\n",
      "--------------------------- CALCULATING LIPID RATIOS ---------------------------\n",
      "---------------------- LIPID RATIO CALCULATIONS COMPLETE -----------------------\n",
      "                            (Time spent: 0.0039 [s])                             \n",
      "\n",
      "----------------------------- CREATING LIPID GRID ------------------------------\n",
      "------------------------------ LIPID GRID CREATED ------------------------------\n",
      "                            (Time spent: 0.0212 [s])                             \n",
      "\n",
      "------------------------------- CREATING LIPIDS --------------------------------\n",
      "--------------------------- LIPID CREATION COMPLETE ----------------------------\n",
      "                            (Time spent: 0.3403 [s])                             \n",
      "\n",
      "------------------------------- SOLVATING SYSTEM -------------------------------\n",
      "------------------------------ SOLVATION COMPLETE ------------------------------\n",
      "                            (Time spent: 0.456 [s])                              \n",
      "\n",
      "--------------------\n",
      "Final system charge: 0.0\n",
      "-------------------- \n",
      "\n",
      "---------------------- Writing structure files (PDB/GRO) -----------------------\n",
      "PDB file written: output_systems/StackedMembranes1_ThreeBilayers/output_StackedMembranes1_ThreeBilayers.pdb\n",
      "GRO file written: output_systems/StackedMembranes1_ThreeBilayers/output_StackedMembranes1_ThreeBilayers.gro\n",
      "\n",
      "---------------------------- Writing topology file -----------------------------\n",
      "Topology file written: output_systems/StackedMembranes1_ThreeBilayers/topol_StackedMembranes1_ThreeBilayers.top \n",
      "\n",
      "------------------------------- Writing log file -------------------------------\n",
      "Log file written: output_systems/StackedMembranes1_ThreeBilayers/log_StackedMembranes1_ThreeBilayers.log \n",
      "\n",
      "My task is complete. Did i do a good job?\n",
      "Time spent running CGSB: 2.2001\n"
     ]
    },
    {
     "data": {
      "text/plain": [
       "<CGSB.main_class.CGSB_class.CGSB at 0x7fc03c704eb0>"
      ]
     },
     "execution_count": 17,
     "metadata": {},
     "output_type": "execute_result"
    }
   ],
   "source": [
    "sysname = \"StackedMembranes1_ThreeBilayers\"\n",
    "outdir = os.path.join(\"output_systems\", sysname)\n",
    "os.makedirs(outdir, exist_ok=True)\n",
    "\n",
    "CGSB.CGSB(\n",
    "    x = 20,  # [nm]\n",
    "    y = 10,  # [nm]\n",
    "    \n",
    "    stacked_membranes = \" \".join([\n",
    "        ### Number of membranes\n",
    "        \"number:3\",\n",
    "        ### Distance between membranes\n",
    "        \"distance:3:5:5\", # [nm]\n",
    "        ### Where distances should be calculated from\n",
    "        \"distance_type:surface\", # Alternatives: center, surface_mean\n",
    "        \n",
    "        ### ### Membrane arguments\n",
    "        ### Designates membrane 1 and 3 (top and bottom)\n",
    "        \"membrane_argument:positions:1:3 lipid:POPC:5 lipid:CHOL:1\",\n",
    "        ### Designates membrane 2 (middle)\n",
    "        \"membrane_argument:positions:2   lipid:POPE:3 lipid:CHOL:2\",\n",
    "        \n",
    "        ### ### Solvation arguments\n",
    "        ### Designates solvent space 1 (going across the pbc)\n",
    "        \"solvation_argument:positions:1   default solv_per_lipid:20\",\n",
    "        ### Designates solvent space 2 (between membrane 1 and 2) and 3 (between membrane 2 and 3)\n",
    "        \"solvation_argument:positions:2:3 default solv_per_lipid:10\",        \n",
    "    ]),\n",
    "    \n",
    "    itp_input = \"file:toppar/top_for_CGSB.itp\",\n",
    "    \n",
    "    out_sys = os.path.join(outdir, \"_\".join([\"output\", sysname])),\n",
    "    out_top = os.path.join(outdir, \"_\".join([\"topol\", sysname]) + \".top\"),\n",
    "    out_log = os.path.join(outdir, \"_\".join([\"log\", sysname]) + \".log\"),\n",
    "    \n",
    "    ### Designates the system name\n",
    "    sn = sysname,\n",
    ")\n"
   ]
  },
  {
   "cell_type": "markdown",
   "metadata": {},
   "source": [
    "# Solvation"
   ]
  },
  {
   "cell_type": "markdown",
   "metadata": {},
   "source": [
    "Solvent composition can be changed by manipulating it using the ``solvent`` argument. By this point, we have seen only the ``solvent:default`` systems, which is water in 55.56 mol L<sup>-1</sup> concentration, and NaCl in 0.15 mol L<sup>-1</sup> concentration. \n",
    "\n",
    "Solvent and salt molarity can be changed using the ``solv_molarity`` and ``salt_molarity``, respectively. \n",
    "\n",
    "One can choose a specific type of ion using the ``pos`` and ``neg`` subarguments. \n",
    "\n",
    "A neutralisation method can be chosen with the ``salt_method`` subargument.\n",
    "\n",
    "The ``ratio_method`` subargument is applicable in the mixed solvent systems, where one can choose between respecting the ``coarse``-grained or ``atomistic`` solvent ratios. This is relevant if the coarse-grained mapping scheme (commonly 4-to-1) is not the same between the requested solvent types. \n"
   ]
  },
  {
   "cell_type": "markdown",
   "metadata": {
    "heading_collapsed": true
   },
   "source": [
    "## Solvation 2: Change Concentration"
   ]
  },
  {
   "cell_type": "markdown",
   "metadata": {
    "hidden": true
   },
   "source": [
    "In this example we can see how solvent concentration can be changed.\n",
    "\n",
    "The subargument ``solv_molarity:40`` changes the solvent concentration to 40 mol L<sup>-1</sup>, which results in 28% fewer solvent particles (as compared to the default 55.56 mol L<sup>-1</sup>).\n"
   ]
  },
  {
   "cell_type": "markdown",
   "metadata": {
    "hidden": true
   },
   "source": [
    "<div>\n",
    "<!-- height argument does not work in jupyter for whatever reason. Can't find any help online. -->\n",
    "<img src=\"figures/Solvation2_ChangeConcentration.png\" width=\"400px\"/>\n",
    "</div>"
   ]
  },
  {
   "cell_type": "code",
   "execution_count": 18,
   "metadata": {
    "ExecuteTime": {
     "end_time": "2024-03-22T13:42:32.047975Z",
     "start_time": "2024-03-22T13:42:31.263363Z"
    },
    "hidden": true
   },
   "outputs": [
    {
     "name": "stdout",
     "output_type": "stream",
     "text": [
      "\n",
      "Setting random seed to: 1711114951\n",
      "-------------------------- PREPROCESSING DEFINITIONS ---------------------------\n",
      "---------------------- DEFINITIONS PREPROCESSING COMPLETE ----------------------\n",
      "                            (Time spent: 0.4671 [s])                             \n",
      "\n",
      "---------------------------- PREPROCESSING COMMANDS ----------------------------\n",
      "------------------------ COMMAND PREPROCESSING COMPLETE ------------------------\n",
      "                            (Time spent: 0.0009 [s])                             \n",
      "\n",
      "----------------------- CREATING LEAFLET BOUNDARY BOXES ------------------------\n",
      "------------------------ LEAFLET BOUNDARY BOXES CREATED ------------------------\n",
      "                            (Time spent: 0.0013 [s])                             \n",
      "\n",
      "------------------------ CREATING HOLED BOUNDARY BOXES -------------------------\n",
      "------------------------- HOLED BOUNDARY BOXES CREATED -------------------------\n",
      "                            (Time spent: 0.0006 [s])                             \n",
      "\n",
      "--------------------------- CALCULATING LIPID RATIOS ---------------------------\n",
      "---------------------- LIPID RATIO CALCULATIONS COMPLETE -----------------------\n",
      "                            (Time spent: 0.0009 [s])                             \n",
      "\n",
      "----------------------------- CREATING LIPID GRID ------------------------------\n",
      "------------------------------ LIPID GRID CREATED ------------------------------\n",
      "                            (Time spent: 0.0081 [s])                             \n",
      "\n",
      "------------------------------- CREATING LIPIDS --------------------------------\n",
      "--------------------------- LIPID CREATION COMPLETE ----------------------------\n",
      "                            (Time spent: 0.0617 [s])                             \n",
      "\n",
      "------------------------------- SOLVATING SYSTEM -------------------------------\n",
      "------------------------------ SOLVATION COMPLETE ------------------------------\n",
      "                            (Time spent: 0.051 [s])                              \n",
      "\n",
      "--------------------\n",
      "Final system charge: 0.0\n",
      "-------------------- \n",
      "\n",
      "---------------------- Writing structure files (PDB/GRO) -----------------------\n",
      "PDB file written: output_systems/Solvation2_ChangeSolventConcentration/output_Solvation2_ChangeSolventConcentration.pdb\n",
      "GRO file written: output_systems/Solvation2_ChangeSolventConcentration/output_Solvation2_ChangeSolventConcentration.gro\n",
      "\n",
      "---------------------------- Writing topology file -----------------------------\n",
      "Topology file written: output_systems/Solvation2_ChangeSolventConcentration/topol_Solvation2_ChangeSolventConcentration.top \n",
      "\n",
      "------------------------------- Writing log file -------------------------------\n",
      "Log file written: output_systems/Solvation2_ChangeSolventConcentration/log_Solvation2_ChangeSolventConcentration.log \n",
      "\n",
      "My task is complete. Did i do a good job?\n",
      "Time spent running CGSB: 0.7738\n"
     ]
    },
    {
     "data": {
      "text/plain": [
       "<CGSB.main_class.CGSB_class.CGSB at 0x7fc033943700>"
      ]
     },
     "execution_count": 18,
     "metadata": {},
     "output_type": "execute_result"
    }
   ],
   "source": [
    "sysname = \"Solvation2_ChangeSolventConcentration\"\n",
    "outdir = os.path.join(\"output_systems\", sysname)\n",
    "os.makedirs(outdir, exist_ok=True)\n",
    "\n",
    "CGSB.CGSB(\n",
    "    box = [10, 10, 10], # [nm]\n",
    "    \n",
    "    ### A single POPC membrane has been created\n",
    "    membrane = \"lipid:POPC\",\n",
    "    \n",
    "    ### Solvates the system using the default solvation settings of \"solv:W pos:NA neg:CL\"\n",
    "    ### \"solv_molarity\" sets the concentration [mol/L] of the solvent\n",
    "    ### \"salt_molarity\" sets the concentration [mol/L] of the salt (ions)\n",
    "    solvation = \"default solv_molarity:40\",\n",
    "    \n",
    "    itp_input = \"file:toppar/top_for_CGSB.itp\",\n",
    "    \n",
    "    out_sys = os.path.join(outdir, \"_\".join([\"output\", sysname])),\n",
    "    out_top = os.path.join(outdir, \"_\".join([\"topol\", sysname]) + \".top\"),\n",
    "    out_log = os.path.join(outdir, \"_\".join([\"log\", sysname]) + \".log\"),\n",
    "    \n",
    "    ### Designates the system name\n",
    "    sn = sysname,\n",
    ")"
   ]
  },
  {
   "cell_type": "markdown",
   "metadata": {
    "heading_collapsed": true
   },
   "source": [
    "## Solvation 3: Charge Neutralization Methods"
   ]
  },
  {
   "cell_type": "markdown",
   "metadata": {
    "hidden": true
   },
   "source": [
    "Neutralising salt concentrations can be handled in three different ways, specified under a ``salt_method`` subargument. \n",
    "\n",
    "In this example, the system before neutralistion has a charge surplus of -32 (due to 32 negatively charged POPG lipids), which is counterbalanced by Na<sup>+</sup>. The requested NaCl concentration is 0.15 mol L<sup>-1</sup>.  \n",
    "\n",
    "- ``salt_method:add`` : (default) First the salt (NaCl) is added in a requested concentration ($c$ = 0.15 mol L<sup>-1</sup>), followed by a neutralisation step (additional 32 Na<sup>+</sup>). This results in a $c$ salt concentration for Cl<sup>-</sup>, and a concentration \"surplus\" (0.23 mol L<sup>-1</sup>) for Na<sup>+</sup>.  \n",
    "\n",
    "- ``salt_method:remove`` : First the salt (NaCl) is added in a requested concentration ($c$ = 0.15 mol L<sup>-1</sup>), followed by a neutralisation step (removal of 32 Cl<sup>-</sup>). This results in 0.15 mol L<sup>-1</sup> Na<sup>+</sup>, but a deficit of Cl<sup>-</sup>, which occurs at 0.07 mol L<sup>-1</sup>. \n",
    "\n",
    "- ``salt_method:mean`` : An average of the two extremes are taken, resulting in 0.19 mol L<sup>-1</sup> Na<sup>+</sup> and 0.11 mol L<sup>-1</sup> Cl<sup>-</sup>. \n",
    "\n",
    "The following table shows the results and differences of the three neutralization methods compared to the initial insertion of 0.15 mol L<sup>-1</sup> of ions.\n"
   ]
  },
  {
   "cell_type": "markdown",
   "metadata": {
    "hidden": true
   },
   "source": [
    "|                                              | Number of Na<sup>+1</sup> | Number of Cl<sup>-1</sup> | Concentration of Na<sup>+1</sup> [mol L<sup>-1</sup>] | Concentration of Cl<sup>-1</sup> [mol L<sup>-1</sup>] |\n",
    "|:--------------------------------------------:|:-------------------------:|:-------------------------:|:--------------------------------:|:--------------------------------:|\n",
    "| Initial insertion of 0.15 mol L<sup>-1</sup> |             63            |             63            |               0.151              |               0.151              |\n",
    "|             After salt_method:add            |          95 (+32)         |             63            |          0.227 (+0.077)          |               0.151              |\n",
    "|           After salt_method:remove           |             63            |          31 (-32)         |               0.151              |          0.074 (-0.077)          |\n",
    "|            After salt_method:mean            |          79 (+16)         |          47 (-16)         |          0.189 (+0.038)          |          0.112 (-0.038)          |"
   ]
  },
  {
   "cell_type": "markdown",
   "metadata": {
    "hidden": true
   },
   "source": [
    "<div>\n",
    "<!-- height argument does not work in jupyter for whatever reason. Can't find any help online. -->\n",
    "<img src=\"figures/Solvation3_ChargeNeutralizationMethods.png\" width=\"400px\"/>\n",
    "</div>"
   ]
  },
  {
   "cell_type": "code",
   "execution_count": 19,
   "metadata": {
    "ExecuteTime": {
     "end_time": "2024-03-22T13:42:32.830544Z",
     "start_time": "2024-03-22T13:42:32.051212Z"
    },
    "hidden": true,
    "scrolled": false
   },
   "outputs": [
    {
     "name": "stdout",
     "output_type": "stream",
     "text": [
      "\n",
      "Setting random seed to: 1711114952\n",
      "-------------------------- PREPROCESSING DEFINITIONS ---------------------------\n",
      "---------------------- DEFINITIONS PREPROCESSING COMPLETE ----------------------\n",
      "                            (Time spent: 0.4473 [s])                             \n",
      "\n",
      "---------------------------- PREPROCESSING COMMANDS ----------------------------\n",
      "------------------------ COMMAND PREPROCESSING COMPLETE ------------------------\n",
      "                            (Time spent: 0.0013 [s])                             \n",
      "\n",
      "----------------------- CREATING LEAFLET BOUNDARY BOXES ------------------------\n",
      "------------------------ LEAFLET BOUNDARY BOXES CREATED ------------------------\n",
      "                            (Time spent: 0.0012 [s])                             \n",
      "\n",
      "------------------------ CREATING HOLED BOUNDARY BOXES -------------------------\n",
      "------------------------- HOLED BOUNDARY BOXES CREATED -------------------------\n",
      "                            (Time spent: 0.0005 [s])                             \n",
      "\n",
      "--------------------------- CALCULATING LIPID RATIOS ---------------------------\n",
      "---------------------- LIPID RATIO CALCULATIONS COMPLETE -----------------------\n",
      "                            (Time spent: 0.0014 [s])                             \n",
      "\n",
      "----------------------------- CREATING LIPID GRID ------------------------------\n",
      "------------------------------ LIPID GRID CREATED ------------------------------\n",
      "                            (Time spent: 0.0064 [s])                             \n",
      "\n",
      "------------------------------- CREATING LIPIDS --------------------------------\n",
      "--------------------------- LIPID CREATION COMPLETE ----------------------------\n",
      "                            (Time spent: 0.0601 [s])                             \n",
      "\n",
      "------------------------------- SOLVATING SYSTEM -------------------------------\n",
      "------------------------------ SOLVATION COMPLETE ------------------------------\n",
      "                            (Time spent: 0.062 [s])                              \n",
      "\n",
      "--------------------\n",
      "Final system charge: 0.0\n",
      "-------------------- \n",
      "\n",
      "---------------------- Writing structure files (PDB/GRO) -----------------------\n",
      "PDB file written: output_systems/Solvation3_ChargeNeutralizationMethods/output_Solvation3_ChargeNeutralizationMethods.pdb\n",
      "GRO file written: output_systems/Solvation3_ChargeNeutralizationMethods/output_Solvation3_ChargeNeutralizationMethods.gro\n",
      "\n",
      "---------------------------- Writing topology file -----------------------------\n",
      "Topology file written: output_systems/Solvation3_ChargeNeutralizationMethods/topol_Solvation3_ChargeNeutralizationMethods.top \n",
      "\n",
      "------------------------------- Writing log file -------------------------------\n",
      "Log file written: output_systems/Solvation3_ChargeNeutralizationMethods/log_Solvation3_ChargeNeutralizationMethods.log \n",
      "\n",
      "My task is complete. Did i do a good job?\n",
      "Time spent running CGSB: 0.766\n"
     ]
    },
    {
     "data": {
      "text/plain": [
       "<CGSB.main_class.CGSB_class.CGSB at 0x7fc033bdcf10>"
      ]
     },
     "execution_count": 19,
     "metadata": {},
     "output_type": "execute_result"
    }
   ],
   "source": [
    "sysname = \"Solvation3_ChargeNeutralizationMethods\"\n",
    "outdir = os.path.join(\"output_systems\", sysname)\n",
    "os.makedirs(outdir, exist_ok=True)\n",
    "\n",
    "CGSB.CGSB(\n",
    "    box = [10, 10, 10], # [nm]\n",
    "    \n",
    "    ### A single membrane is created containg POPC and POPG in a 10:1 ratio.\n",
    "    ### The POPG lipids each have a charge of -1\n",
    "    membrane = \"lipid:POPC:10 lipid:POPG:1\",\n",
    "    \n",
    "    ### Solvates the system using the default solvation settings of \"solv:W pos:NA neg:CL\"\n",
    "    \n",
    "    ### Adjusts system charge by adding extra ions until system is neutral\n",
    "#     solvation = \"default salt_method:add\", # default\n",
    "    \n",
    "    ### Adjusts system charge by removing excess ions until system is neutral\n",
    "#     solvation = \"default salt_method:remove\",\n",
    "    \n",
    "    ### Adjusts system charge by adding half of the charge difference as extra ions and removes half of the charge difference\n",
    "    solvation = \"default salt_method:mean\",\n",
    "    \n",
    "    itp_input = \"file:toppar/top_for_CGSB.itp\",\n",
    "    \n",
    "    out_sys = os.path.join(outdir, \"_\".join([\"output\", sysname])),\n",
    "    out_top = os.path.join(outdir, \"_\".join([\"topol\", sysname]) + \".top\"),\n",
    "    out_log = os.path.join(outdir, \"_\".join([\"log\", sysname]) + \".log\"),\n",
    "    \n",
    "    ### Designates the system name\n",
    "    sn = sysname,\n",
    ")"
   ]
  },
  {
   "cell_type": "markdown",
   "metadata": {},
   "source": [
    "## Solvation 4: Mixed Solvent"
   ]
  },
  {
   "cell_type": "markdown",
   "metadata": {},
   "source": [
    "Building a system with a mixed solvent depends on the requested ratios between the solvent species. Subargument ``ratio_method`` handles a method that is used to calculate the number of solvent molecules from the ratios:\n",
    "\n",
    "- ``coarse`` : (default) uses a coarse-grained mapping of solvents. In other words, ratios are imposed between solvent beads in the CG resolution. \n",
    "\n",
    "- ``atomistic``: uses an atomistic mapping of solvents. The ratios are imposed on the number of atoms that are contained within beads.\n",
    "\n",
    "A difference in the methods becomes obvious when one wants to use solvents that have different CG mapping schemes. \n",
    "\n",
    "In this example, the system contains a 5:3 ratio of regular water **W** and small water **SW** beads. **W** beads have a 4:1 atomistic-to-CG mapping, whereas **SW** beads have a 3:1 atomistic-to-CG mapping. \n",
    "\n",
    "If ``ratio_method:coarse``, the system inserts 4061 **W** and 2436 **SW** beads. ($4060:2436 = 5:3$). \n",
    "\n",
    "If  ``ratio_method:atomistic``, the system inserts 3680 **W** and 2944 **SW** beads ( $(3680 * 4) : (2944 * 3) = 5:3$ ). \n",
    "\n",
    "Similarly, the program can handle ion mixture ratios, but with the consideration of charge, rather than atomistic-to-CG mapping (as it is irrelevant for the ion species). \n",
    "\n",
    "In this example, the system contains a 5:1 ratio of Na<sup>+</sup>:CA<sup>+2</sup> ions, and Cl<sup>-</sup> as negatively charged ions. As such, the weighted number (based on charges) of positive ions is equal to the weighted number of negative ions. Charge data is gathered from the ``toppar/top_for_CGSB.itp`` file.\n",
    "\n",
    "Below is a table showing the different solvent compositions and ratios when using the two different ratio methods."
   ]
  },
  {
   "cell_type": "markdown",
   "metadata": {},
   "source": [
    "|                                      | ratio_method:coarse | ratio_method:atomistic |\n",
    "|:------------------------------------:|:-------------------:|:----------------------:|\n",
    "|  Number of coarse-grained \"W\" water  |         4061        |          3680          |\n",
    "|  Number of coarse-grained \"SW\" water |         2436        |          2944          |\n",
    "| Total number of coarse-grained water |         6497        |          6624          |\n",
    "|     Number of atomistic \"W\" water    |        16244        |          14720         |\n",
    "|    Number of atomistic \"SW\" water    |         7308        |          8832          |\n",
    "|    Total number of atomistic water   |        23552        |          23552         |\n",
    "|       Coarse-grained W:SW ratio      |      5.0 : 3.0      |        4.4 : 3.6       |\n",
    "|         Atomistic W:SW ratio         |      5.5 : 2.5      |        5.0 : 3.0       |"
   ]
  },
  {
   "cell_type": "markdown",
   "metadata": {},
   "source": [
    "<div>\n",
    "<!-- height argument does not work in jupyter for whatever reason. Can't find any help online. -->\n",
    "<img src=\"figures/Solvation4_MixedSolvent.png\" width=\"300px\"/>\n",
    "</div>"
   ]
  },
  {
   "cell_type": "code",
   "execution_count": 20,
   "metadata": {
    "ExecuteTime": {
     "end_time": "2024-03-22T13:42:34.894790Z",
     "start_time": "2024-03-22T13:42:32.832109Z"
    },
    "scrolled": false
   },
   "outputs": [
    {
     "name": "stdout",
     "output_type": "stream",
     "text": [
      "\n",
      "Setting random seed to: 1711114953\n",
      "-------------------------- PREPROCESSING DEFINITIONS ---------------------------\n",
      "---------------------- DEFINITIONS PREPROCESSING COMPLETE ----------------------\n",
      "                            (Time spent: 0.4346 [s])                             \n",
      "\n",
      "---------------------------- PREPROCESSING COMMANDS ----------------------------\n",
      "------------------------ COMMAND PREPROCESSING COMPLETE ------------------------\n",
      "                            (Time spent: 0.001 [s])                              \n",
      "\n",
      "----------------------- CREATING LEAFLET BOUNDARY BOXES ------------------------\n",
      "------------------------ LEAFLET BOUNDARY BOXES CREATED ------------------------\n",
      "                            (Time spent: 0.0011 [s])                             \n",
      "\n",
      "------------------------ CREATING HOLED BOUNDARY BOXES -------------------------\n",
      "------------------------- HOLED BOUNDARY BOXES CREATED -------------------------\n",
      "                            (Time spent: 0.0005 [s])                             \n",
      "\n",
      "--------------------------- CALCULATING LIPID RATIOS ---------------------------\n",
      "---------------------- LIPID RATIO CALCULATIONS COMPLETE -----------------------\n",
      "                            (Time spent: 0.0009 [s])                             \n",
      "\n",
      "----------------------------- CREATING LIPID GRID ------------------------------\n",
      "------------------------------ LIPID GRID CREATED ------------------------------\n",
      "                            (Time spent: 0.0064 [s])                             \n",
      "\n",
      "------------------------------- CREATING LIPIDS --------------------------------\n",
      "--------------------------- LIPID CREATION COMPLETE ----------------------------\n",
      "                            (Time spent: 0.0598 [s])                             \n",
      "\n",
      "------------------------------- SOLVATING SYSTEM -------------------------------\n",
      "------------------------------ SOLVATION COMPLETE ------------------------------\n",
      "                            (Time spent: 0.695 [s])                              \n",
      "\n",
      "--------------------\n",
      "Final system charge: 0.0\n",
      "-------------------- \n",
      "\n",
      "---------------------- Writing structure files (PDB/GRO) -----------------------\n",
      "File \"output_systems/Solvation4_MixedSolvent/output_Solvation4_MixedSolvent.pdb\" already exists. Backing it up\n",
      "PDB file written: output_systems/Solvation4_MixedSolvent/output_Solvation4_MixedSolvent.pdb\n",
      "File \"output_systems/Solvation4_MixedSolvent/output_Solvation4_MixedSolvent.gro\" already exists. Backing it up\n",
      "GRO file written: output_systems/Solvation4_MixedSolvent/output_Solvation4_MixedSolvent.gro\n",
      "\n",
      "---------------------------- Writing topology file -----------------------------\n",
      "File \"output_systems/Solvation4_MixedSolvent/topol_Solvation4_MixedSolvent.top\" already exists. Backing it up\n",
      "Topology file written: output_systems/Solvation4_MixedSolvent/topol_Solvation4_MixedSolvent.top \n",
      "\n",
      "------------------------------- Writing log file -------------------------------\n",
      "File \"output_systems/Solvation4_MixedSolvent/log_Solvation4_MixedSolvent.log\" already exists. Backing it up\n",
      "Log file written: output_systems/Solvation4_MixedSolvent/log_Solvation4_MixedSolvent.log \n",
      "\n",
      "My task is complete. Did i do a good job?\n",
      "Time spent running CGSB: 2.045\n"
     ]
    },
    {
     "data": {
      "text/plain": [
       "<CGSB.main_class.CGSB_class.CGSB at 0x7fc02ed909d0>"
      ]
     },
     "execution_count": 20,
     "metadata": {},
     "output_type": "execute_result"
    }
   ],
   "source": [
    "sysname = \"Solvation4_MixedSolvent\"\n",
    "outdir = os.path.join(\"output_systems\", sysname)\n",
    "os.makedirs(outdir, exist_ok=True)\n",
    "\n",
    "CGSB.CGSB(\n",
    "    box = [10, 10, 10], # [nm]\n",
    "    \n",
    "    membrane = \"lipid:POPC\",\n",
    "    \n",
    "    ### Solvation argument\n",
    "    solvation = \" \".join([\n",
    "        ### The solvents and ions with their set ratios\n",
    "        ### Note that \"charge:lib\" has been added to \"solv:SW:3\" because it is not present in the Martini 3 release topologies.\n",
    "        \"solv:W:5 solv:SW:3:charge:lib pos:NA:5 pos:CA:1 neg:CL:1\",\n",
    "        \n",
    "        ### Coarse-grained solvent ratios are used (default).\n",
    "        \"ratio_method:coarse\",\n",
    "        \n",
    "        ### Atomistic solvent ratios are used.\n",
    "#         \"ratio_method:atomistic\",\n",
    "    ]),\n",
    "    \n",
    "    itp_input = \"file:toppar/top_for_CGSB.itp\",\n",
    "    \n",
    "    out_sys = os.path.join(outdir, \"_\".join([\"output\", sysname])),\n",
    "    out_top = os.path.join(outdir, \"_\".join([\"topol\", sysname]) + \".top\"),\n",
    "    out_log = os.path.join(outdir, \"_\".join([\"log\", sysname]) + \".log\"),\n",
    "    \n",
    "    ### Designates the system name\n",
    "    sn = sysname,\n",
    ")"
   ]
  },
  {
   "cell_type": "markdown",
   "metadata": {},
   "source": [
    "## Solvation 5: Phase Separated Solvent"
   ]
  },
  {
   "cell_type": "markdown",
   "metadata": {},
   "source": [
    "In addition to creating a mixed solvent, the program can also create phase-separated solvents. \n",
    "\n",
    "In this example, there are two solvent spaces - one on the negative side of the x-axis, and one on the positive side. \n",
    "\n",
    "- **Solvent 1**: Centered at position (+5 nm, 0 nm, 0 nm) and occupying 10 nm along the x-axis. The salt concentration is ``default`` (0.15 mol L<sup>-1</sup>).\n",
    "\n",
    "- **Solvent 2**: Centered at position (-5 nm, 0 nm, 0 nm) and occupying 10 nm along the x-axis. In this solvent space, the salt concentration is increased to 0.6 mol L<sup>-1</sup>."
   ]
  },
  {
   "cell_type": "markdown",
   "metadata": {},
   "source": [
    "<div>\n",
    "<!-- height argument does not work in jupyter for whatever reason. Can't find any help online. -->\n",
    "<img src=\"figures/Solvation5_PhaseSeparatedSolvent.png\" width=\"300px\"/>\n",
    "</div>"
   ]
  },
  {
   "cell_type": "code",
   "execution_count": 21,
   "metadata": {
    "ExecuteTime": {
     "end_time": "2024-03-22T13:42:37.928753Z",
     "start_time": "2024-03-22T13:42:34.896549Z"
    }
   },
   "outputs": [
    {
     "name": "stdout",
     "output_type": "stream",
     "text": [
      "\n",
      "Setting random seed to: 1711114955\n",
      "-------------------------- PREPROCESSING DEFINITIONS ---------------------------\n",
      "---------------------- DEFINITIONS PREPROCESSING COMPLETE ----------------------\n",
      "                            (Time spent: 0.6687 [s])                             \n",
      "\n",
      "---------------------------- PREPROCESSING COMMANDS ----------------------------\n",
      "------------------------ COMMAND PREPROCESSING COMPLETE ------------------------\n",
      "                            (Time spent: 0.0011 [s])                             \n",
      "\n",
      "----------------------- CREATING LEAFLET BOUNDARY BOXES ------------------------\n",
      "------------------------ LEAFLET BOUNDARY BOXES CREATED ------------------------\n",
      "                            (Time spent: 0.0012 [s])                             \n",
      "\n",
      "------------------------ CREATING HOLED BOUNDARY BOXES -------------------------\n",
      "------------------------- HOLED BOUNDARY BOXES CREATED -------------------------\n",
      "                            (Time spent: 0.0005 [s])                             \n",
      "\n",
      "--------------------------- CALCULATING LIPID RATIOS ---------------------------\n",
      "---------------------- LIPID RATIO CALCULATIONS COMPLETE -----------------------\n",
      "                            (Time spent: 0.0009 [s])                             \n",
      "\n",
      "----------------------------- CREATING LIPID GRID ------------------------------\n",
      "------------------------------ LIPID GRID CREATED ------------------------------\n",
      "                            (Time spent: 0.0132 [s])                             \n",
      "\n",
      "------------------------------- CREATING LIPIDS --------------------------------\n",
      "--------------------------- LIPID CREATION COMPLETE ----------------------------\n",
      "                            (Time spent: 0.2415 [s])                             \n",
      "\n",
      "------------------------------- SOLVATING SYSTEM -------------------------------\n",
      "------------------------------ SOLVATION COMPLETE ------------------------------\n",
      "                            (Time spent: 0.574 [s])                              \n",
      "\n",
      "--------------------\n",
      "Final system charge: 0.0\n",
      "-------------------- \n",
      "\n",
      "---------------------- Writing structure files (PDB/GRO) -----------------------\n",
      "PDB file written: output_systems/Solvation5_PhaseSeparatedSolvent/output_Solvation5_PhaseSeparatedSolvent.pdb\n",
      "GRO file written: output_systems/Solvation5_PhaseSeparatedSolvent/output_Solvation5_PhaseSeparatedSolvent.gro\n",
      "\n",
      "---------------------------- Writing topology file -----------------------------\n",
      "Topology file written: output_systems/Solvation5_PhaseSeparatedSolvent/topol_Solvation5_PhaseSeparatedSolvent.top \n",
      "\n",
      "------------------------------- Writing log file -------------------------------\n",
      "Log file written: output_systems/Solvation5_PhaseSeparatedSolvent/log_Solvation5_PhaseSeparatedSolvent.log \n",
      "\n",
      "My task is complete. Did i do a good job?\n",
      "Time spent running CGSB: 2.7291\n"
     ]
    },
    {
     "data": {
      "text/plain": [
       "<CGSB.main_class.CGSB_class.CGSB at 0x7fc03578eaf0>"
      ]
     },
     "execution_count": 21,
     "metadata": {},
     "output_type": "execute_result"
    }
   ],
   "source": [
    "sysname = \"Solvation5_PhaseSeparatedSolvent\"\n",
    "outdir = os.path.join(\"output_systems\", sysname)\n",
    "os.makedirs(outdir, exist_ok=True)\n",
    "\n",
    "CGSB.CGSB(\n",
    "    box = [20, 20, 20], # [nm]\n",
    "    \n",
    "    membrane = \"lipid:POPC\",\n",
    "    \n",
    "    ### Solvates the system using the default solvation settings of \"solv:W pos:NA neg:CL\"\n",
    "    solvation = [\n",
    "        ### Creates a solvent box centered at (+5 nm, 0 nm, 0 nm)\n",
    "        ### The solvent box is 10 nm long in the x-axis\n",
    "        ### The solvent box spans the entire length of the system box along the y- and z-axes\n",
    "        \"default center:+5:0:0 xlength:10\",\n",
    "        \n",
    "        ### Creates a solvent box centered at (-5 nm, 0 nm, 0 nm)\n",
    "        ### The solvent box is 10 nm long in the x-axis\n",
    "        ### The solvent box spans the entire length of the system box along the y- and z-axes\n",
    "        ### The salt concentration has been changed to 0.6 mol/L (4 times the default of 0.15 mol/L)\n",
    "        \"default center:-5:0:0 xlength:10 salt_molarity:0.6\",\n",
    "    ],\n",
    "    \n",
    "    itp_input = \"file:toppar/top_for_CGSB.itp\",\n",
    "    \n",
    "    out_sys = os.path.join(outdir, \"_\".join([\"output\", sysname])),\n",
    "    out_top = os.path.join(outdir, \"_\".join([\"topol\", sysname]) + \".top\"),\n",
    "    out_log = os.path.join(outdir, \"_\".join([\"log\", sysname]) + \".log\"),\n",
    "    \n",
    "    ### Designates the system name\n",
    "    sn = sysname,\n",
    ")"
   ]
  },
  {
   "cell_type": "markdown",
   "metadata": {
    "heading_collapsed": true
   },
   "source": [
    "# Flooding"
   ]
  },
  {
   "cell_type": "markdown",
   "metadata": {
    "hidden": true
   },
   "source": [
    "The addition of an absolute number of solute molecules in the solvent is sometimes referred to as \"flooding\".\n",
    "\n",
    "For the flooding solute compounds, one needs to specify the **structure**, a **number** of requested molecules, and the **charge** of a molecule. \n",
    "\n",
    "The **charge** can be provided in several different ways: \n",
    "\n",
    "- **From the library**: This only applies to flooding molecules that exist in the CGSB library. For those kinds of flooding molecules, no charge information needs to be provided.\n",
    "\n",
    "- **From the .itp file**: In this case, the solute can be processed within the ``molecule_import`` argument.\n",
    "\n",
    "- **By specifying charge**: The charge of a solute can be passed onto the ``molecule_import`` argument. \n",
    "\n",
    "CGSB can handle multiple types of solutes added to the same system. "
   ]
  },
  {
   "cell_type": "markdown",
   "metadata": {
    "heading_collapsed": true,
    "hidden": true
   },
   "source": [
    "## Flooding 1: From Library"
   ]
  },
  {
   "cell_type": "markdown",
   "metadata": {
    "hidden": true
   },
   "source": [
    "This example contains a protein inserted into the POPC membrane and surrounded with 30 tyrosine, 15 arginine and 20 glycine molecules. A default solvation is performed after the solute molecules have been inserted.\n",
    "\n",
    "TYR, ARG, and GLY molecules exist in the CGSB library, so ``molecule_import`` is not necessary in this case.\n",
    "\n",
    "The ``flooding`` argument contains subarguments organised as ``solute:mol_name:N_of_molecules``, in this example:\n",
    "\n",
    "- ``solute:TYR:30``\n",
    "\n",
    "- ``solute:ARG:15``\n",
    "\n",
    "- ``solute:GLY:20``\n",
    "\n",
    "The subargument ``charge:lib`` specifies the charges to be taken from the in-built library instead of looking for them in the topology file. Alternatively, one could designate ``charge:lib`` for each individual solute as shown in the Python code below. Note that if this is not designated, then CGSB will by default look for them in the topology file and error out if it does not find them.\n",
    "\n",
    "Also note that the addition of ``flooding`` results in a couple of warnings that are printed during the \"SOLVATING SYSTEM\" step. This is not concerning - CGSB is simply informing you that the default grid resolution for solvent is too small and is therefore automatically adjusted to prevent molecule overlaps."
   ]
  },
  {
   "cell_type": "markdown",
   "metadata": {
    "hidden": true
   },
   "source": [
    "<div>\n",
    "<!-- height argument does not work in jupyter for whatever reason. Can't find any help online. -->\n",
    "<img src=\"figures/Flooding1_FromLibrary.png\" width=\"400px\"/>\n",
    "</div>"
   ]
  },
  {
   "cell_type": "code",
   "execution_count": 22,
   "metadata": {
    "ExecuteTime": {
     "end_time": "2024-03-22T13:42:39.265212Z",
     "start_time": "2024-03-22T13:42:37.930684Z"
    },
    "hidden": true,
    "scrolled": false
   },
   "outputs": [
    {
     "name": "stdout",
     "output_type": "stream",
     "text": [
      "\n",
      "Setting random seed to: 1711114958\n",
      "-------------------------- PREPROCESSING DEFINITIONS ---------------------------\n",
      "---------------------- DEFINITIONS PREPROCESSING COMPLETE ----------------------\n",
      "                            (Time spent: 0.4648 [s])                             \n",
      "\n",
      "---------------------------- PREPROCESSING COMMANDS ----------------------------\n",
      "------------------------ COMMAND PREPROCESSING COMPLETE ------------------------\n",
      "                            (Time spent: 0.0108 [s])                             \n",
      "\n",
      "------------------------------ PROTEIN PLACEMENT -------------------------------\n",
      "-------------------------- PROTEIN PLACEMENT COMPLETE --------------------------\n",
      "                            (Time spent: 0.0056 [s])                             \n",
      "\n",
      "----------------------- CREATING LEAFLET BOUNDARY BOXES ------------------------\n",
      "------------------------ LEAFLET BOUNDARY BOXES CREATED ------------------------\n",
      "                            (Time spent: 0.0009 [s])                             \n",
      "\n",
      "------------------------ CREATING HOLED BOUNDARY BOXES -------------------------\n",
      "------------------------- HOLED BOUNDARY BOXES CREATED -------------------------\n",
      "                            (Time spent: 0.397 [s])                              \n",
      "\n",
      "--------------------------- CALCULATING LIPID RATIOS ---------------------------\n",
      "---------------------- LIPID RATIO CALCULATIONS COMPLETE -----------------------\n",
      "                            (Time spent: 0.0009 [s])                             \n",
      "\n",
      "----------------------------- CREATING LIPID GRID ------------------------------\n",
      "------------------------------ LIPID GRID CREATED ------------------------------\n",
      "                            (Time spent: 0.0207 [s])                             \n",
      "\n",
      "------------------------------- CREATING LIPIDS --------------------------------\n",
      "--------------------------- LIPID CREATION COMPLETE ----------------------------\n",
      "                            (Time spent: 0.0498 [s])                             \n",
      "\n",
      "------------------------------- SOLVATING SYSTEM -------------------------------\n",
      "WARNING: Requested solvent is too large for the grid resolution. Adjusting grid resolution to prevent molecule overlaps.\n",
      "WARNING: Original grid resolution was: 0.264 [nm]\n",
      "WARNING: New grid resolution is:       0.8292 [nm]\n",
      "WARNING: Calculation: (largest molecule size + 2 * particle kick value) * 1.2 \n",
      "\n",
      "------------------------------ SOLVATION COMPLETE ------------------------------\n",
      "                            (Time spent: 0.088 [s])                              \n",
      "\n",
      "--------------------\n",
      "Final system charge: 0.0\n",
      "-------------------- \n",
      "\n",
      "---------------------- Writing structure files (PDB/GRO) -----------------------\n",
      "PDB file written: output_systems/Flooding1_FromLibrary/output_Flooding1_FromLibrary.pdb\n",
      "GRO file written: output_systems/Flooding1_FromLibrary/output_Flooding1_FromLibrary.gro\n",
      "\n",
      "---------------------------- Writing topology file -----------------------------\n",
      "Topology file written: output_systems/Flooding1_FromLibrary/topol_Flooding1_FromLibrary.top \n",
      "\n",
      "------------------------------- Writing log file -------------------------------\n",
      "Log file written: output_systems/Flooding1_FromLibrary/log_Flooding1_FromLibrary.log \n",
      "\n",
      "My task is complete. Did i do a good job?\n",
      "Time spent running CGSB: 1.3205\n"
     ]
    },
    {
     "data": {
      "text/plain": [
       "<CGSB.main_class.CGSB_class.CGSB at 0x7fc02c677fa0>"
      ]
     },
     "execution_count": 22,
     "metadata": {},
     "output_type": "execute_result"
    }
   ],
   "source": [
    "sysname = \"Flooding1_FromLibrary\"\n",
    "outdir = os.path.join(\"output_systems\", sysname)\n",
    "os.makedirs(outdir, exist_ok=True)\n",
    "\n",
    "CGSB.CGSB(\n",
    "    ### Designates box size\n",
    "    box = [10, 10, 11], # [nm]\n",
    "    \n",
    "    ### Inserts POPC membrane\n",
    "    membrane = \"lipid:POPC\",\n",
    "    \n",
    "    ### Inserts protein\n",
    "    protein = \"file:example_proteins/PDB_8BB6_martinized.pdb moleculetypes:8BB6_CG\",\n",
    "    \n",
    "    ### Inserts 30 tyrosine, 15 arginine and 20 glycine\n",
    "    ### \"charge:lib\" tells CGSB to use the inbuilt charges from the library instead of looking for them in the topology\n",
    "    ### CGSB would throw an error otherwise, as TYR, ARG and GLY are not present in the topology\n",
    "    flooding = \"solute:TYR:30 solute:ARG:15 solute:GLY:20 charge:lib\",\n",
    "    \n",
    "    ### Alternative: Designate \"charge:lib\" for each individual solute\n",
    "#     flooding = \"solute:TYR:30:charge:lib solute:ARG:15:charge:lib solute:GLY:20:charge:lib\",\n",
    "    \n",
    "    ### Default flooding argument equalling \"solv:W pos:NA neg:CL\"\n",
    "    solvation = \"default\",\n",
    "    \n",
    "    itp_input = \"file:toppar/top_for_CGSB.itp\",\n",
    "    \n",
    "    out_sys = os.path.join(outdir, \"_\".join([\"output\", sysname])),\n",
    "    out_top = os.path.join(outdir, \"_\".join([\"topol\", sysname]) + \".top\"),\n",
    "    out_log = os.path.join(outdir, \"_\".join([\"log\", sysname]) + \".log\"),\n",
    "    \n",
    "    ### Designates the system name\n",
    "    sn = sysname,\n",
    ")"
   ]
  },
  {
   "cell_type": "markdown",
   "metadata": {
    "heading_collapsed": true,
    "hidden": true
   },
   "source": [
    "## Flooding 2: Import Solute"
   ]
  },
  {
   "cell_type": "markdown",
   "metadata": {
    "hidden": true
   },
   "source": [
    "Similar to the previous example, the system contains a protein inserted into a POPC membrane and 0.15 mol <sup>L-1</sup> NaCl, as well as 30 sucrose molecules that are not present in the CGSB library and therefore need to be imported using the ``molecule_import`` argument. \n",
    "\n",
    "The structure and charge information about solute types is specified under the ``molecule_import`` argument.\n",
    "\n",
    "Depending on whether there is an existing topology file for the solute, there are two approaches for defining the solute types:\n",
    "\n",
    "**1) Existing solute topology file:** : \n",
    "\n",
    "The ``molecule_import`` argument takes subarguments ``file`` that points towards the solute structure file (pdb/gro), and ``moleculetype`` that specifies the name of the solute (matching to the name under ``[ moleculetype ]`` in the topology file)    \n",
    "\n",
    "``molecule_import = \"file:SOLUTE.pdb moleculetype:SOLUTE_moleculetype``\n",
    "\n",
    "**2) No solute topology file:**\n",
    "\n",
    "If one does not have a topology file, then a reference name can be specified using ``name``, and charges can be manually designated using ``charge``.\n",
    "\n",
    "``molecule_import = \"file:SOLUTE.pdb name:SOLUTE_reference_name charge:[CHARGE_subargument]``\n",
    "\n",
    "\n",
    "**Charges** can be designated in one of four ways when no topology file is available:\n",
    "\n",
    "- No ``charge`` subargument: assumes that all beads in the molecule are uncharged\n",
    "\n",
    "- ``charge:[int]``: designates a sum charge that is spread evenly across all beads in the molecule. In this option, only one ``charge`` subargument is permitted. \n",
    "\n",
    "- ``charge:[float/int]:res:[resnr]:bead:[beadnr]``: specifies a charge for a specific bead in a specific residue. Any number of ``charge`` subarguments may be used.\n",
    "\n",
    "- ``charge:[float/int]:bead:[beadnr]``: specifies a charge for a specific bead. Any number of these may be used. Only applicable for single-residue molecules.\n",
    "\n",
    "In addition, ``molecule_import`` can take a ``params`` subargument that defines a library where the solute should be added. This is by default the ``default`` parameter library.\n",
    "\n",
    "In this example, 30 molecules of sucrose (SUCR) are added to the system. The structure of sucrose is provided in the ``example_solutes/SUCROSE/sucrose.pdb`` file. \n",
    "\n",
    "The solute topology is passed to CGSB in the ``itp_input`` argument by using the subargument ``include:example_solutes/SUCROSE/sucrose.itp``. The difference between the ``file`` and ``include`` subarguments for ``itp_input`` is that #include statements found within the ``file`` file will be added to the written .top file, while the ``include`` path will be added directly to the written .top file.\n",
    "\n",
    "The system is flooded with 30 sucrose molecules by using the ``flooding`` argument.\n",
    "\n",
    "The addition of ``flooding`` results in a couple of warnings that are printed during the \"SOLVATING SYSTEM\" step. This is not concerning - CGSB is simply informing you that the default grid resolution for solvent is too small and is therefore automatically adjusted to prevent molecule overlaps."
   ]
  },
  {
   "cell_type": "markdown",
   "metadata": {
    "hidden": true
   },
   "source": [
    "<div>\n",
    "<!-- height argument does not work in jupyter for whatever reason. Can't find any help online. -->\n",
    "<img src=\"figures/Flooding2_ImportSolute.png\" width=\"400px\"/>\n",
    "</div>"
   ]
  },
  {
   "cell_type": "code",
   "execution_count": 23,
   "metadata": {
    "ExecuteTime": {
     "end_time": "2024-03-22T13:42:40.531780Z",
     "start_time": "2024-03-22T13:42:39.266851Z"
    },
    "hidden": true,
    "scrolled": false
   },
   "outputs": [
    {
     "name": "stdout",
     "output_type": "stream",
     "text": [
      "\n",
      "Setting random seed to: 1711114959\n",
      "-------------------------- PREPROCESSING DEFINITIONS ---------------------------\n",
      "---------------------- DEFINITIONS PREPROCESSING COMPLETE ----------------------\n",
      "                            (Time spent: 0.4483 [s])                             \n",
      "\n",
      "---------------------------- PREPROCESSING COMMANDS ----------------------------\n",
      "------------------------ COMMAND PREPROCESSING COMPLETE ------------------------\n",
      "                            (Time spent: 0.0097 [s])                             \n",
      "\n",
      "------------------------------ PROTEIN PLACEMENT -------------------------------\n",
      "-------------------------- PROTEIN PLACEMENT COMPLETE --------------------------\n",
      "                            (Time spent: 0.0058 [s])                             \n",
      "\n",
      "----------------------- CREATING LEAFLET BOUNDARY BOXES ------------------------\n",
      "------------------------ LEAFLET BOUNDARY BOXES CREATED ------------------------\n",
      "                            (Time spent: 0.0009 [s])                             \n",
      "\n",
      "------------------------ CREATING HOLED BOUNDARY BOXES -------------------------\n",
      "------------------------- HOLED BOUNDARY BOXES CREATED -------------------------\n",
      "                            (Time spent: 0.3749 [s])                             \n",
      "\n",
      "--------------------------- CALCULATING LIPID RATIOS ---------------------------\n",
      "---------------------- LIPID RATIO CALCULATIONS COMPLETE -----------------------\n",
      "                            (Time spent: 0.0009 [s])                             \n",
      "\n",
      "----------------------------- CREATING LIPID GRID ------------------------------\n",
      "------------------------------ LIPID GRID CREATED ------------------------------\n",
      "                            (Time spent: 0.0206 [s])                             \n",
      "\n",
      "------------------------------- CREATING LIPIDS --------------------------------\n",
      "--------------------------- LIPID CREATION COMPLETE ----------------------------\n",
      "                            (Time spent: 0.0498 [s])                             \n",
      "\n",
      "------------------------------- SOLVATING SYSTEM -------------------------------\n",
      "WARNING: Requested solvent is too large for the grid resolution. Adjusting grid resolution to prevent molecule overlaps.\n",
      "WARNING: Original grid resolution was: 0.264 [nm]\n",
      "WARNING: New grid resolution is:       1.1612 [nm]\n",
      "WARNING: Calculation: (largest molecule size + 2 * particle kick value) * 1.2 \n",
      "\n",
      "------------------------------ SOLVATION COMPLETE ------------------------------\n",
      "                            (Time spent: 0.088 [s])                              \n",
      "\n",
      "--------------------\n",
      "Final system charge: 0.0\n",
      "-------------------- \n",
      "\n",
      "---------------------- Writing structure files (PDB/GRO) -----------------------\n",
      "PDB file written: output_systems/Flooding2_ImportSolute/output_Flooding2_ImportSolute.pdb\n",
      "GRO file written: output_systems/Flooding2_ImportSolute/output_Flooding2_ImportSolute.gro\n",
      "\n",
      "---------------------------- Writing topology file -----------------------------\n",
      "Topology file written: output_systems/Flooding2_ImportSolute/topol_Flooding2_ImportSolute.top \n",
      "\n",
      "------------------------------- Writing log file -------------------------------\n",
      "Log file written: output_systems/Flooding2_ImportSolute/log_Flooding2_ImportSolute.log \n",
      "\n",
      "My task is complete. Did i do a good job?\n",
      "Time spent running CGSB: 1.2442\n"
     ]
    },
    {
     "data": {
      "text/plain": [
       "<CGSB.main_class.CGSB_class.CGSB at 0x7fc035789f70>"
      ]
     },
     "execution_count": 23,
     "metadata": {},
     "output_type": "execute_result"
    }
   ],
   "source": [
    "sysname = \"Flooding2_ImportSolute\"\n",
    "outdir = os.path.join(\"output_systems\", sysname)\n",
    "os.makedirs(outdir, exist_ok=True)\n",
    "\n",
    "CGSB.CGSB(\n",
    "    ### Designates box size\n",
    "    box = [10, 10, 11], # [nm]\n",
    "    \n",
    "    ### Makes a simple POPC membrane\n",
    "    membrane = \"lipid:POPC\",\n",
    "    \n",
    "    ### Inserts protein\n",
    "    protein = \"file:example_proteins/PDB_8BB6_martinized.pdb moleculetypes:8BB6_CG\",\n",
    "    \n",
    "    ### Imports a molecule such that it can be used for flooding/solvation\n",
    "    molecule_import = \" \".join([\n",
    "        ### ### Imports the sucrose pdb file\n",
    "        ### Imported file: \"file:example_solutes/SUCROSE/sucrose.pdb\"\n",
    "        \"file:example_solutes/SUCROSE/sucrose.pdb\",\n",
    "        \n",
    "        ### ### Obtaining charge information from topology file\n",
    "        ### Charges are taken from the topology entry named \"SUCR\" due to 'moleculetype:SUCR'\n",
    "        ### The molecule is therefore also referred to as \"SUCR\" in flooding/solvation calls\n",
    "        \"moleculetype:SUCR\",\n",
    "\n",
    "        ### ### Alternative to 'moleculetype'. Also see the comment for the \"flooding\" argument below.\n",
    "        ### Designates the name to be SUCR (for use in flooding/solvation calls)\n",
    "#         \"name:SUCR\",\n",
    "        ### Sets the charge of the entire molecule to 0\n",
    "#         \"charge:0\",\n",
    "    ]),\n",
    "    \n",
    "    ### Orders 30 SUCR (sucrose) molecules to be inserted\n",
    "    flooding = \"solute:SUCR:30\",\n",
    "    ### Note that if charge has been set manually, then the flooding argument should look like this\n",
    "#     flooding = \"solute:SUCR:30:charge:lib\",\n",
    "    \n",
    "    ### Solvates the system after it has been flooded\n",
    "    ### Floodings will always be done before solvations, regardless of the order the arguments are given in\n",
    "    solvation = \"default\",\n",
    "    \n",
    "    itp_input = [\n",
    "        ### Original itp file containing most topologies used in the Tutorial\n",
    "        \"file:toppar/top_for_CGSB.itp\",\n",
    "        ### Sucrose itp file\n",
    "        \"include:example_solutes/SUCROSE/sucrose.itp\",\n",
    "    ],\n",
    "    \n",
    "    out_sys = os.path.join(outdir, \"_\".join([\"output\", sysname])),\n",
    "    out_top = os.path.join(outdir, \"_\".join([\"topol\", sysname]) + \".top\"),\n",
    "    out_log = os.path.join(outdir, \"_\".join([\"log\", sysname]) + \".log\"),\n",
    "    \n",
    "    ### Designates the system name\n",
    "    sn = sysname,\n",
    "    \n",
    "#     debug=True\n",
    ")\n"
   ]
  },
  {
   "cell_type": "markdown",
   "metadata": {
    "heading_collapsed": true,
    "hidden": true
   },
   "source": [
    "## Flooding 3: Import Multiple Solutes"
   ]
  },
  {
   "cell_type": "markdown",
   "metadata": {
    "hidden": true
   },
   "source": [
    "Similar to the previous example, the system contains a protein inserted into a POPC membrane and 0.15 mol L<sup>-1</sup> NaCl, as well as 10 sucrose, benzene, toluene and ethylnaphthalene molecules that are not present in the CGSB library and therefore need to be imported using the ``molecule_import`` argument. \n",
    "\n",
    "Multiple solutes can be imported by supplying each specific import argument as a separate string in a list to the ``molecule_import`` argument.\n",
    "\n",
    "The topology files for the four solutes are included in the ``itp_input`` argument by using the ``include`` subargument.\n"
   ]
  },
  {
   "cell_type": "markdown",
   "metadata": {
    "hidden": true
   },
   "source": [
    "<div>\n",
    "<!-- height argument does not work in jupyter for whatever reason. Can't find any help online. -->\n",
    "<img src=\"figures/Flooding3_ImportMultipleSolutes.png\" width=\"400px\"/>\n",
    "</div>"
   ]
  },
  {
   "cell_type": "code",
   "execution_count": 24,
   "metadata": {
    "ExecuteTime": {
     "end_time": "2024-03-22T13:42:41.830530Z",
     "start_time": "2024-03-22T13:42:40.534691Z"
    },
    "hidden": true,
    "scrolled": false
   },
   "outputs": [
    {
     "name": "stdout",
     "output_type": "stream",
     "text": [
      "\n",
      "Setting random seed to: 1711114961\n",
      "-------------------------- PREPROCESSING DEFINITIONS ---------------------------\n",
      "---------------------- DEFINITIONS PREPROCESSING COMPLETE ----------------------\n",
      "                            (Time spent: 0.5251 [s])                             \n",
      "\n",
      "---------------------------- PREPROCESSING COMMANDS ----------------------------\n",
      "------------------------ COMMAND PREPROCESSING COMPLETE ------------------------\n",
      "                            (Time spent: 0.0103 [s])                             \n",
      "\n",
      "------------------------------ PROTEIN PLACEMENT -------------------------------\n",
      "-------------------------- PROTEIN PLACEMENT COMPLETE --------------------------\n",
      "                            (Time spent: 0.0053 [s])                             \n",
      "\n",
      "----------------------- CREATING LEAFLET BOUNDARY BOXES ------------------------\n",
      "------------------------ LEAFLET BOUNDARY BOXES CREATED ------------------------\n",
      "                            (Time spent: 0.0008 [s])                             \n",
      "\n",
      "------------------------ CREATING HOLED BOUNDARY BOXES -------------------------\n",
      "------------------------- HOLED BOUNDARY BOXES CREATED -------------------------\n",
      "                            (Time spent: 0.3786 [s])                             \n",
      "\n",
      "--------------------------- CALCULATING LIPID RATIOS ---------------------------\n",
      "---------------------- LIPID RATIO CALCULATIONS COMPLETE -----------------------\n",
      "                            (Time spent: 0.0009 [s])                             \n",
      "\n",
      "----------------------------- CREATING LIPID GRID ------------------------------\n",
      "------------------------------ LIPID GRID CREATED ------------------------------\n",
      "                            (Time spent: 0.0206 [s])                             \n",
      "\n",
      "------------------------------- CREATING LIPIDS --------------------------------\n",
      "--------------------------- LIPID CREATION COMPLETE ----------------------------\n",
      "                            (Time spent: 0.0497 [s])                             \n",
      "\n",
      "------------------------------- SOLVATING SYSTEM -------------------------------\n",
      "WARNING: Requested solvent is too large for the grid resolution. Adjusting grid resolution to prevent molecule overlaps.\n",
      "WARNING: Original grid resolution was: 0.264 [nm]\n",
      "WARNING: New grid resolution is:       1.1612 [nm]\n",
      "WARNING: Calculation: (largest molecule size + 2 * particle kick value) * 1.2 \n",
      "\n",
      "------------------------------ SOLVATION COMPLETE ------------------------------\n",
      "                            (Time spent: 0.087 [s])                              \n",
      "\n",
      "--------------------\n",
      "Final system charge: 0.0\n",
      "-------------------- \n",
      "\n",
      "---------------------- Writing structure files (PDB/GRO) -----------------------\n",
      "PDB file written: output_systems/Flooding3_ImportMultipleSolutes/output_Flooding3_ImportMultipleSolutes.pdb\n",
      "GRO file written: output_systems/Flooding3_ImportMultipleSolutes/output_Flooding3_ImportMultipleSolutes.gro\n",
      "\n",
      "---------------------------- Writing topology file -----------------------------\n",
      "Topology file written: output_systems/Flooding3_ImportMultipleSolutes/topol_Flooding3_ImportMultipleSolutes.top \n",
      "\n",
      "------------------------------- Writing log file -------------------------------\n",
      "Log file written: output_systems/Flooding3_ImportMultipleSolutes/log_Flooding3_ImportMultipleSolutes.log \n",
      "\n",
      "My task is complete. Did i do a good job?\n",
      "Time spent running CGSB: 1.2818\n"
     ]
    },
    {
     "data": {
      "text/plain": [
       "<CGSB.main_class.CGSB_class.CGSB at 0x7fc02723b040>"
      ]
     },
     "execution_count": 24,
     "metadata": {},
     "output_type": "execute_result"
    }
   ],
   "source": [
    "sysname = \"Flooding3_ImportMultipleSolutes\"\n",
    "outdir = os.path.join(\"output_systems\", sysname)\n",
    "os.makedirs(outdir, exist_ok=True)\n",
    "\n",
    "CGSB.CGSB(\n",
    "    ### Designates box size\n",
    "    box = [10, 10, 11], # [nm]\n",
    "    \n",
    "    ### Makes a simple POPC membrane\n",
    "    membrane = \"lipid:POPC\",\n",
    "    \n",
    "    ### Inserts protein\n",
    "    protein = \"file:example_proteins/PDB_8BB6_martinized.pdb moleculetypes:8BB6_CG\",\n",
    "    \n",
    "    ### Imports multiple molecule such that they can be used for flooding/solvation\n",
    "    molecule_import = [\n",
    "        ### Imports sucrose\n",
    "        \"file:example_solutes/SUCROSE/sucrose.pdb moleculetype:SUCR\",\n",
    "        ### Imports benzene\n",
    "        \"file:example_solutes/M3_small_molecules/BENZENE/BENZ.gro moleculetype:BENZ\",\n",
    "        ### Imports toluene\n",
    "        \"file:example_solutes/M3_small_molecules/TOLUENE/TOLU.gro moleculetype:TOLU\",\n",
    "        ### Imports ethylnaphthalene\n",
    "        \"file:example_solutes/M3_small_molecules/ETHYLNAPHTHALENE/ENAPH.gro moleculetype:ENAPH\",\n",
    "    ],\n",
    "    \n",
    "    \n",
    "    ### Orders 10 of each imported molecule to be inserted\n",
    "    flooding = \"solute:SUCR:10 solute:BENZ:10 solute:TOLU:10 solute:ENAPH:10\",\n",
    "    \n",
    "    ### Solvates the system after it has been flooded\n",
    "    ### Floodings will always be done before solvations, irregardless of the order the arguments are given in\n",
    "    solvation = \"default\",\n",
    "    \n",
    "    itp_input = [\n",
    "        ### Original itp file containing most topologies used in the Tutorial\n",
    "        \"file:toppar/top_for_CGSB.itp\",\n",
    "        ### Sucrose itp file\n",
    "        \"include:example_solutes/SUCROSE/sucrose.itp\",\n",
    "        ### Benzenes itp file\n",
    "        \"include:example_solutes/M3_small_molecules/BENZENE/BENZ_cog.itp\",\n",
    "        ### Toluenes itp file\n",
    "        \"include:example_solutes/M3_small_molecules/TOLUENE/TOLU_cog.itp\",\n",
    "        ### Ethylnaphthalene itp file\n",
    "        \"include:example_solutes/M3_small_molecules/ETHYLNAPHTHALENE/ENAPH_cog.itp\",\n",
    "    ],\n",
    "    \n",
    "    out_sys = os.path.join(outdir, \"_\".join([\"output\", sysname])),\n",
    "    out_top = os.path.join(outdir, \"_\".join([\"topol\", sysname]) + \".top\"),\n",
    "    out_log = os.path.join(outdir, \"_\".join([\"log\", sysname]) + \".log\"),\n",
    "    \n",
    "    ### Designates the system name\n",
    "    sn = sysname,\n",
    ")"
   ]
  },
  {
   "cell_type": "markdown",
   "metadata": {
    "heading_collapsed": true
   },
   "source": [
    "# Import lipid"
   ]
  },
  {
   "cell_type": "markdown",
   "metadata": {
    "hidden": true
   },
   "source": [
    "This example shows how to import a lipid structure file, designate its orientation, and use it within a membrane.\n",
    "\n",
    "The lipid we will be importing is POPC, and while it is already present in the library, we will pretend for this example that it does not exist.\n",
    "\n",
    "Similar to the solute example, the structure and charge information, together with lipid orientation is specified under the ``molecule_import`` argument.\n",
    "\n",
    "Depending on whether there is an existing topology file for the lipid, there are two approaches for defining the lipid types:\n",
    "\n",
    "**1) Existing lipid topology file:** : \n",
    "\n",
    "The ``molecule_import`` argument takes subarguments ``file`` that points towards the solute structure file (pdb/gro), and ``moleculetype`` that specifies the name of the lipid (matching to the name under ``[ moleculetype ]`` in the topology file)    \n",
    "\n",
    "``molecule_import = \"file:LIPID.pdb moleculetype:LIPID_moleculetype``\n",
    "\n",
    "**2) No solute topology file:**\n",
    "\n",
    "If one does not have a topology file, then a reference name can be specified using ``name``, and charges can be manually designated using ``charge``.\n",
    "\n",
    "``molecule_import = \"file:LIPID.pdb name:LIPID_reference_name charge:[CHARGE_subargument]``\n",
    "\n",
    "\n",
    "**Charges** can be designated in one of four ways when no topology file is available:\n",
    "\n",
    "- No ``charge`` subargument: assumes that all beads in the molecule are uncharged\n",
    "\n",
    "- ``charge:[int]``: designates a sum charge that is spread evenly across all beads in the molecule. In this option, only one ``charge`` subargument is permitted. \n",
    "\n",
    "- ``charge:[float/int]:res:[resnr]:bead:[beadnr]``: specifies a charge for a specific bead in a specific residue. Any number of ``charge`` subarguments may be used.\n",
    "\n",
    "- ``charge:[float/int]:bead:[beadnr]``: specifies a charge for a specific bead. Any number of these may be used. Only applicable for single-residue molecules.\n",
    "\n",
    "\n",
    "In case of lipids, ``molecule_import`` takes two additional subarguments, used to determine the orientation of the lipid: ``upbead`` and ``downbead``. Both MUST be either specified or omitted from the argument. If they are omitted, the lipid is assumed to be already properly oriented (parallel to the z-axis).  \n",
    "\n",
    "- ``upbead``: designates upwards-pointing beads (away from the membrane center).\n",
    "\n",
    "- ``downbead``: designates downwards-pointing beads (towards the membrane center).\n",
    "\n",
    "If either ``upbead`` or ``downbead`` is given multiple times, then the mean position of the designated beads will be used. The syntax for using both subarguments is identical and is shown below:\n",
    "\n",
    "- no ``(up/down)bead`` subargument: assumes that lipid is already properly oriented.\n",
    "\n",
    "- ``(up/down)bead:[beadnr]:res:[resnr]``: specifies a bead in a specific residue.\n",
    "\n",
    "- ``(up/down)bead:[beadnr]``: specifies a bead. Only applicable for single-residue molecules.\n",
    "\n",
    "In addition, ``molecule_import`` can take a ``params`` subargument that defines a library where the lipid should be added. This is by default the ``default`` parameter library. In this example, the parameter library has been changed to ``params:IMPORTED``, as POPC is already present in the  ``default`` library.\n"
   ]
  },
  {
   "cell_type": "markdown",
   "metadata": {
    "hidden": true
   },
   "source": [
    "<div>\n",
    "<!-- height argument does not work in jupyter for whatever reason. Can't find any help online. -->\n",
    "<img src=\"figures/LipidImport.png\" width=\"400px\"/>\n",
    "</div>"
   ]
  },
  {
   "cell_type": "code",
   "execution_count": 25,
   "metadata": {
    "ExecuteTime": {
     "end_time": "2024-03-22T13:42:42.684893Z",
     "start_time": "2024-03-22T13:42:41.832966Z"
    },
    "hidden": true,
    "scrolled": false
   },
   "outputs": [
    {
     "name": "stdout",
     "output_type": "stream",
     "text": [
      "\n",
      "Setting random seed to: 1711114962\n",
      "-------------------------- PREPROCESSING DEFINITIONS ---------------------------\n",
      "---------------------- DEFINITIONS PREPROCESSING COMPLETE ----------------------\n",
      "                            (Time spent: 0.461 [s])                              \n",
      "\n",
      "---------------------------- PREPROCESSING COMMANDS ----------------------------\n",
      "------------------------ COMMAND PREPROCESSING COMPLETE ------------------------\n",
      "                            (Time spent: 0.0009 [s])                             \n",
      "\n",
      "----------------------- CREATING LEAFLET BOUNDARY BOXES ------------------------\n",
      "------------------------ LEAFLET BOUNDARY BOXES CREATED ------------------------\n",
      "                            (Time spent: 0.001 [s])                              \n",
      "\n",
      "------------------------ CREATING HOLED BOUNDARY BOXES -------------------------\n",
      "------------------------- HOLED BOUNDARY BOXES CREATED -------------------------\n",
      "                            (Time spent: 0.0005 [s])                             \n",
      "\n",
      "--------------------------- CALCULATING LIPID RATIOS ---------------------------\n",
      "---------------------- LIPID RATIO CALCULATIONS COMPLETE -----------------------\n",
      "                            (Time spent: 0.001 [s])                              \n",
      "\n",
      "----------------------------- CREATING LIPID GRID ------------------------------\n",
      "------------------------------ LIPID GRID CREATED ------------------------------\n",
      "                            (Time spent: 0.004 [s])                              \n",
      "\n",
      "------------------------------- CREATING LIPIDS --------------------------------\n",
      "--------------------------- LIPID CREATION COMPLETE ----------------------------\n",
      "                            (Time spent: 0.0626 [s])                             \n",
      "\n",
      "------------------------------- SOLVATING SYSTEM -------------------------------\n",
      "------------------------------ SOLVATION COMPLETE ------------------------------\n",
      "                            (Time spent: 0.069 [s])                              \n",
      "\n",
      "--------------------\n",
      "Final system charge: 0.0\n",
      "-------------------- \n",
      "\n",
      "---------------------- Writing structure files (PDB/GRO) -----------------------\n",
      "PDB file written: output_systems/LipidImport/output_LipidImport.pdb\n",
      "GRO file written: output_systems/LipidImport/output_LipidImport.gro\n",
      "\n",
      "---------------------------- Writing topology file -----------------------------\n",
      "Topology file written: output_systems/LipidImport/topol_LipidImport.top \n",
      "\n",
      "------------------------------- Writing log file -------------------------------\n",
      "Log file written: output_systems/LipidImport/log_LipidImport.log \n",
      "\n",
      "My task is complete. Did i do a good job?\n",
      "Time spent running CGSB: 0.8228\n"
     ]
    }
   ],
   "source": [
    "sysname = \"LipidImport\"\n",
    "outdir = os.path.join(\"output_systems\", sysname)\n",
    "os.makedirs(outdir, exist_ok=True)\n",
    "\n",
    "test = CGSB.CGSB(\n",
    "    ### Designates box size\n",
    "    box = [10, 10, 11], # [nm]\n",
    "    \n",
    "    ### Inserts POPC membrane\n",
    "    ### params:IMPORTED designates that POPC should be taken from the \"IMPORTED\" parameter library\n",
    "    membrane = \"lipid:POPC:params:IMPORTED\",\n",
    "    \n",
    "    ### ### Alternative if one wishes to manually set charges\n",
    "#     membrane = \"lipid:POPC:params:IMPORTED:charge:lib\",\n",
    "    \n",
    "    ### Default flooding argument equalling \"solv:W pos:NA neg:CL\"\n",
    "    solvation = \"default\",\n",
    "    \n",
    "    ### Imports a lipid\n",
    "    molecule_import = \" \".join([\n",
    "        ### Lipid structure file\n",
    "        \"file:example_lipids/POPC_rotated.pdb\",\n",
    "        \n",
    "        ### Name of the lipid in the topology files\n",
    "        \"moleculetype:POPC\",\n",
    "        \n",
    "        ### ### Alternative if one wishes to manually set charges\n",
    "        ### Reference name used in \"membrane\" argument\n",
    "#         \"name:POPC\",\n",
    "        ### Bead charges\n",
    "#         \"charge:1:res:0:bead:0\",  # Positively charged NC3 bead\n",
    "#         \"charge:-1:res:0:bead:1\", # Negatively charged PO4 bead\n",
    "        \n",
    "        ### Designates that the lipid should be placed in the \"IMPORTED\" parameter library\n",
    "        \"params:IMPORTED\",\n",
    "        \n",
    "        ### ### Note for the below subarguments that indexing starts at 0\n",
    "        ### Sets bead 0 in residue 0 (NC3) to be an upwards pointing bead\n",
    "        \"upbead:0:res:0\",\n",
    "        \n",
    "        ### Sets bead 7 in residue 0 (C4A) to be a downwards pointing bead\n",
    "        \"downbead:7:res:0\",\n",
    "        \n",
    "        ### Sets bead 11 in residue 0 (C4B) to be a downwards pointing bead\n",
    "        \"downbead:11:res:0\",\n",
    "    ]),\n",
    "    \n",
    "    itp_input = \"file:toppar/top_for_CGSB.itp\",\n",
    "    \n",
    "    out_sys = os.path.join(outdir, \"_\".join([\"output\", sysname])),\n",
    "    out_top = os.path.join(outdir, \"_\".join([\"topol\", sysname]) + \".top\"),\n",
    "    out_log = os.path.join(outdir, \"_\".join([\"log\", sysname]) + \".log\"),\n",
    "    \n",
    "    ### Designates the system name\n",
    "    sn = sysname,\n",
    ")\n"
   ]
  },
  {
   "cell_type": "markdown",
   "metadata": {
    "heading_collapsed": true
   },
   "source": [
    "# Custom Unit Cell"
   ]
  },
  {
   "cell_type": "markdown",
   "metadata": {
    "hidden": true
   },
   "source": [
    "This example shows how to manually set the unit cell parameters for the box. Here a ``dodecahedron`` box type is created using the arguments ``pdb_unitcell`` / ``gro_unitcell``.\n",
    "\n",
    "Only one unitcell argument can be used within the same CGSB command.\n",
    "\n",
    "Information regarding the formatting of the pdb \"unit cell\" values can be found here https://www.wwpdb.org/documentation/file-format-content/format33/sect8.html. \n",
    "\n",
    "A visual explanation of the meaning of the various values can be seen here https://en.wikipedia.org/wiki/Lattice_constant#/media/File:UnitCell.png.\n",
    "\n",
    "Information regarding the formatting of the gro \"unit cell\" values can be found here https://manual.gromacs.org/archive/5.0.3/online/gro.html.\n",
    "\n",
    "- Note that Gromacs requires that ``v1y = v1z = v2z = 0``. If a specified unit cell does not fulfill this requirement, then CGSB will throw an error and inform you.\n"
   ]
  },
  {
   "cell_type": "markdown",
   "metadata": {
    "hidden": true
   },
   "source": [
    "<div>\n",
    "<!-- height argument does not work in jupyter for whatever reason. Can't find any help online. -->\n",
    "<img src=\"figures/CustomUnitCell.png\" width=\"400px\"/>\n",
    "</div>"
   ]
  },
  {
   "cell_type": "code",
   "execution_count": 26,
   "metadata": {
    "ExecuteTime": {
     "end_time": "2024-03-22T13:42:44.524237Z",
     "start_time": "2024-03-22T13:42:42.686961Z"
    },
    "hidden": true
   },
   "outputs": [
    {
     "name": "stdout",
     "output_type": "stream",
     "text": [
      "\n",
      "Setting random seed to: 1711114963\n",
      "-------------------------- PREPROCESSING DEFINITIONS ---------------------------\n",
      "---------------------- DEFINITIONS PREPROCESSING COMPLETE ----------------------\n",
      "                            (Time spent: 0.4851 [s])                             \n",
      "\n",
      "---------------------------- PREPROCESSING COMMANDS ----------------------------\n",
      "------------------------ COMMAND PREPROCESSING COMPLETE ------------------------\n",
      "                            (Time spent: 0.0091 [s])                             \n",
      "\n",
      "------------------------------ PROTEIN PLACEMENT -------------------------------\n",
      "-------------------------- PROTEIN PLACEMENT COMPLETE --------------------------\n",
      "                            (Time spent: 0.006 [s])                              \n",
      "\n",
      "------------------------------- SOLVATING SYSTEM -------------------------------\n",
      "------------------------------ SOLVATION COMPLETE ------------------------------\n",
      "                            (Time spent: 0.918 [s])                              \n",
      "\n",
      "--------------------\n",
      "Final system charge: 0.0\n",
      "-------------------- \n",
      "\n",
      "---------------------- Writing structure files (PDB/GRO) -----------------------\n",
      "PDB file written: output_systems/CustomUnitCell/output_CustomUnitCell.pdb\n",
      "GRO file written: output_systems/CustomUnitCell/output_CustomUnitCell.gro\n",
      "\n",
      "---------------------------- Writing topology file -----------------------------\n",
      "Topology file written: output_systems/CustomUnitCell/topol_CustomUnitCell.top \n",
      "\n",
      "------------------------------- Writing log file -------------------------------\n",
      "Log file written: output_systems/CustomUnitCell/log_CustomUnitCell.log \n",
      "\n",
      "My task is complete. Did i do a good job?\n",
      "Time spent running CGSB: 1.8248\n"
     ]
    },
    {
     "data": {
      "text/plain": [
       "<CGSB.main_class.CGSB_class.CGSB at 0x7fc025eb9ac0>"
      ]
     },
     "execution_count": 26,
     "metadata": {},
     "output_type": "execute_result"
    }
   ],
   "source": [
    "sysname = \"CustomUnitCell\"\n",
    "outdir = os.path.join(\"output_systems\", sysname)\n",
    "os.makedirs(outdir, exist_ok=True)\n",
    "\n",
    "CGSB.CGSB(\n",
    "    ### PDB unitcell version (see https://www.wwpdb.org/documentation/file-format-content/format33/sect8.html for explanation)\n",
    "    ### pdb_unitcell = [x, y, z, alpha, beta, gamma],\n",
    "    pdb_unitcell = [15, 15, 15, 60, 60, 90],\n",
    "    ### GRO unitcell version (see https://manual.gromacs.org/archive/5.0.3/online/gro.html for explanation)\n",
    "    ### gro_unitcell = [v1x, v2y, v3z, v1y, v1z, v2x, v2z, v3x, v3y],\n",
    "#     gro_unitcell = [15, 15, 10.6066, 0, 0, 0, 0, 7.5, 7.5],\n",
    "    \n",
    "    ### Inserts protein\n",
    "    protein = \"file:example_proteins/PDB_8BB6_martinized.pdb moleculetypes:8BB6_CG\",\n",
    "    \n",
    "    ### Solvates the system using the default solvation settings of \"solv:W pos:NA neg:CL\"\n",
    "    solvation = \"default\",\n",
    "    \n",
    "    ### Uses topologies found in \"toppar/top_for_CGSB.itp\" for charge determination\n",
    "    itp_input = \"file:toppar/top_for_CGSB.itp\",\n",
    "    \n",
    "    ### File writing\n",
    "    out_sys = os.path.join(outdir, \"_\".join([\"output\", sysname])),\n",
    "    out_top = os.path.join(outdir, \"_\".join([\"topol\",  sysname]) + \".top\"),\n",
    "    out_log = os.path.join(outdir, \"_\".join([\"log\",    sysname]) + \".log\"),\n",
    "    \n",
    "    ### Designates the system name that is written in .pdb, .gro and .top files\n",
    "    sn = sysname,\n",
    ")"
   ]
  },
  {
   "cell_type": "markdown",
   "metadata": {},
   "source": [
    "# CGSB Logo"
   ]
  },
  {
   "cell_type": "markdown",
   "metadata": {},
   "source": [
    "This example shows how to create the CGSB logo using ``hole`` and ``patch`` subarguments.\n",
    "\n",
    "The details of the exercise are left for the user to understand."
   ]
  },
  {
   "cell_type": "markdown",
   "metadata": {},
   "source": [
    "<div>\n",
    "<!-- height argument does not work in jupyter for whatever reason. Can't find any help online. -->\n",
    "<img src=\"figures/CGSB_Logo.png\" width=\"800px\"/>\n",
    "</div>"
   ]
  },
  {
   "cell_type": "code",
   "execution_count": 27,
   "metadata": {
    "ExecuteTime": {
     "end_time": "2024-03-22T13:42:49.048502Z",
     "start_time": "2024-03-22T13:42:44.528588Z"
    },
    "scrolled": false
   },
   "outputs": [
    {
     "name": "stdout",
     "output_type": "stream",
     "text": [
      "\n",
      "Setting random seed to: 1711114965\n",
      "-------------------------- PREPROCESSING DEFINITIONS ---------------------------\n",
      "---------------------- DEFINITIONS PREPROCESSING COMPLETE ----------------------\n",
      "                            (Time spent: 0.4455 [s])                             \n",
      "\n",
      "---------------------------- PREPROCESSING COMMANDS ----------------------------\n",
      "WARNING: Leaflet exceeds x-bounds of box in the positive x-direction. Will be corrected to fit pbc.\n",
      "WARNING: Leaflet exceeds x-bounds of box in the positive x-direction. Will be corrected to fit pbc.\n",
      "WARNING: Leaflet exceeds x-bounds of box in the positive x-direction. Will be corrected to fit pbc.\n",
      "WARNING: Leaflet exceeds x-bounds of box in the positive x-direction. Will be corrected to fit pbc.\n",
      "WARNING: Leaflet exceeds x-bounds of box in the positive x-direction. Will be corrected to fit pbc.\n",
      "WARNING: Leaflet exceeds x-bounds of box in the positive x-direction. Will be corrected to fit pbc.\n",
      "------------------------ COMMAND PREPROCESSING COMPLETE ------------------------\n",
      "                            (Time spent: 0.0067 [s])                             \n",
      "\n",
      "----------------------- CREATING LEAFLET BOUNDARY BOXES ------------------------\n",
      "------------------------ LEAFLET BOUNDARY BOXES CREATED ------------------------\n",
      "                            (Time spent: 0.0056 [s])                             \n",
      "\n",
      "------------------------ CREATING HOLED BOUNDARY BOXES -------------------------\n",
      "------------------------- HOLED BOUNDARY BOXES CREATED -------------------------\n",
      "                            (Time spent: 0.019 [s])                              \n",
      "\n",
      "--------------------------- CALCULATING LIPID RATIOS ---------------------------\n",
      "---------------------- LIPID RATIO CALCULATIONS COMPLETE -----------------------\n",
      "                            (Time spent: 0.0078 [s])                             \n",
      "\n",
      "----------------------------- CREATING LIPID GRID ------------------------------\n",
      "------------------------------ LIPID GRID CREATED ------------------------------\n",
      "                            (Time spent: 0.1846 [s])                             \n",
      "\n",
      "------------------------------- CREATING LIPIDS --------------------------------\n",
      "--------------------------- LIPID CREATION COMPLETE ----------------------------\n",
      "                            (Time spent: 0.3636 [s])                             \n",
      "\n",
      "------------------------------- SOLVATING SYSTEM -------------------------------\n",
      "------------------------------ SOLVATION COMPLETE ------------------------------\n",
      "                            (Time spent: 1.333 [s])                              \n",
      "\n",
      "--------------------\n",
      "Final system charge: 0.0\n",
      "-------------------- \n",
      "\n",
      "---------------------- Writing structure files (PDB/GRO) -----------------------\n",
      "PDB file written: output_systems/CGSB_Logo/output_CGSB_Logo.pdb\n",
      "GRO file written: output_systems/CGSB_Logo/output_CGSB_Logo.gro\n",
      "\n",
      "---------------------------- Writing topology file -----------------------------\n",
      "Topology file written: output_systems/CGSB_Logo/topol_CGSB_Logo.top \n",
      "\n",
      "------------------------------- Writing log file -------------------------------\n",
      "Log file written: output_systems/CGSB_Logo/log_CGSB_Logo.log \n",
      "\n",
      "My task is complete. Did i do a good job?\n",
      "Time spent running CGSB: 4.5013\n"
     ]
    },
    {
     "data": {
      "text/plain": [
       "<CGSB.main_class.CGSB_class.CGSB at 0x7fc05002e910>"
      ]
     },
     "execution_count": 27,
     "metadata": {},
     "output_type": "execute_result"
    }
   ],
   "source": [
    "sysname = \"CGSB_Logo\"\n",
    "outdir = os.path.join(\"output_systems\", sysname)\n",
    "os.makedirs(outdir, exist_ok=True)\n",
    "\n",
    "CGSB.CGSB(\n",
    "    ### Designates box size\n",
    "    box = [54, 20, 10], # [nm]\n",
    "    \n",
    "    membrane = [\n",
    "        ### ### ### C\n",
    "        ### C\n",
    "        \" \".join([\n",
    "            \"lipid:POPC\",\n",
    "            \"cx:-20 xlength:14\",\n",
    "            \"patch:ellipse:xradius:9:yradius:10:cx:2:cy:0\",\n",
    "            \"hole:ellipse:xradius:5:yradius:6:cx:2:cy:0\",\n",
    "        ]),\n",
    "        \n",
    "        ### ### ### G\n",
    "        ### G - Circular part\n",
    "        \" \".join([\n",
    "            \"lipid:POPC\",\n",
    "            \"cx:-5 xlength:14\",\n",
    "            \"patch:ellipse:xradius:9:yradius:10:cx:2:cy:0\",\n",
    "            \"hole:ellipse:xradius:5:yradius:6:cx:2:cy:0\",\n",
    "            \"hole:rectangle:xlength:2:ylength:10:cx:6:cy:-5\",\n",
    "        ]),\n",
    "        ### G - Line from right to center\n",
    "        \" \".join([\n",
    "            \"lipid:POPC\",\n",
    "            \"cx:-3 xlength:16\",\n",
    "            \"patch:rectangle:xlength:5:ylength:2.2:cx:0.45:cy:-1.1\",\n",
    "        ]),\n",
    "        ### G - Line from right to bottom\n",
    "        \" \".join([\n",
    "            \"lipid:POPC\",\n",
    "            \"cx:-3 xlength:16\",\n",
    "            \"patch:rectangle:xlength:2.2:ylength:10:cx:3.9:cy:-5\",\n",
    "        ]),\n",
    "        \n",
    "        ### ### ### S\n",
    "        ### S - Top half\n",
    "        \" \".join([\n",
    "            \"lipid:POPC\",\n",
    "            \"cx:8.5 xlength:12\",\n",
    "            \"patch:ellipse:xradius:6:yradius:6:cx:2:cy:4\",\n",
    "            \"hole:ellipse:xradius:2:yradius:2:cx:2:cy:4\",\n",
    "            \"hole:rectangle:xlength:16:ylength:10:cx:10:cy:0\",\n",
    "        ]),\n",
    "        ### S - Bottom half\n",
    "        \" \".join([\n",
    "            \"lipid:POPC\",\n",
    "            \"cx:11.5 xlength:12\",\n",
    "            \"patch:ellipse:xradius:6:yradius:6:cx:-2:cy:-4\",\n",
    "            \"hole:ellipse:xradius:2:yradius:2:cx:-2:cy:-4\",\n",
    "            \"hole:rectangle:xlength:16:ylength:10:cx:-9:cy:0\",\n",
    "        ]),\n",
    "\n",
    "        ### ### ### B\n",
    "        ### B - Left vertical line\n",
    "        \" \".join([\n",
    "            \"lipid:POPC\",\n",
    "            \"cx:23 xlength:14\",\n",
    "            \"patch:rectangle:xlength:3:ylength:20:cx:-4.5:cy:0\",\n",
    "        ]),\n",
    "        ### B - Top bubble\n",
    "        \" \".join([\n",
    "            \"lipid:POPC\",\n",
    "            \"cx:25 xlength:10\",\n",
    "            \"patch:ellipse:xradius:6:yradius:5.5:cx:-5:cy:4.5\",\n",
    "            \"hole:ellipse:xradius:3:yradius:2.5:cx:-5:cy:4.5\",\n",
    "            \"hole:rectangle:xlength:10:ylength:10:cx:0:cy:-5\",\n",
    "        ]),\n",
    "        ### B - Bottom bubble\n",
    "        \" \".join([\n",
    "            \"lipid:POPC\",\n",
    "            \"cx:25 xlength:10\",\n",
    "            \"patch:ellipse:xradius:7:yradius:5.5:cx:-5:cy:-4.5\",\n",
    "            \"hole:ellipse:xradius:4:yradius:2.5:cx:-5:cy:-4.5\",\n",
    "            \"hole:rectangle:xlength:10:ylength:10:cx:0:cy:5\",\n",
    "        ]),\n",
    "    ],\n",
    "    \n",
    "    ### Solvates the system using the default solvation settings of \"solv:W pos:NA neg:CL\"\n",
    "    solvation = \"default\",\n",
    "    \n",
    "    ### Uses topologies found in \"toppar/top_for_CGSB.itp\" for charge determination\n",
    "    itp_input = \"file:toppar/top_for_CGSB.itp\",\n",
    "    \n",
    "    ### File writing\n",
    "    out_sys = os.path.join(outdir, \"_\".join([\"output\", sysname])),\n",
    "    out_top = os.path.join(outdir, \"_\".join([\"topol\",  sysname]) + \".top\"),\n",
    "    out_log = os.path.join(outdir, \"_\".join([\"log\",    sysname]) + \".log\"),\n",
    "    \n",
    "    ### Designates the system name that is written in .pdb, .gro and .top files\n",
    "    sn = sysname,\n",
    ")"
   ]
  }
 ],
 "metadata": {
  "hide_input": false,
  "kernelspec": {
   "display_name": "Python 3 (ipykernel)",
   "language": "python",
   "name": "python3"
  },
  "language_info": {
   "codemirror_mode": {
    "name": "ipython",
    "version": 3
   },
   "file_extension": ".py",
   "mimetype": "text/x-python",
   "name": "python",
   "nbconvert_exporter": "python",
   "pygments_lexer": "ipython3",
   "version": "3.9.16"
  },
  "toc": {
   "base_numbering": 1,
   "nav_menu": {},
   "number_sections": true,
   "sideBar": true,
   "skip_h1_title": false,
   "title_cell": "Table of Contents",
   "title_sidebar": "Contents",
   "toc_cell": false,
   "toc_position": {},
   "toc_section_display": true,
   "toc_window_display": false
  }
 },
 "nbformat": 4,
 "nbformat_minor": 4
}
